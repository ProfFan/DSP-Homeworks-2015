{
 "cells": [
  {
   "cell_type": "markdown",
   "metadata": {},
   "source": [
    "\\author{ProfFan}\n",
    "# Introduction\n",
    "\n",
    "This is the solution for DSP Autumn 2015 Homework 2.\n"
   ]
  },
  {
   "cell_type": "markdown",
   "metadata": {},
   "source": [
    "# Exercise Problems\n",
    "\n",
    "## Question 1\n",
    "\n",
    "Determine the z-transforms of the following signals.  \n",
    "(1) $x(n)=\\{1,2,\\underline{5},7,0,1\\}$,  \n",
    "(2) $x(n)=\\delta(n-k),k>0$,  \n",
    "(3) $x(n)=(\\frac 1 2)^n u(n)$."
   ]
  },
  {
   "cell_type": "code",
   "execution_count": null,
   "metadata": {
    "collapsed": true
   },
   "outputs": [],
   "source": [
    "syms z\n",
    "x1 = [1 2 5 7 0 1].*z.^[2:-1:-3]"
   ]
  },
  {
   "cell_type": "markdown",
   "metadata": {},
   "source": [
    "x1 =\n",
    " \n",
    "[ z^2, 2*z, 5, 7/z, 0, 1/z^3]"
   ]
  },
  {
   "cell_type": "code",
   "execution_count": 17,
   "metadata": {
    "collapsed": false
   },
   "outputs": [
    {
     "data": {},
     "execution_count": 17,
     "metadata": {},
     "output_type": "execute_result"
    }
   ],
   "source": [
    "pkg load signal"
   ]
  },
  {
   "cell_type": "code",
   "execution_count": null,
   "metadata": {
    "collapsed": true
   },
   "outputs": [],
   "source": [
    "syms n z k\n",
    "ztrans(kroneckerDelta(n - k), n, z)"
   ]
  },
  {
   "cell_type": "markdown",
   "metadata": {},
   "source": [
    "ans =\n",
    " \n",
    "piecewise([0 <= k & in(k, 'integer'), 1/z^k], [k <= -1 | ~in(k, 'integer'), 0])\n"
   ]
  },
  {
   "cell_type": "code",
   "execution_count": null,
   "metadata": {
    "collapsed": true
   },
   "outputs": [],
   "source": [
    "syms n z k\n",
    "ztrans((1/2)^n*heaviside(n), n, z)"
   ]
  },
  {
   "cell_type": "markdown",
   "metadata": {},
   "source": [
    "ans =\n",
    " \n",
    "1/(2*z - 1) + 1/2"
   ]
  },
  {
   "cell_type": "markdown",
   "metadata": {},
   "source": [
    "## Question 2\n",
    "\n",
    "Plot the magnitude and phase of $H(e^{j\\omega}) = \\frac{1-e^{-j2\\omega}}{1-0.81e^{-j2\\omega}}$ , plot its magnitude and phase over $0\\leq \\omega \\leq \\pi$"
   ]
  },
  {
   "cell_type": "code",
   "execution_count": 22,
   "metadata": {
    "collapsed": false
   },
   "outputs": [
    {
     "data": {
      "image/svg+xml": [
       "<svg viewBox=\"0 0 268 201\" xmlns=\"http://www.w3.org/2000/svg\" xmlns:xlink=\"http://www.w3.org/1999/xlink\">\n",
       "\n",
       "<title>Gnuplot</title>\n",
       "<desc>Produced by GNUPLOT 5.0 patchlevel 1 </desc>\n",
       "\n",
       "<g id=\"gnuplot_canvas\">\n",
       "\n",
       "<rect fill=\"none\" height=\"201\" width=\"268\" x=\"0\" y=\"0\"/>\n",
       "<defs>\n",
       "\n",
       "\t<circle id=\"gpDot\" r=\"0.5\" stroke-width=\"0.5\"/>\n",
       "\t<path d=\"M-1,0 h2 M0,-1 v2\" id=\"gpPt0\" stroke=\"currentColor\" stroke-width=\"0.333\"/>\n",
       "\t<path d=\"M-1,-1 L1,1 M1,-1 L-1,1\" id=\"gpPt1\" stroke=\"currentColor\" stroke-width=\"0.333\"/>\n",
       "\t<path d=\"M-1,0 L1,0 M0,-1 L0,1 M-1,-1 L1,1 M-1,1 L1,-1\" id=\"gpPt2\" stroke=\"currentColor\" stroke-width=\"0.333\"/>\n",
       "\t<rect height=\"2\" id=\"gpPt3\" stroke=\"currentColor\" stroke-width=\"0.333\" width=\"2\" x=\"-1\" y=\"-1\"/>\n",
       "\t<rect fill=\"currentColor\" height=\"2\" id=\"gpPt4\" stroke=\"currentColor\" stroke-width=\"0.333\" width=\"2\" x=\"-1\" y=\"-1\"/>\n",
       "\t<circle cx=\"0\" cy=\"0\" id=\"gpPt5\" r=\"1\" stroke=\"currentColor\" stroke-width=\"0.333\"/>\n",
       "\t<use fill=\"currentColor\" id=\"gpPt6\" stroke=\"none\" xlink:href=\"#gpPt5\"/>\n",
       "\t<path d=\"M0,-1.33 L-1.33,0.67 L1.33,0.67 z\" id=\"gpPt7\" stroke=\"currentColor\" stroke-width=\"0.333\"/>\n",
       "\t<use fill=\"currentColor\" id=\"gpPt8\" stroke=\"none\" xlink:href=\"#gpPt7\"/>\n",
       "\t<use id=\"gpPt9\" stroke=\"currentColor\" transform=\"rotate(180)\" xlink:href=\"#gpPt7\"/>\n",
       "\t<use fill=\"currentColor\" id=\"gpPt10\" stroke=\"none\" xlink:href=\"#gpPt9\"/>\n",
       "\t<use id=\"gpPt11\" stroke=\"currentColor\" transform=\"rotate(45)\" xlink:href=\"#gpPt3\"/>\n",
       "\t<use fill=\"currentColor\" id=\"gpPt12\" stroke=\"none\" xlink:href=\"#gpPt11\"/>\n",
       "\t<path d=\"M0,1.330 L1.265,0.411 L0.782,-1.067 L-0.782,-1.076 L-1.265,0.411 z\" id=\"gpPt13\" stroke=\"currentColor\" stroke-width=\"0.333\"/>\n",
       "\t<use fill=\"currentColor\" id=\"gpPt14\" stroke=\"none\" xlink:href=\"#gpPt13\"/>\n",
       "\t<filter filterUnits=\"objectBoundingBox\" height=\"1\" id=\"textbox\" width=\"1\" x=\"0\" y=\"0\">\n",
       "\t  <feFlood flood-color=\"white\" flood-opacity=\"1\" result=\"bgnd\"/>\n",
       "\t  <feComposite in=\"SourceGraphic\" in2=\"bgnd\" operator=\"atop\"/>\n",
       "\t</filter>\n",
       "\t<filter filterUnits=\"objectBoundingBox\" height=\"1\" id=\"greybox\" width=\"1\" x=\"0\" y=\"0\">\n",
       "\t  <feFlood flood-color=\"lightgrey\" flood-opacity=\"1\" result=\"grey\"/>\n",
       "\t  <feComposite in=\"SourceGraphic\" in2=\"grey\" operator=\"atop\"/>\n",
       "\t</filter>\n",
       "</defs>\n",
       "<g color=\"white\" fill=\"none\" stroke=\"currentColor\" stroke-linecap=\"butt\" stroke-linejoin=\"miter\" stroke-width=\"1.00\">\n",
       "</g>\n",
       "<g color=\"black\" fill=\"none\" stroke=\"currentColor\" stroke-linecap=\"butt\" stroke-linejoin=\"miter\" stroke-width=\"1.00\">\n",
       "\t<g shape-rendering=\"crispEdges\" stroke=\"none\">\n",
       "\t\t<polygon fill=\"rgb(255, 255, 255)\" points=\"34.9,82.7 243.0,82.7 243.0,15.4 34.9,15.4 \"/>\n",
       "\t</g>\n",
       "</g>\n",
       "<g color=\"black\" fill=\"none\" stroke=\"rgb(255, 255, 255)\" stroke-linecap=\"butt\" stroke-linejoin=\"miter\" stroke-width=\"0.50\">\n",
       "</g>\n",
       "<g color=\"black\" fill=\"none\" stroke=\"currentColor\" stroke-linecap=\"butt\" stroke-linejoin=\"miter\" stroke-width=\"0.50\">\n",
       "\t<path d=\"M34.9,82.7 L43.3,82.7 M243.1,82.7 L234.7,82.7  \" stroke=\"black\"/>\t<g fill=\"rgb(0,0,0)\" font-family=\"{}\" font-size=\"10.00\" stroke=\"none\" text-anchor=\"end\" transform=\"translate(29.3,86.4)\">\n",
       "\t\t<text><tspan font-family=\"{}\">0</tspan></text>\n",
       "\t</g>\n",
       "</g>\n",
       "<g color=\"black\" fill=\"none\" stroke=\"currentColor\" stroke-linecap=\"butt\" stroke-linejoin=\"miter\" stroke-width=\"0.50\">\n",
       "\t<path d=\"M34.9,73.1 L43.3,73.1 M243.1,73.1 L234.7,73.1  \" stroke=\"black\"/>\t<g fill=\"rgb(0,0,0)\" font-family=\"{}\" font-size=\"10.00\" stroke=\"none\" text-anchor=\"end\" transform=\"translate(29.3,76.8)\">\n",
       "\t\t<text><tspan font-family=\"{}\">0.2</tspan></text>\n",
       "\t</g>\n",
       "</g>\n",
       "<g color=\"black\" fill=\"none\" stroke=\"currentColor\" stroke-linecap=\"butt\" stroke-linejoin=\"miter\" stroke-width=\"0.50\">\n",
       "\t<path d=\"M34.9,63.4 L43.3,63.4 M243.1,63.4 L234.7,63.4  \" stroke=\"black\"/>\t<g fill=\"rgb(0,0,0)\" font-family=\"{}\" font-size=\"10.00\" stroke=\"none\" text-anchor=\"end\" transform=\"translate(29.3,67.1)\">\n",
       "\t\t<text><tspan font-family=\"{}\">0.4</tspan></text>\n",
       "\t</g>\n",
       "</g>\n",
       "<g color=\"black\" fill=\"none\" stroke=\"currentColor\" stroke-linecap=\"butt\" stroke-linejoin=\"miter\" stroke-width=\"0.50\">\n",
       "\t<path d=\"M34.9,53.8 L43.3,53.8 M243.1,53.8 L234.7,53.8  \" stroke=\"black\"/>\t<g fill=\"rgb(0,0,0)\" font-family=\"{}\" font-size=\"10.00\" stroke=\"none\" text-anchor=\"end\" transform=\"translate(29.3,57.5)\">\n",
       "\t\t<text><tspan font-family=\"{}\">0.6</tspan></text>\n",
       "\t</g>\n",
       "</g>\n",
       "<g color=\"black\" fill=\"none\" stroke=\"currentColor\" stroke-linecap=\"butt\" stroke-linejoin=\"miter\" stroke-width=\"0.50\">\n",
       "\t<path d=\"M34.9,44.2 L43.3,44.2 M243.1,44.2 L234.7,44.2  \" stroke=\"black\"/>\t<g fill=\"rgb(0,0,0)\" font-family=\"{}\" font-size=\"10.00\" stroke=\"none\" text-anchor=\"end\" transform=\"translate(29.3,47.9)\">\n",
       "\t\t<text><tspan font-family=\"{}\">0.8</tspan></text>\n",
       "\t</g>\n",
       "</g>\n",
       "<g color=\"black\" fill=\"none\" stroke=\"currentColor\" stroke-linecap=\"butt\" stroke-linejoin=\"miter\" stroke-width=\"0.50\">\n",
       "\t<path d=\"M34.9,34.6 L43.3,34.6 M243.1,34.6 L234.7,34.6  \" stroke=\"black\"/>\t<g fill=\"rgb(0,0,0)\" font-family=\"{}\" font-size=\"10.00\" stroke=\"none\" text-anchor=\"end\" transform=\"translate(29.3,38.3)\">\n",
       "\t\t<text><tspan font-family=\"{}\">1</tspan></text>\n",
       "\t</g>\n",
       "</g>\n",
       "<g color=\"black\" fill=\"none\" stroke=\"currentColor\" stroke-linecap=\"butt\" stroke-linejoin=\"miter\" stroke-width=\"0.50\">\n",
       "\t<path d=\"M34.9,24.9 L43.3,24.9 M243.1,24.9 L234.7,24.9  \" stroke=\"black\"/>\t<g fill=\"rgb(0,0,0)\" font-family=\"{}\" font-size=\"10.00\" stroke=\"none\" text-anchor=\"end\" transform=\"translate(29.3,28.6)\">\n",
       "\t\t<text><tspan font-family=\"{}\">1.2</tspan></text>\n",
       "\t</g>\n",
       "</g>\n",
       "<g color=\"black\" fill=\"none\" stroke=\"currentColor\" stroke-linecap=\"butt\" stroke-linejoin=\"miter\" stroke-width=\"0.50\">\n",
       "\t<path d=\"M34.9,15.3 L43.3,15.3 M243.1,15.3 L234.7,15.3  \" stroke=\"black\"/>\t<g fill=\"rgb(0,0,0)\" font-family=\"{}\" font-size=\"10.00\" stroke=\"none\" text-anchor=\"end\" transform=\"translate(29.3,19.0)\">\n",
       "\t\t<text><tspan font-family=\"{}\">1.4</tspan></text>\n",
       "\t</g>\n",
       "</g>\n",
       "<g color=\"black\" fill=\"none\" stroke=\"currentColor\" stroke-linecap=\"butt\" stroke-linejoin=\"miter\" stroke-width=\"0.50\">\n",
       "\t<path d=\"M34.9,82.7 L34.9,74.3 M34.9,15.3 L34.9,23.7  \" stroke=\"black\"/>\t<g fill=\"rgb(0,0,0)\" font-family=\"{}\" font-size=\"10.00\" stroke=\"none\" text-anchor=\"middle\" transform=\"translate(34.9,98.4)\">\n",
       "\t\t<text><tspan font-family=\"{}\">0</tspan></text>\n",
       "\t</g>\n",
       "</g>\n",
       "<g color=\"black\" fill=\"none\" stroke=\"currentColor\" stroke-linecap=\"butt\" stroke-linejoin=\"miter\" stroke-width=\"0.50\">\n",
       "\t<path d=\"M64.6,82.7 L64.6,74.3 M64.6,15.3 L64.6,23.7  \" stroke=\"black\"/>\t<g fill=\"rgb(0,0,0)\" font-family=\"{}\" font-size=\"10.00\" stroke=\"none\" text-anchor=\"middle\" transform=\"translate(64.6,98.4)\">\n",
       "\t\t<text><tspan font-family=\"{}\">0.5</tspan></text>\n",
       "\t</g>\n",
       "</g>\n",
       "<g color=\"black\" fill=\"none\" stroke=\"currentColor\" stroke-linecap=\"butt\" stroke-linejoin=\"miter\" stroke-width=\"0.50\">\n",
       "\t<path d=\"M94.4,82.7 L94.4,74.3 M94.4,15.3 L94.4,23.7  \" stroke=\"black\"/>\t<g fill=\"rgb(0,0,0)\" font-family=\"{}\" font-size=\"10.00\" stroke=\"none\" text-anchor=\"middle\" transform=\"translate(94.4,98.4)\">\n",
       "\t\t<text><tspan font-family=\"{}\">1</tspan></text>\n",
       "\t</g>\n",
       "</g>\n",
       "<g color=\"black\" fill=\"none\" stroke=\"currentColor\" stroke-linecap=\"butt\" stroke-linejoin=\"miter\" stroke-width=\"0.50\">\n",
       "\t<path d=\"M124.1,82.7 L124.1,74.3 M124.1,15.3 L124.1,23.7  \" stroke=\"black\"/>\t<g fill=\"rgb(0,0,0)\" font-family=\"{}\" font-size=\"10.00\" stroke=\"none\" text-anchor=\"middle\" transform=\"translate(124.1,98.4)\">\n",
       "\t\t<text><tspan font-family=\"{}\">1.5</tspan></text>\n",
       "\t</g>\n",
       "</g>\n",
       "<g color=\"black\" fill=\"none\" stroke=\"currentColor\" stroke-linecap=\"butt\" stroke-linejoin=\"miter\" stroke-width=\"0.50\">\n",
       "\t<path d=\"M153.9,82.7 L153.9,74.3 M153.9,15.3 L153.9,23.7  \" stroke=\"black\"/>\t<g fill=\"rgb(0,0,0)\" font-family=\"{}\" font-size=\"10.00\" stroke=\"none\" text-anchor=\"middle\" transform=\"translate(153.9,98.4)\">\n",
       "\t\t<text><tspan font-family=\"{}\">2</tspan></text>\n",
       "\t</g>\n",
       "</g>\n",
       "<g color=\"black\" fill=\"none\" stroke=\"currentColor\" stroke-linecap=\"butt\" stroke-linejoin=\"miter\" stroke-width=\"0.50\">\n",
       "\t<path d=\"M183.6,82.7 L183.6,74.3 M183.6,15.3 L183.6,23.7  \" stroke=\"black\"/>\t<g fill=\"rgb(0,0,0)\" font-family=\"{}\" font-size=\"10.00\" stroke=\"none\" text-anchor=\"middle\" transform=\"translate(183.6,98.4)\">\n",
       "\t\t<text><tspan font-family=\"{}\">2.5</tspan></text>\n",
       "\t</g>\n",
       "</g>\n",
       "<g color=\"black\" fill=\"none\" stroke=\"currentColor\" stroke-linecap=\"butt\" stroke-linejoin=\"miter\" stroke-width=\"0.50\">\n",
       "\t<path d=\"M213.4,82.7 L213.4,74.3 M213.4,15.3 L213.4,23.7  \" stroke=\"black\"/>\t<g fill=\"rgb(0,0,0)\" font-family=\"{}\" font-size=\"10.00\" stroke=\"none\" text-anchor=\"middle\" transform=\"translate(213.4,98.4)\">\n",
       "\t\t<text><tspan font-family=\"{}\">3</tspan></text>\n",
       "\t</g>\n",
       "</g>\n",
       "<g color=\"black\" fill=\"none\" stroke=\"currentColor\" stroke-linecap=\"butt\" stroke-linejoin=\"miter\" stroke-width=\"0.50\">\n",
       "\t<path d=\"M243.1,82.7 L243.1,74.3 M243.1,15.3 L243.1,23.7  \" stroke=\"black\"/>\t<g fill=\"rgb(0,0,0)\" font-family=\"{}\" font-size=\"10.00\" stroke=\"none\" text-anchor=\"middle\" transform=\"translate(243.1,98.4)\">\n",
       "\t\t<text><tspan font-family=\"{}\">3.5</tspan></text>\n",
       "\t</g>\n",
       "</g>\n",
       "<g color=\"black\" fill=\"none\" stroke=\"currentColor\" stroke-linecap=\"butt\" stroke-linejoin=\"miter\" stroke-width=\"0.50\">\n",
       "</g>\n",
       "<g color=\"black\" fill=\"none\" stroke=\"currentColor\" stroke-linecap=\"butt\" stroke-linejoin=\"miter\" stroke-width=\"0.50\">\n",
       "\t<path d=\"M34.9,15.3 L34.9,82.7 L243.1,82.7 L243.1,15.3 L34.9,15.3 Z  \" stroke=\"black\"/></g>\n",
       "<g color=\"black\" fill=\"none\" stroke=\"currentColor\" stroke-linecap=\"butt\" stroke-linejoin=\"miter\" stroke-width=\"0.50\">\n",
       "</g>\n",
       "\t<g id=\"gnuplot_plot_1a\"><title>gnuplot_plot_1a</title>\n",
       "<g color=\"black\" fill=\"none\" stroke=\"currentColor\" stroke-linecap=\"butt\" stroke-linejoin=\"miter\" stroke-width=\"0.50\">\n",
       "\t<path d=\"M34.9,82.7 L35.1,81.1 L35.3,79.5 L35.5,77.9 L35.6,76.4 L35.8,74.8 L36.0,73.3 L36.2,71.8   L36.4,70.3 L36.6,68.9 L36.8,67.4 L37.0,66.1 L37.1,64.7 L37.3,63.4 L37.5,62.1 L37.7,60.9   L37.9,59.7 L38.1,58.6 L38.3,57.4 L38.5,56.4 L38.6,55.4 L38.8,54.4 L39.0,53.4 L39.2,52.5   L39.4,51.6 L39.6,50.8 L39.8,50.0 L39.9,49.2 L40.1,48.5 L40.3,47.8 L40.5,47.1 L40.7,46.5   L40.9,45.8 L41.1,45.3 L41.3,44.7 L41.4,44.1 L41.6,43.6 L41.8,43.1 L42.0,42.7 L42.2,42.2   L42.4,41.8 L42.6,41.4 L42.7,41.0 L42.9,40.6 L43.1,40.2 L43.3,39.9 L43.5,39.6 L43.7,39.2   L43.9,38.9 L44.1,38.6 L44.2,38.4 L44.4,38.1 L44.6,37.8 L44.8,37.6 L45.0,37.3 L45.2,37.1   L45.4,36.9 L45.6,36.7 L45.7,36.5 L45.9,36.3 L46.1,36.1 L46.3,35.9 L46.5,35.7 L46.7,35.6   L46.9,35.4 L47.0,35.3 L47.2,35.1 L47.4,35.0 L47.6,34.8 L47.8,34.7 L48.0,34.5 L48.2,34.4   L48.4,34.3 L48.5,34.2 L48.7,34.1 L48.9,34.0 L49.1,33.9 L49.3,33.7 L49.5,33.6 L49.7,33.6   L49.9,33.5 L50.0,33.4 L50.2,33.3 L50.4,33.2 L50.6,33.1 L50.8,33.0 L51.0,33.0 L51.2,32.9   L51.3,32.8 L51.5,32.7 L51.7,32.7 L51.9,32.6 L52.1,32.5 L52.3,32.5 L52.5,32.4 L52.7,32.4   L52.8,32.3 L53.0,32.2 L53.2,32.2 L53.4,32.1 L53.6,32.1 L53.8,32.0 L54.0,32.0 L54.1,31.9   L54.3,31.9 L54.5,31.8 L54.7,31.8 L54.9,31.8 L55.1,31.7 L55.3,31.7 L55.5,31.6 L55.6,31.6   L55.8,31.6 L56.0,31.5 L56.2,31.5 L56.4,31.4 L56.6,31.4 L56.8,31.4 L57.0,31.3 L57.1,31.3   L57.3,31.3 L57.5,31.2 L57.7,31.2 L57.9,31.2 L58.1,31.2 L58.3,31.1 L58.4,31.1 L58.6,31.1   L58.8,31.1 L59.0,31.0 L59.2,31.0 L59.4,31.0 L59.6,31.0 L59.8,30.9 L59.9,30.9 L60.1,30.9   L60.3,30.9 L60.5,30.8 L60.7,30.8 L60.9,30.8 L61.1,30.8 L61.3,30.8 L61.4,30.7 L61.6,30.7   L61.8,30.7 L62.0,30.7 L62.2,30.7 L62.4,30.6 L62.6,30.6 L62.7,30.6 L62.9,30.6 L63.1,30.6   L63.3,30.6 L63.5,30.5 L63.7,30.5 L63.9,30.5 L64.1,30.5 L64.2,30.5 L64.4,30.5 L64.6,30.5   L64.8,30.4 L65.0,30.4 L65.2,30.4 L65.4,30.4 L65.5,30.4 L65.7,30.4 L65.9,30.4 L66.1,30.4   L66.3,30.3 L66.5,30.3 L66.7,30.3 L66.9,30.3 L67.0,30.3 L67.2,30.3 L67.4,30.3 L67.6,30.3   L67.8,30.3 L68.0,30.2 L68.2,30.2 L68.4,30.2 L68.5,30.2 L68.7,30.2 L68.9,30.2 L69.1,30.2   L69.3,30.2 L69.5,30.2 L69.7,30.2 L69.8,30.2 L70.0,30.1 L70.2,30.1 L70.4,30.1 L70.6,30.1   L70.8,30.1 L71.0,30.1 L71.2,30.1 L71.3,30.1 L71.5,30.1 L71.7,30.1 L71.9,30.1 L72.1,30.1   L72.3,30.1 L72.5,30.0 L72.6,30.0 L72.8,30.0 L73.0,30.0 L73.2,30.0 L73.4,30.0 L73.6,30.0   L73.8,30.0 L74.0,30.0 L74.1,30.0 L74.3,30.0 L74.5,30.0 L74.7,30.0 L74.9,30.0 L75.1,30.0   L75.3,29.9 L75.5,29.9 L75.6,29.9 L75.8,29.9 L76.0,29.9 L76.2,29.9 L76.4,29.9 L76.6,29.9   L76.8,29.9 L76.9,29.9 L77.1,29.9 L77.3,29.9 L77.5,29.9 L77.7,29.9 L77.9,29.9 L78.1,29.9   L78.3,29.9 L78.4,29.9 L78.6,29.9 L78.8,29.9 L79.0,29.8 L79.2,29.8 L79.4,29.8 L79.6,29.8   L79.8,29.8 L79.9,29.8 L80.1,29.8 L80.3,29.8 L80.5,29.8 L80.7,29.8 L80.9,29.8 L81.1,29.8   L81.2,29.8 L81.4,29.8 L81.6,29.8 L81.8,29.8 L82.0,29.8 L82.2,29.8 L82.4,29.8 L82.6,29.8   L82.7,29.8 L82.9,29.8 L83.1,29.8 L83.3,29.8 L83.5,29.8 L83.7,29.8 L83.9,29.8 L84.0,29.8   L84.2,29.7 L84.4,29.7 L84.6,29.7 L84.8,29.7 L85.0,29.7 L85.2,29.7 L85.4,29.7 L85.5,29.7   L85.7,29.7 L85.9,29.7 L86.1,29.7 L86.3,29.7 L86.5,29.7 L86.7,29.7 L86.9,29.7 L87.0,29.7   L87.2,29.7 L87.4,29.7 L87.6,29.7 L87.8,29.7 L88.0,29.7 L88.2,29.7 L88.3,29.7 L88.5,29.7   L88.7,29.7 L88.9,29.7 L89.1,29.7 L89.3,29.7 L89.5,29.7 L89.7,29.7 L89.8,29.7 L90.0,29.7   L90.2,29.7 L90.4,29.7 L90.6,29.7 L90.8,29.7 L91.0,29.7 L91.2,29.7 L91.3,29.7 L91.5,29.7   L91.7,29.6 L91.9,29.6 L92.1,29.6 L92.3,29.6 L92.5,29.6 L92.6,29.6 L92.8,29.6 L93.0,29.6   L93.2,29.6 L93.4,29.6 L93.6,29.6 L93.8,29.6 L94.0,29.6 L94.1,29.6 L94.3,29.6 L94.5,29.6   L94.7,29.6 L94.9,29.6 L95.1,29.6 L95.3,29.6 L95.4,29.6 L95.6,29.6 L95.8,29.6 L96.0,29.6   L96.2,29.6 L96.4,29.6 L96.6,29.6 L96.8,29.6 L96.9,29.6 L97.1,29.6 L97.3,29.6 L97.5,29.6   L97.7,29.6 L97.9,29.6 L98.1,29.6 L98.3,29.6 L98.4,29.6 L98.6,29.6 L98.8,29.6 L99.0,29.6   L99.2,29.6 L99.4,29.6 L99.6,29.6 L99.7,29.6 L99.9,29.6 L100.1,29.6 L100.3,29.6 L100.5,29.6   L100.7,29.6 L100.9,29.6 L101.1,29.6 L101.2,29.6 L101.4,29.6 L101.6,29.6 L101.8,29.6 L102.0,29.6   L102.2,29.6 L102.4,29.6 L102.6,29.6 L102.7,29.6 L102.9,29.6 L103.1,29.6 L103.3,29.6 L103.5,29.6   L103.7,29.6 L103.9,29.6 L104.0,29.6 L104.2,29.6 L104.4,29.6 L104.6,29.6 L104.8,29.6 L105.0,29.6   L105.2,29.6 L105.4,29.6 L105.5,29.6 L105.7,29.6 L105.9,29.5 L106.1,29.5 L106.3,29.5 L106.5,29.5   L106.7,29.5 L106.8,29.5 L107.0,29.5 L107.2,29.5 L107.4,29.5 L107.6,29.5 L107.8,29.5 L108.0,29.5   L108.2,29.5 L108.3,29.5 L108.5,29.5 L108.7,29.5 L108.9,29.5 L109.1,29.5 L109.3,29.5 L109.5,29.5   L109.7,29.5 L109.8,29.5 L110.0,29.5 L110.2,29.5 L110.4,29.5 L110.6,29.5 L110.8,29.5 L111.0,29.5   L111.1,29.5 L111.3,29.5 L111.5,29.5 L111.7,29.5 L111.9,29.5 L112.1,29.5 L112.3,29.5 L112.5,29.5   L112.6,29.5 L112.8,29.5 L113.0,29.5 L113.2,29.5 L113.4,29.5 L113.6,29.5 L113.8,29.5 L114.0,29.5   L114.1,29.5 L114.3,29.5 L114.5,29.5 L114.7,29.5 L114.9,29.5 L115.1,29.5 L115.3,29.5 L115.4,29.5   L115.6,29.5 L115.8,29.5 L116.0,29.5 L116.2,29.5 L116.4,29.5 L116.6,29.5 L116.8,29.5 L116.9,29.5   L117.1,29.5 L117.3,29.5 L117.5,29.5 L117.7,29.5 L117.9,29.5 L118.1,29.5 L118.2,29.5 L118.4,29.5   L118.6,29.5 L118.8,29.5 L119.0,29.5 L119.2,29.5 L119.4,29.5 L119.6,29.5 L119.7,29.5 L119.9,29.5   L120.1,29.5 L120.3,29.5 L120.5,29.5 L120.7,29.5 L120.9,29.5 L121.1,29.5 L121.2,29.5 L121.4,29.5   L121.6,29.5 L121.8,29.5 L122.0,29.5 L122.2,29.5 L122.4,29.5 L122.5,29.5 L122.7,29.5 L122.9,29.5   L123.1,29.5 L123.3,29.5 L123.5,29.5 L123.7,29.5 L123.9,29.5 L124.0,29.5 L124.2,29.5 L124.4,29.5   L124.6,29.5 L124.8,29.5 L125.0,29.5 L125.2,29.5 L125.3,29.5 L125.5,29.5 L125.7,29.5 L125.9,29.5   L126.1,29.5 L126.3,29.5 L126.5,29.5 L126.7,29.5 L126.8,29.5 L127.0,29.5 L127.2,29.5 L127.4,29.5   L127.6,29.5 L127.8,29.5 L128.0,29.5 L128.2,29.5 L128.3,29.5 L128.5,29.5 L128.7,29.5 L128.9,29.5   L129.1,29.5 L129.3,29.5 L129.5,29.5 L129.6,29.5 L129.8,29.5 L130.0,29.5 L130.2,29.5 L130.4,29.5   L130.6,29.5 L130.8,29.5 L131.0,29.5 L131.1,29.5 L131.3,29.5 L131.5,29.5 L131.7,29.5 L131.9,29.5   L132.1,29.5 L132.3,29.5 L132.5,29.5 L132.6,29.5 L132.8,29.5 L133.0,29.5 L133.2,29.5 L133.4,29.5   L133.6,29.5 L133.8,29.5 L133.9,29.5 L134.1,29.5 L134.3,29.5 L134.5,29.5 L134.7,29.5 L134.9,29.5   L135.1,29.5 L135.3,29.5 L135.4,29.5 L135.6,29.5 L135.8,29.5 L136.0,29.5 L136.2,29.5 L136.4,29.5   L136.6,29.5 L136.7,29.5 L136.9,29.5 L137.1,29.5 L137.3,29.5 L137.5,29.5 L137.7,29.5 L137.9,29.5   L138.1,29.5 L138.2,29.5 L138.4,29.5 L138.6,29.5 L138.8,29.5 L139.0,29.5 L139.2,29.5 L139.4,29.5   L139.6,29.5 L139.7,29.5 L139.9,29.5 L140.1,29.5 L140.3,29.5 L140.5,29.5 L140.7,29.5 L140.9,29.5   L141.0,29.5 L141.2,29.5 L141.4,29.5 L141.6,29.5 L141.8,29.5 L142.0,29.5 L142.2,29.5 L142.4,29.5   L142.5,29.5 L142.7,29.5 L142.9,29.5 L143.1,29.5 L143.3,29.5 L143.5,29.5 L143.7,29.5 L143.9,29.5   L144.0,29.5 L144.2,29.5 L144.4,29.5 L144.6,29.5 L144.8,29.5 L145.0,29.5 L145.2,29.5 L145.3,29.5   L145.5,29.5 L145.7,29.5 L145.9,29.5 L146.1,29.5 L146.3,29.5 L146.5,29.5 L146.7,29.5 L146.8,29.5   L147.0,29.5 L147.2,29.5 L147.4,29.5 L147.6,29.5 L147.8,29.5 L148.0,29.5 L148.1,29.5 L148.3,29.5   L148.5,29.5 L148.7,29.5 L148.9,29.5 L149.1,29.5 L149.3,29.5 L149.5,29.5 L149.6,29.5 L149.8,29.5   L150.0,29.5 L150.2,29.5 L150.4,29.5 L150.6,29.5 L150.8,29.5 L151.0,29.6 L151.1,29.6 L151.3,29.6   L151.5,29.6 L151.7,29.6 L151.9,29.6 L152.1,29.6 L152.3,29.6 L152.4,29.6 L152.6,29.6 L152.8,29.6   L153.0,29.6 L153.2,29.6 L153.4,29.6 L153.6,29.6 L153.8,29.6 L153.9,29.6 L154.1,29.6 L154.3,29.6   L154.5,29.6 L154.7,29.6 L154.9,29.6 L155.1,29.6 L155.3,29.6 L155.4,29.6 L155.6,29.6 L155.8,29.6   L156.0,29.6 L156.2,29.6 L156.4,29.6 L156.6,29.6 L156.7,29.6 L156.9,29.6 L157.1,29.6 L157.3,29.6   L157.5,29.6 L157.7,29.6 L157.9,29.6 L158.1,29.6 L158.2,29.6 L158.4,29.6 L158.6,29.6 L158.8,29.6   L159.0,29.6 L159.2,29.6 L159.4,29.6 L159.5,29.6 L159.7,29.6 L159.9,29.6 L160.1,29.6 L160.3,29.6   L160.5,29.6 L160.7,29.6 L160.9,29.6 L161.0,29.6 L161.2,29.6 L161.4,29.6 L161.6,29.6 L161.8,29.6   L162.0,29.6 L162.2,29.6 L162.4,29.6 L162.5,29.6 L162.7,29.6 L162.9,29.6 L163.1,29.6 L163.3,29.6   L163.5,29.6 L163.7,29.6 L163.8,29.6 L164.0,29.6 L164.2,29.6 L164.4,29.6 L164.6,29.6 L164.8,29.6   L165.0,29.6 L165.2,29.7 L165.3,29.7 L165.5,29.7 L165.7,29.7 L165.9,29.7 L166.1,29.7 L166.3,29.7   L166.5,29.7 L166.7,29.7 L166.8,29.7 L167.0,29.7 L167.2,29.7 L167.4,29.7 L167.6,29.7 L167.8,29.7   L168.0,29.7 L168.1,29.7 L168.3,29.7 L168.5,29.7 L168.7,29.7 L168.9,29.7 L169.1,29.7 L169.3,29.7   L169.5,29.7 L169.6,29.7 L169.8,29.7 L170.0,29.7 L170.2,29.7 L170.4,29.7 L170.6,29.7 L170.8,29.7   L170.9,29.7 L171.1,29.7 L171.3,29.7 L171.5,29.7 L171.7,29.7 L171.9,29.7 L172.1,29.7 L172.3,29.7   L172.4,29.7 L172.6,29.8 L172.8,29.8 L173.0,29.8 L173.2,29.8 L173.4,29.8 L173.6,29.8 L173.8,29.8   L173.9,29.8 L174.1,29.8 L174.3,29.8 L174.5,29.8 L174.7,29.8 L174.9,29.8 L175.1,29.8 L175.2,29.8   L175.4,29.8 L175.6,29.8 L175.8,29.8 L176.0,29.8 L176.2,29.8 L176.4,29.8 L176.6,29.8 L176.7,29.8   L176.9,29.8 L177.1,29.8 L177.3,29.8 L177.5,29.8 L177.7,29.8 L177.9,29.9 L178.0,29.9 L178.2,29.9   L178.4,29.9 L178.6,29.9 L178.8,29.9 L179.0,29.9 L179.2,29.9 L179.4,29.9 L179.5,29.9 L179.7,29.9   L179.9,29.9 L180.1,29.9 L180.3,29.9 L180.5,29.9 L180.7,29.9 L180.9,29.9 L181.0,29.9 L181.2,29.9   L181.4,29.9 L181.6,30.0 L181.8,30.0 L182.0,30.0 L182.2,30.0 L182.3,30.0 L182.5,30.0 L182.7,30.0   L182.9,30.0 L183.1,30.0 L183.3,30.0 L183.5,30.0 L183.7,30.0 L183.8,30.0 L184.0,30.0 L184.2,30.0   L184.4,30.1 L184.6,30.1 L184.8,30.1 L185.0,30.1 L185.2,30.1 L185.3,30.1 L185.5,30.1 L185.7,30.1   L185.9,30.1 L186.1,30.1 L186.3,30.1 L186.5,30.1 L186.6,30.1 L186.8,30.2 L187.0,30.2 L187.2,30.2   L187.4,30.2 L187.6,30.2 L187.8,30.2 L188.0,30.2 L188.1,30.2 L188.3,30.2 L188.5,30.2 L188.7,30.2   L188.9,30.3 L189.1,30.3 L189.3,30.3 L189.4,30.3 L189.6,30.3 L189.8,30.3 L190.0,30.3 L190.2,30.3   L190.4,30.3 L190.6,30.4 L190.8,30.4 L190.9,30.4 L191.1,30.4 L191.3,30.4 L191.5,30.4 L191.7,30.4   L191.9,30.4 L192.1,30.5 L192.3,30.5 L192.4,30.5 L192.6,30.5 L192.8,30.5 L193.0,30.5 L193.2,30.5   L193.4,30.6 L193.6,30.6 L193.7,30.6 L193.9,30.6 L194.1,30.6 L194.3,30.6 L194.5,30.7 L194.7,30.7   L194.9,30.7 L195.1,30.7 L195.2,30.7 L195.4,30.8 L195.6,30.8 L195.8,30.8 L196.0,30.8 L196.2,30.8   L196.4,30.9 L196.6,30.9 L196.7,30.9 L196.9,30.9 L197.1,31.0 L197.3,31.0 L197.5,31.0 L197.7,31.0   L197.9,31.1 L198.0,31.1 L198.2,31.1 L198.4,31.1 L198.6,31.2 L198.8,31.2 L199.0,31.2 L199.2,31.2   L199.4,31.3 L199.5,31.3 L199.7,31.3 L199.9,31.4 L200.1,31.4 L200.3,31.4 L200.5,31.5 L200.7,31.5   L200.8,31.6 L201.0,31.6 L201.2,31.6 L201.4,31.7 L201.6,31.7 L201.8,31.8 L202.0,31.8 L202.2,31.8   L202.3,31.9 L202.5,31.9 L202.7,32.0 L202.9,32.0 L203.1,32.1 L203.3,32.1 L203.5,32.2 L203.7,32.2   L203.8,32.3 L204.0,32.4 L204.2,32.4 L204.4,32.5 L204.6,32.5 L204.8,32.6 L205.0,32.7 L205.1,32.7   L205.3,32.8 L205.5,32.9 L205.7,33.0 L205.9,33.0 L206.1,33.1 L206.3,33.2 L206.5,33.3 L206.6,33.4   L206.8,33.5 L207.0,33.6 L207.2,33.6 L207.4,33.7 L207.6,33.9 L207.8,34.0 L208.0,34.1 L208.1,34.2   L208.3,34.3 L208.5,34.4 L208.7,34.5 L208.9,34.7 L209.1,34.8 L209.3,35.0 L209.4,35.1 L209.6,35.3   L209.8,35.4 L210.0,35.6 L210.2,35.7 L210.4,35.9 L210.6,36.1 L210.8,36.3 L210.9,36.5 L211.1,36.7   L211.3,36.9 L211.5,37.1 L211.7,37.3 L211.9,37.6 L212.1,37.8 L212.2,38.1 L212.4,38.4 L212.6,38.6   L212.8,38.9 L213.0,39.2 L213.2,39.6 L213.4,39.9 L213.6,40.2 L213.7,40.6 L213.9,41.0 L214.1,41.4   L214.3,41.8 L214.5,42.2 L214.7,42.7 L214.9,43.1 L215.1,43.6 L215.2,44.1 L215.4,44.7 L215.6,45.3   L215.8,45.8 L216.0,46.5 L216.2,47.1 L216.4,47.8 L216.5,48.5 L216.7,49.2 L216.9,50.0 L217.1,50.8   L217.3,51.6 L217.5,52.5 L217.7,53.4 L217.9,54.4 L218.0,55.4 L218.2,56.4 L218.4,57.4 L218.6,58.6   L218.8,59.7 L219.0,60.9 L219.2,62.1 L219.4,63.4 L219.5,64.7 L219.7,66.1 L219.9,67.4 L220.1,68.9   L220.3,70.3 L220.5,71.8 L220.7,73.3 L220.8,74.8 L221.0,76.4 L221.2,77.9 L221.4,79.5 L221.6,81.1    \" stroke=\"rgb(  0,   0, 255)\"/></g>\n",
       "\t</g>\n",
       "<g color=\"white\" fill=\"none\" stroke=\"rgb(  0,   0, 255)\" stroke-linecap=\"butt\" stroke-linejoin=\"miter\" stroke-width=\"2.00\">\n",
       "</g>\n",
       "<g color=\"black\" fill=\"none\" stroke=\"currentColor\" stroke-linecap=\"butt\" stroke-linejoin=\"miter\" stroke-width=\"2.00\">\n",
       "</g>\n",
       "<g color=\"black\" fill=\"none\" stroke=\"black\" stroke-linecap=\"butt\" stroke-linejoin=\"miter\" stroke-width=\"0.50\">\n",
       "</g>\n",
       "<g color=\"black\" fill=\"none\" stroke=\"currentColor\" stroke-linecap=\"butt\" stroke-linejoin=\"miter\" stroke-width=\"0.50\">\n",
       "</g>\n",
       "<g color=\"black\" fill=\"none\" stroke=\"black\" stroke-linecap=\"butt\" stroke-linejoin=\"miter\" stroke-width=\"1.00\">\n",
       "</g>\n",
       "<g color=\"black\" fill=\"none\" stroke=\"currentColor\" stroke-linecap=\"butt\" stroke-linejoin=\"miter\" stroke-width=\"1.00\">\n",
       "\t<g shape-rendering=\"crispEdges\" stroke=\"none\">\n",
       "\t\t<polygon fill=\"rgb(255, 255, 255)\" points=\"34.9,179.5 243.0,179.5 243.0,112.1 34.9,112.1 \"/>\n",
       "\t</g>\n",
       "</g>\n",
       "<g color=\"black\" fill=\"none\" stroke=\"rgb(255, 255, 255)\" stroke-linecap=\"butt\" stroke-linejoin=\"miter\" stroke-width=\"0.50\">\n",
       "</g>\n",
       "<g color=\"black\" fill=\"none\" stroke=\"currentColor\" stroke-linecap=\"butt\" stroke-linejoin=\"miter\" stroke-width=\"0.50\">\n",
       "\t<path d=\"M34.9,179.5 L43.3,179.5 M243.1,179.5 L234.7,179.5  \" stroke=\"black\"/>\t<g fill=\"rgb(0,0,0)\" font-family=\"{}\" font-size=\"10.00\" stroke=\"none\" text-anchor=\"end\" transform=\"translate(29.3,183.2)\">\n",
       "\t\t<text><tspan font-family=\"{}\">-0.8</tspan></text>\n",
       "\t</g>\n",
       "</g>\n",
       "<g color=\"black\" fill=\"none\" stroke=\"currentColor\" stroke-linecap=\"butt\" stroke-linejoin=\"miter\" stroke-width=\"0.50\">\n",
       "\t<path d=\"M34.9,171.1 L43.3,171.1 M243.1,171.1 L234.7,171.1  \" stroke=\"black\"/>\t<g fill=\"rgb(0,0,0)\" font-family=\"{}\" font-size=\"10.00\" stroke=\"none\" text-anchor=\"end\" transform=\"translate(29.3,174.8)\">\n",
       "\t\t<text><tspan font-family=\"{}\">-0.6</tspan></text>\n",
       "\t</g>\n",
       "</g>\n",
       "<g color=\"black\" fill=\"none\" stroke=\"currentColor\" stroke-linecap=\"butt\" stroke-linejoin=\"miter\" stroke-width=\"0.50\">\n",
       "\t<path d=\"M34.9,162.6 L43.3,162.6 M243.1,162.6 L234.7,162.6  \" stroke=\"black\"/>\t<g fill=\"rgb(0,0,0)\" font-family=\"{}\" font-size=\"10.00\" stroke=\"none\" text-anchor=\"end\" transform=\"translate(29.3,166.3)\">\n",
       "\t\t<text><tspan font-family=\"{}\">-0.4</tspan></text>\n",
       "\t</g>\n",
       "</g>\n",
       "<g color=\"black\" fill=\"none\" stroke=\"currentColor\" stroke-linecap=\"butt\" stroke-linejoin=\"miter\" stroke-width=\"0.50\">\n",
       "\t<path d=\"M34.9,154.2 L43.3,154.2 M243.1,154.2 L234.7,154.2  \" stroke=\"black\"/>\t<g fill=\"rgb(0,0,0)\" font-family=\"{}\" font-size=\"10.00\" stroke=\"none\" text-anchor=\"end\" transform=\"translate(29.3,157.9)\">\n",
       "\t\t<text><tspan font-family=\"{}\">-0.2</tspan></text>\n",
       "\t</g>\n",
       "</g>\n",
       "<g color=\"black\" fill=\"none\" stroke=\"currentColor\" stroke-linecap=\"butt\" stroke-linejoin=\"miter\" stroke-width=\"0.50\">\n",
       "\t<path d=\"M34.9,145.7 L43.3,145.7 M243.1,145.7 L234.7,145.7  \" stroke=\"black\"/>\t<g fill=\"rgb(0,0,0)\" font-family=\"{}\" font-size=\"10.00\" stroke=\"none\" text-anchor=\"end\" transform=\"translate(29.3,149.4)\">\n",
       "\t\t<text><tspan font-family=\"{}\">0</tspan></text>\n",
       "\t</g>\n",
       "</g>\n",
       "<g color=\"black\" fill=\"none\" stroke=\"currentColor\" stroke-linecap=\"butt\" stroke-linejoin=\"miter\" stroke-width=\"0.50\">\n",
       "\t<path d=\"M34.9,137.3 L43.3,137.3 M243.1,137.3 L234.7,137.3  \" stroke=\"black\"/>\t<g fill=\"rgb(0,0,0)\" font-family=\"{}\" font-size=\"10.00\" stroke=\"none\" text-anchor=\"end\" transform=\"translate(29.3,141.0)\">\n",
       "\t\t<text><tspan font-family=\"{}\">0.2</tspan></text>\n",
       "\t</g>\n",
       "</g>\n",
       "<g color=\"black\" fill=\"none\" stroke=\"currentColor\" stroke-linecap=\"butt\" stroke-linejoin=\"miter\" stroke-width=\"0.50\">\n",
       "\t<path d=\"M34.9,128.9 L43.3,128.9 M243.1,128.9 L234.7,128.9  \" stroke=\"black\"/>\t<g fill=\"rgb(0,0,0)\" font-family=\"{}\" font-size=\"10.00\" stroke=\"none\" text-anchor=\"end\" transform=\"translate(29.3,132.6)\">\n",
       "\t\t<text><tspan font-family=\"{}\">0.4</tspan></text>\n",
       "\t</g>\n",
       "</g>\n",
       "<g color=\"black\" fill=\"none\" stroke=\"currentColor\" stroke-linecap=\"butt\" stroke-linejoin=\"miter\" stroke-width=\"0.50\">\n",
       "\t<path d=\"M34.9,120.4 L43.3,120.4 M243.1,120.4 L234.7,120.4  \" stroke=\"black\"/>\t<g fill=\"rgb(0,0,0)\" font-family=\"{}\" font-size=\"10.00\" stroke=\"none\" text-anchor=\"end\" transform=\"translate(29.3,124.1)\">\n",
       "\t\t<text><tspan font-family=\"{}\">0.6</tspan></text>\n",
       "\t</g>\n",
       "</g>\n",
       "<g color=\"black\" fill=\"none\" stroke=\"currentColor\" stroke-linecap=\"butt\" stroke-linejoin=\"miter\" stroke-width=\"0.50\">\n",
       "\t<path d=\"M34.9,112.0 L43.3,112.0 M243.1,112.0 L234.7,112.0  \" stroke=\"black\"/>\t<g fill=\"rgb(0,0,0)\" font-family=\"{}\" font-size=\"10.00\" stroke=\"none\" text-anchor=\"end\" transform=\"translate(29.3,115.7)\">\n",
       "\t\t<text><tspan font-family=\"{}\">0.8</tspan></text>\n",
       "\t</g>\n",
       "</g>\n",
       "<g color=\"black\" fill=\"none\" stroke=\"currentColor\" stroke-linecap=\"butt\" stroke-linejoin=\"miter\" stroke-width=\"0.50\">\n",
       "\t<path d=\"M34.9,179.5 L34.9,171.1 M34.9,112.0 L34.9,120.4  \" stroke=\"black\"/>\t<g fill=\"rgb(0,0,0)\" font-family=\"{}\" font-size=\"10.00\" stroke=\"none\" text-anchor=\"middle\" transform=\"translate(34.9,195.2)\">\n",
       "\t\t<text><tspan font-family=\"{}\">0</tspan></text>\n",
       "\t</g>\n",
       "</g>\n",
       "<g color=\"black\" fill=\"none\" stroke=\"currentColor\" stroke-linecap=\"butt\" stroke-linejoin=\"miter\" stroke-width=\"0.50\">\n",
       "\t<path d=\"M64.6,179.5 L64.6,171.1 M64.6,112.0 L64.6,120.4  \" stroke=\"black\"/>\t<g fill=\"rgb(0,0,0)\" font-family=\"{}\" font-size=\"10.00\" stroke=\"none\" text-anchor=\"middle\" transform=\"translate(64.6,195.2)\">\n",
       "\t\t<text><tspan font-family=\"{}\">0.5</tspan></text>\n",
       "\t</g>\n",
       "</g>\n",
       "<g color=\"black\" fill=\"none\" stroke=\"currentColor\" stroke-linecap=\"butt\" stroke-linejoin=\"miter\" stroke-width=\"0.50\">\n",
       "\t<path d=\"M94.4,179.5 L94.4,171.1 M94.4,112.0 L94.4,120.4  \" stroke=\"black\"/>\t<g fill=\"rgb(0,0,0)\" font-family=\"{}\" font-size=\"10.00\" stroke=\"none\" text-anchor=\"middle\" transform=\"translate(94.4,195.2)\">\n",
       "\t\t<text><tspan font-family=\"{}\">1</tspan></text>\n",
       "\t</g>\n",
       "</g>\n",
       "<g color=\"black\" fill=\"none\" stroke=\"currentColor\" stroke-linecap=\"butt\" stroke-linejoin=\"miter\" stroke-width=\"0.50\">\n",
       "\t<path d=\"M124.1,179.5 L124.1,171.1 M124.1,112.0 L124.1,120.4  \" stroke=\"black\"/>\t<g fill=\"rgb(0,0,0)\" font-family=\"{}\" font-size=\"10.00\" stroke=\"none\" text-anchor=\"middle\" transform=\"translate(124.1,195.2)\">\n",
       "\t\t<text><tspan font-family=\"{}\">1.5</tspan></text>\n",
       "\t</g>\n",
       "</g>\n",
       "<g color=\"black\" fill=\"none\" stroke=\"currentColor\" stroke-linecap=\"butt\" stroke-linejoin=\"miter\" stroke-width=\"0.50\">\n",
       "\t<path d=\"M153.9,179.5 L153.9,171.1 M153.9,112.0 L153.9,120.4  \" stroke=\"black\"/>\t<g fill=\"rgb(0,0,0)\" font-family=\"{}\" font-size=\"10.00\" stroke=\"none\" text-anchor=\"middle\" transform=\"translate(153.9,195.2)\">\n",
       "\t\t<text><tspan font-family=\"{}\">2</tspan></text>\n",
       "\t</g>\n",
       "</g>\n",
       "<g color=\"black\" fill=\"none\" stroke=\"currentColor\" stroke-linecap=\"butt\" stroke-linejoin=\"miter\" stroke-width=\"0.50\">\n",
       "\t<path d=\"M183.6,179.5 L183.6,171.1 M183.6,112.0 L183.6,120.4  \" stroke=\"black\"/>\t<g fill=\"rgb(0,0,0)\" font-family=\"{}\" font-size=\"10.00\" stroke=\"none\" text-anchor=\"middle\" transform=\"translate(183.6,195.2)\">\n",
       "\t\t<text><tspan font-family=\"{}\">2.5</tspan></text>\n",
       "\t</g>\n",
       "</g>\n",
       "<g color=\"black\" fill=\"none\" stroke=\"currentColor\" stroke-linecap=\"butt\" stroke-linejoin=\"miter\" stroke-width=\"0.50\">\n",
       "\t<path d=\"M213.4,179.5 L213.4,171.1 M213.4,112.0 L213.4,120.4  \" stroke=\"black\"/>\t<g fill=\"rgb(0,0,0)\" font-family=\"{}\" font-size=\"10.00\" stroke=\"none\" text-anchor=\"middle\" transform=\"translate(213.4,195.2)\">\n",
       "\t\t<text><tspan font-family=\"{}\">3</tspan></text>\n",
       "\t</g>\n",
       "</g>\n",
       "<g color=\"black\" fill=\"none\" stroke=\"currentColor\" stroke-linecap=\"butt\" stroke-linejoin=\"miter\" stroke-width=\"0.50\">\n",
       "\t<path d=\"M243.1,179.5 L243.1,171.1 M243.1,112.0 L243.1,120.4  \" stroke=\"black\"/>\t<g fill=\"rgb(0,0,0)\" font-family=\"{}\" font-size=\"10.00\" stroke=\"none\" text-anchor=\"middle\" transform=\"translate(243.1,195.2)\">\n",
       "\t\t<text><tspan font-family=\"{}\">3.5</tspan></text>\n",
       "\t</g>\n",
       "</g>\n",
       "<g color=\"black\" fill=\"none\" stroke=\"currentColor\" stroke-linecap=\"butt\" stroke-linejoin=\"miter\" stroke-width=\"0.50\">\n",
       "</g>\n",
       "<g color=\"black\" fill=\"none\" stroke=\"currentColor\" stroke-linecap=\"butt\" stroke-linejoin=\"miter\" stroke-width=\"0.50\">\n",
       "\t<path d=\"M34.9,112.0 L34.9,179.5 L243.1,179.5 L243.1,112.0 L34.9,112.0 Z  \" stroke=\"black\"/></g>\n",
       "<g color=\"black\" fill=\"none\" stroke=\"currentColor\" stroke-linecap=\"butt\" stroke-linejoin=\"miter\" stroke-width=\"0.50\">\n",
       "</g>\n",
       "\t<g id=\"gnuplot_plot_1b\"><title>gnuplot_plot_1b</title>\n",
       "<g color=\"black\" fill=\"none\" stroke=\"currentColor\" stroke-linecap=\"butt\" stroke-linejoin=\"miter\" stroke-width=\"0.50\">\n",
       "\t<path d=\"M34.9,145.7 L35.1,125.1 L35.3,125.5 L35.5,125.9 L35.6,126.3 L35.8,126.7 L36.0,127.0 L36.2,127.4   L36.4,127.8 L36.6,128.2 L36.8,128.6 L37.0,128.9 L37.1,129.3 L37.3,129.6 L37.5,130.0 L37.7,130.3   L37.9,130.7 L38.1,131.0 L38.3,131.3 L38.5,131.6 L38.6,131.9 L38.8,132.2 L39.0,132.5 L39.2,132.8   L39.4,133.0 L39.6,133.3 L39.8,133.6 L39.9,133.8 L40.1,134.0 L40.3,134.3 L40.5,134.5 L40.7,134.7   L40.9,134.9 L41.1,135.1 L41.3,135.3 L41.4,135.5 L41.6,135.7 L41.8,135.9 L42.0,136.1 L42.2,136.3   L42.4,136.4 L42.6,136.6 L42.7,136.8 L42.9,136.9 L43.1,137.1 L43.3,137.2 L43.5,137.4 L43.7,137.5   L43.9,137.6 L44.1,137.8 L44.2,137.9 L44.4,138.0 L44.6,138.1 L44.8,138.3 L45.0,138.4 L45.2,138.5   L45.4,138.6 L45.6,138.7 L45.7,138.8 L45.9,138.9 L46.1,139.0 L46.3,139.1 L46.5,139.2 L46.7,139.3   L46.9,139.4 L47.0,139.4 L47.2,139.5 L47.4,139.6 L47.6,139.7 L47.8,139.8 L48.0,139.9 L48.2,139.9   L48.4,140.0 L48.5,140.1 L48.7,140.1 L48.9,140.2 L49.1,140.3 L49.3,140.3 L49.5,140.4 L49.7,140.5   L49.9,140.5 L50.0,140.6 L50.2,140.7 L50.4,140.7 L50.6,140.8 L50.8,140.8 L51.0,140.9 L51.2,140.9   L51.3,141.0 L51.5,141.0 L51.7,141.1 L51.9,141.1 L52.1,141.2 L52.3,141.2 L52.5,141.3 L52.7,141.3   L52.8,141.4 L53.0,141.4 L53.2,141.5 L53.4,141.5 L53.6,141.6 L53.8,141.6 L54.0,141.6 L54.1,141.7   L54.3,141.7 L54.5,141.8 L54.7,141.8 L54.9,141.8 L55.1,141.9 L55.3,141.9 L55.5,141.9 L55.6,142.0   L55.8,142.0 L56.0,142.0 L56.2,142.1 L56.4,142.1 L56.6,142.1 L56.8,142.2 L57.0,142.2 L57.1,142.2   L57.3,142.3 L57.5,142.3 L57.7,142.3 L57.9,142.4 L58.1,142.4 L58.3,142.4 L58.4,142.4 L58.6,142.5   L58.8,142.5 L59.0,142.5 L59.2,142.6 L59.4,142.6 L59.6,142.6 L59.8,142.6 L59.9,142.7 L60.1,142.7   L60.3,142.7 L60.5,142.7 L60.7,142.8 L60.9,142.8 L61.1,142.8 L61.3,142.8 L61.4,142.8 L61.6,142.9   L61.8,142.9 L62.0,142.9 L62.2,142.9 L62.4,143.0 L62.6,143.0 L62.7,143.0 L62.9,143.0 L63.1,143.0   L63.3,143.1 L63.5,143.1 L63.7,143.1 L63.9,143.1 L64.1,143.1 L64.2,143.2 L64.4,143.2 L64.6,143.2   L64.8,143.2 L65.0,143.2 L65.2,143.3 L65.4,143.3 L65.5,143.3 L65.7,143.3 L65.9,143.3 L66.1,143.3   L66.3,143.4 L66.5,143.4 L66.7,143.4 L66.9,143.4 L67.0,143.4 L67.2,143.4 L67.4,143.5 L67.6,143.5   L67.8,143.5 L68.0,143.5 L68.2,143.5 L68.4,143.5 L68.5,143.5 L68.7,143.6 L68.9,143.6 L69.1,143.6   L69.3,143.6 L69.5,143.6 L69.7,143.6 L69.8,143.7 L70.0,143.7 L70.2,143.7 L70.4,143.7 L70.6,143.7   L70.8,143.7 L71.0,143.7 L71.2,143.7 L71.3,143.8 L71.5,143.8 L71.7,143.8 L71.9,143.8 L72.1,143.8   L72.3,143.8 L72.5,143.8 L72.6,143.8 L72.8,143.9 L73.0,143.9 L73.2,143.9 L73.4,143.9 L73.6,143.9   L73.8,143.9 L74.0,143.9 L74.1,143.9 L74.3,144.0 L74.5,144.0 L74.7,144.0 L74.9,144.0 L75.1,144.0   L75.3,144.0 L75.5,144.0 L75.6,144.0 L75.8,144.0 L76.0,144.1 L76.2,144.1 L76.4,144.1 L76.6,144.1   L76.8,144.1 L76.9,144.1 L77.1,144.1 L77.3,144.1 L77.5,144.1 L77.7,144.1 L77.9,144.2 L78.1,144.2   L78.3,144.2 L78.4,144.2 L78.6,144.2 L78.8,144.2 L79.0,144.2 L79.2,144.2 L79.4,144.2 L79.6,144.2   L79.8,144.3 L79.9,144.3 L80.1,144.3 L80.3,144.3 L80.5,144.3 L80.7,144.3 L80.9,144.3 L81.1,144.3   L81.2,144.3 L81.4,144.3 L81.6,144.3 L81.8,144.4 L82.0,144.4 L82.2,144.4 L82.4,144.4 L82.6,144.4   L82.7,144.4 L82.9,144.4 L83.1,144.4 L83.3,144.4 L83.5,144.4 L83.7,144.4 L83.9,144.4 L84.0,144.5   L84.2,144.5 L84.4,144.5 L84.6,144.5 L84.8,144.5 L85.0,144.5 L85.2,144.5 L85.4,144.5 L85.5,144.5   L85.7,144.5 L85.9,144.5 L86.1,144.5 L86.3,144.5 L86.5,144.6 L86.7,144.6 L86.9,144.6 L87.0,144.6   L87.2,144.6 L87.4,144.6 L87.6,144.6 L87.8,144.6 L88.0,144.6 L88.2,144.6 L88.3,144.6 L88.5,144.6   L88.7,144.6 L88.9,144.7 L89.1,144.7 L89.3,144.7 L89.5,144.7 L89.7,144.7 L89.8,144.7 L90.0,144.7   L90.2,144.7 L90.4,144.7 L90.6,144.7 L90.8,144.7 L91.0,144.7 L91.2,144.7 L91.3,144.7 L91.5,144.7   L91.7,144.8 L91.9,144.8 L92.1,144.8 L92.3,144.8 L92.5,144.8 L92.6,144.8 L92.8,144.8 L93.0,144.8   L93.2,144.8 L93.4,144.8 L93.6,144.8 L93.8,144.8 L94.0,144.8 L94.1,144.8 L94.3,144.8 L94.5,144.9   L94.7,144.9 L94.9,144.9 L95.1,144.9 L95.3,144.9 L95.4,144.9 L95.6,144.9 L95.8,144.9 L96.0,144.9   L96.2,144.9 L96.4,144.9 L96.6,144.9 L96.8,144.9 L96.9,144.9 L97.1,144.9 L97.3,144.9 L97.5,144.9   L97.7,145.0 L97.9,145.0 L98.1,145.0 L98.3,145.0 L98.4,145.0 L98.6,145.0 L98.8,145.0 L99.0,145.0   L99.2,145.0 L99.4,145.0 L99.6,145.0 L99.7,145.0 L99.9,145.0 L100.1,145.0 L100.3,145.0 L100.5,145.0   L100.7,145.0 L100.9,145.0 L101.1,145.1 L101.2,145.1 L101.4,145.1 L101.6,145.1 L101.8,145.1 L102.0,145.1   L102.2,145.1 L102.4,145.1 L102.6,145.1 L102.7,145.1 L102.9,145.1 L103.1,145.1 L103.3,145.1 L103.5,145.1   L103.7,145.1 L103.9,145.1 L104.0,145.1 L104.2,145.1 L104.4,145.2 L104.6,145.2 L104.8,145.2 L105.0,145.2   L105.2,145.2 L105.4,145.2 L105.5,145.2 L105.7,145.2 L105.9,145.2 L106.1,145.2 L106.3,145.2 L106.5,145.2   L106.7,145.2 L106.8,145.2 L107.0,145.2 L107.2,145.2 L107.4,145.2 L107.6,145.2 L107.8,145.2 L108.0,145.2   L108.2,145.3 L108.3,145.3 L108.5,145.3 L108.7,145.3 L108.9,145.3 L109.1,145.3 L109.3,145.3 L109.5,145.3   L109.7,145.3 L109.8,145.3 L110.0,145.3 L110.2,145.3 L110.4,145.3 L110.6,145.3 L110.8,145.3 L111.0,145.3   L111.1,145.3 L111.3,145.3 L111.5,145.3 L111.7,145.3 L111.9,145.4 L112.1,145.4 L112.3,145.4 L112.5,145.4   L112.6,145.4 L112.8,145.4 L113.0,145.4 L113.2,145.4 L113.4,145.4 L113.6,145.4 L113.8,145.4 L114.0,145.4   L114.1,145.4 L114.3,145.4 L114.5,145.4 L114.7,145.4 L114.9,145.4 L115.1,145.4 L115.3,145.4 L115.4,145.4   L115.6,145.4 L115.8,145.4 L116.0,145.5 L116.2,145.5 L116.4,145.5 L116.6,145.5 L116.8,145.5 L116.9,145.5   L117.1,145.5 L117.3,145.5 L117.5,145.5 L117.7,145.5 L117.9,145.5 L118.1,145.5 L118.2,145.5 L118.4,145.5   L118.6,145.5 L118.8,145.5 L119.0,145.5 L119.2,145.5 L119.4,145.5 L119.6,145.5 L119.7,145.5 L119.9,145.5   L120.1,145.6 L120.3,145.6 L120.5,145.6 L120.7,145.6 L120.9,145.6 L121.1,145.6 L121.2,145.6 L121.4,145.6   L121.6,145.6 L121.8,145.6 L122.0,145.6 L122.2,145.6 L122.4,145.6 L122.5,145.6 L122.7,145.6 L122.9,145.6   L123.1,145.6 L123.3,145.6 L123.5,145.6 L123.7,145.6 L123.9,145.6 L124.0,145.6 L124.2,145.7 L124.4,145.7   L124.6,145.7 L124.8,145.7 L125.0,145.7 L125.2,145.7 L125.3,145.7 L125.5,145.7 L125.7,145.7 L125.9,145.7   L126.1,145.7 L126.3,145.7 L126.5,145.7 L126.7,145.7 L126.8,145.7 L127.0,145.7 L127.2,145.7 L127.4,145.7   L127.6,145.7 L127.8,145.7 L128.0,145.7 L128.2,145.7 L128.3,145.7 L128.5,145.8 L128.7,145.8 L128.9,145.8   L129.1,145.8 L129.3,145.8 L129.5,145.8 L129.6,145.8 L129.8,145.8 L130.0,145.8 L130.2,145.8 L130.4,145.8   L130.6,145.8 L130.8,145.8 L131.0,145.8 L131.1,145.8 L131.3,145.8 L131.5,145.8 L131.7,145.8 L131.9,145.8   L132.1,145.8 L132.3,145.8 L132.5,145.8 L132.6,145.9 L132.8,145.9 L133.0,145.9 L133.2,145.9 L133.4,145.9   L133.6,145.9 L133.8,145.9 L133.9,145.9 L134.1,145.9 L134.3,145.9 L134.5,145.9 L134.7,145.9 L134.9,145.9   L135.1,145.9 L135.3,145.9 L135.4,145.9 L135.6,145.9 L135.8,145.9 L136.0,145.9 L136.2,145.9 L136.4,145.9   L136.6,145.9 L136.7,146.0 L136.9,146.0 L137.1,146.0 L137.3,146.0 L137.5,146.0 L137.7,146.0 L137.9,146.0   L138.1,146.0 L138.2,146.0 L138.4,146.0 L138.6,146.0 L138.8,146.0 L139.0,146.0 L139.2,146.0 L139.4,146.0   L139.6,146.0 L139.7,146.0 L139.9,146.0 L140.1,146.0 L140.3,146.0 L140.5,146.0 L140.7,146.0 L140.9,146.1   L141.0,146.1 L141.2,146.1 L141.4,146.1 L141.6,146.1 L141.8,146.1 L142.0,146.1 L142.2,146.1 L142.4,146.1   L142.5,146.1 L142.7,146.1 L142.9,146.1 L143.1,146.1 L143.3,146.1 L143.5,146.1 L143.7,146.1 L143.9,146.1   L144.0,146.1 L144.2,146.1 L144.4,146.1 L144.6,146.1 L144.8,146.1 L145.0,146.2 L145.2,146.2 L145.3,146.2   L145.5,146.2 L145.7,146.2 L145.9,146.2 L146.1,146.2 L146.3,146.2 L146.5,146.2 L146.7,146.2 L146.8,146.2   L147.0,146.2 L147.2,146.2 L147.4,146.2 L147.6,146.2 L147.8,146.2 L148.0,146.2 L148.1,146.2 L148.3,146.2   L148.5,146.2 L148.7,146.3 L148.9,146.3 L149.1,146.3 L149.3,146.3 L149.5,146.3 L149.6,146.3 L149.8,146.3   L150.0,146.3 L150.2,146.3 L150.4,146.3 L150.6,146.3 L150.8,146.3 L151.0,146.3 L151.1,146.3 L151.3,146.3   L151.5,146.3 L151.7,146.3 L151.9,146.3 L152.1,146.3 L152.3,146.3 L152.4,146.4 L152.6,146.4 L152.8,146.4   L153.0,146.4 L153.2,146.4 L153.4,146.4 L153.6,146.4 L153.8,146.4 L153.9,146.4 L154.1,146.4 L154.3,146.4   L154.5,146.4 L154.7,146.4 L154.9,146.4 L155.1,146.4 L155.3,146.4 L155.4,146.4 L155.6,146.4 L155.8,146.5   L156.0,146.5 L156.2,146.5 L156.4,146.5 L156.6,146.5 L156.7,146.5 L156.9,146.5 L157.1,146.5 L157.3,146.5   L157.5,146.5 L157.7,146.5 L157.9,146.5 L158.1,146.5 L158.2,146.5 L158.4,146.5 L158.6,146.5 L158.8,146.5   L159.0,146.5 L159.2,146.6 L159.4,146.6 L159.5,146.6 L159.7,146.6 L159.9,146.6 L160.1,146.6 L160.3,146.6   L160.5,146.6 L160.7,146.6 L160.9,146.6 L161.0,146.6 L161.2,146.6 L161.4,146.6 L161.6,146.6 L161.8,146.6   L162.0,146.6 L162.2,146.6 L162.4,146.7 L162.5,146.7 L162.7,146.7 L162.9,146.7 L163.1,146.7 L163.3,146.7   L163.5,146.7 L163.7,146.7 L163.8,146.7 L164.0,146.7 L164.2,146.7 L164.4,146.7 L164.6,146.7 L164.8,146.7   L165.0,146.7 L165.2,146.8 L165.3,146.8 L165.5,146.8 L165.7,146.8 L165.9,146.8 L166.1,146.8 L166.3,146.8   L166.5,146.8 L166.7,146.8 L166.8,146.8 L167.0,146.8 L167.2,146.8 L167.4,146.8 L167.6,146.8 L167.8,146.8   L168.0,146.9 L168.1,146.9 L168.3,146.9 L168.5,146.9 L168.7,146.9 L168.9,146.9 L169.1,146.9 L169.3,146.9   L169.5,146.9 L169.6,146.9 L169.8,146.9 L170.0,146.9 L170.2,146.9 L170.4,147.0 L170.6,147.0 L170.8,147.0   L170.9,147.0 L171.1,147.0 L171.3,147.0 L171.5,147.0 L171.7,147.0 L171.9,147.0 L172.1,147.0 L172.3,147.0   L172.4,147.0 L172.6,147.0 L172.8,147.1 L173.0,147.1 L173.2,147.1 L173.4,147.1 L173.6,147.1 L173.8,147.1   L173.9,147.1 L174.1,147.1 L174.3,147.1 L174.5,147.1 L174.7,147.1 L174.9,147.1 L175.1,147.2 L175.2,147.2   L175.4,147.2 L175.6,147.2 L175.8,147.2 L176.0,147.2 L176.2,147.2 L176.4,147.2 L176.6,147.2 L176.7,147.2   L176.9,147.2 L177.1,147.3 L177.3,147.3 L177.5,147.3 L177.7,147.3 L177.9,147.3 L178.0,147.3 L178.2,147.3   L178.4,147.3 L178.6,147.3 L178.8,147.3 L179.0,147.4 L179.2,147.4 L179.4,147.4 L179.5,147.4 L179.7,147.4   L179.9,147.4 L180.1,147.4 L180.3,147.4 L180.5,147.4 L180.7,147.4 L180.9,147.5 L181.0,147.5 L181.2,147.5   L181.4,147.5 L181.6,147.5 L181.8,147.5 L182.0,147.5 L182.2,147.5 L182.3,147.5 L182.5,147.6 L182.7,147.6   L182.9,147.6 L183.1,147.6 L183.3,147.6 L183.5,147.6 L183.7,147.6 L183.8,147.6 L184.0,147.7 L184.2,147.7   L184.4,147.7 L184.6,147.7 L184.8,147.7 L185.0,147.7 L185.2,147.7 L185.3,147.7 L185.5,147.8 L185.7,147.8   L185.9,147.8 L186.1,147.8 L186.3,147.8 L186.5,147.8 L186.6,147.8 L186.8,147.8 L187.0,147.9 L187.2,147.9   L187.4,147.9 L187.6,147.9 L187.8,147.9 L188.0,147.9 L188.1,148.0 L188.3,148.0 L188.5,148.0 L188.7,148.0   L188.9,148.0 L189.1,148.0 L189.3,148.0 L189.4,148.1 L189.6,148.1 L189.8,148.1 L190.0,148.1 L190.2,148.1   L190.4,148.1 L190.6,148.2 L190.8,148.2 L190.9,148.2 L191.1,148.2 L191.3,148.2 L191.5,148.2 L191.7,148.3   L191.9,148.3 L192.1,148.3 L192.3,148.3 L192.4,148.3 L192.6,148.4 L192.8,148.4 L193.0,148.4 L193.2,148.4   L193.4,148.4 L193.6,148.5 L193.7,148.5 L193.9,148.5 L194.1,148.5 L194.3,148.5 L194.5,148.6 L194.7,148.6   L194.9,148.6 L195.1,148.6 L195.2,148.7 L195.4,148.7 L195.6,148.7 L195.8,148.7 L196.0,148.7 L196.2,148.8   L196.4,148.8 L196.6,148.8 L196.7,148.8 L196.9,148.9 L197.1,148.9 L197.3,148.9 L197.5,148.9 L197.7,149.0   L197.9,149.0 L198.0,149.0 L198.2,149.1 L198.4,149.1 L198.6,149.1 L198.8,149.1 L199.0,149.2 L199.2,149.2   L199.4,149.2 L199.5,149.3 L199.7,149.3 L199.9,149.3 L200.1,149.4 L200.3,149.4 L200.5,149.4 L200.7,149.5   L200.8,149.5 L201.0,149.5 L201.2,149.6 L201.4,149.6 L201.6,149.6 L201.8,149.7 L202.0,149.7 L202.2,149.7   L202.3,149.8 L202.5,149.8 L202.7,149.9 L202.9,149.9 L203.1,149.9 L203.3,150.0 L203.5,150.0 L203.7,150.1   L203.8,150.1 L204.0,150.2 L204.2,150.2 L204.4,150.3 L204.6,150.3 L204.8,150.4 L205.0,150.4 L205.1,150.5   L205.3,150.5 L205.5,150.6 L205.7,150.6 L205.9,150.7 L206.1,150.7 L206.3,150.8 L206.5,150.8 L206.6,150.9   L206.8,151.0 L207.0,151.0 L207.2,151.1 L207.4,151.2 L207.6,151.2 L207.8,151.3 L208.0,151.4 L208.1,151.4   L208.3,151.5 L208.5,151.6 L208.7,151.6 L208.9,151.7 L209.1,151.8 L209.3,151.9 L209.4,152.0 L209.6,152.1   L209.8,152.1 L210.0,152.2 L210.2,152.3 L210.4,152.4 L210.6,152.5 L210.8,152.6 L210.9,152.7 L211.1,152.8   L211.3,152.9 L211.5,153.0 L211.7,153.1 L211.9,153.2 L212.1,153.4 L212.2,153.5 L212.4,153.6 L212.6,153.7   L212.8,153.9 L213.0,154.0 L213.2,154.1 L213.4,154.3 L213.6,154.4 L213.7,154.6 L213.9,154.7 L214.1,154.9   L214.3,155.1 L214.5,155.2 L214.7,155.4 L214.9,155.6 L215.1,155.8 L215.2,156.0 L215.4,156.2 L215.6,156.4   L215.8,156.6 L216.0,156.8 L216.2,157.0 L216.4,157.2 L216.5,157.5 L216.7,157.7 L216.9,157.9 L217.1,158.2   L217.3,158.5 L217.5,158.7 L217.7,159.0 L217.9,159.3 L218.0,159.6 L218.2,159.9 L218.4,160.2 L218.6,160.5   L218.8,160.8 L219.0,161.2 L219.2,161.5 L219.4,161.9 L219.5,162.2 L219.7,162.6 L219.9,162.9 L220.1,163.3   L220.3,163.7 L220.5,164.1 L220.7,164.5 L220.8,164.8 L221.0,165.2 L221.2,165.6 L221.4,166.0 L221.6,166.4    \" stroke=\"rgb(  0,   0, 255)\"/></g>\n",
       "\t</g>\n",
       "<g color=\"white\" fill=\"none\" stroke=\"rgb(  0,   0, 255)\" stroke-linecap=\"butt\" stroke-linejoin=\"miter\" stroke-width=\"2.00\">\n",
       "</g>\n",
       "<g color=\"black\" fill=\"none\" stroke=\"currentColor\" stroke-linecap=\"butt\" stroke-linejoin=\"miter\" stroke-width=\"2.00\">\n",
       "</g>\n",
       "<g color=\"black\" fill=\"none\" stroke=\"black\" stroke-linecap=\"butt\" stroke-linejoin=\"miter\" stroke-width=\"0.50\">\n",
       "</g>\n",
       "<g color=\"black\" fill=\"none\" stroke=\"currentColor\" stroke-linecap=\"butt\" stroke-linejoin=\"miter\" stroke-width=\"0.50\">\n",
       "</g>\n",
       "</g>\n",
       "</svg>"
      ],
      "text/plain": [
       "<IPython.core.display.SVG object>"
      ]
     },
     "metadata": {},
     "output_type": "display_data"
    },
    {
     "name": "stderr",
     "output_type": "stream",
     "text": [
      "'ascii' codec can't encode character u'\\u2018' in position 108: ordinal not in range(128)\n"
     ]
    }
   ],
   "source": [
    "[H,w]=freqz([1 0 -1],[1 0 -0.81],1000); % H function\n",
    "magH=abs(H);\n",
    "phaH=angle(H);\n",
    "subplot(2,1,1); plot(w,magH);\n",
    "xlabel(‘frequency in pi units’); ylabel(‘Magnitude’); >> title(‘Magnitude Response’);\n",
    "subplot(2,1,2); plot(w,phaH/pi);\n",
    "xlabel(‘frequency in pi units’); ylabel(‘phase in pi units’); >> title(‘Phase Response’);"
   ]
  },
  {
   "cell_type": "markdown",
   "metadata": {
    "collapsed": false
   },
   "source": [
    "## Question 3\n",
    "The z-transform of $x(n)$ is $X(\\mathcal{z}) = \\frac{1}{1+0.5z^{-1}}$ , $|\\mathcal{z}| ≥ 0.5$. Detemine the\n",
    "z-transforms of the following sequences and indicate their region of convergence.\n",
    "\n",
    "(a) $x_1(n)=x(3−n)+x(n−3)$  \n",
    "\n",
    "(b) $x_2(n)=x(n+2)*x(n−2)$"
   ]
  },
  {
   "cell_type": "markdown",
   "metadata": {},
   "source": [
    "__Solution:__\n",
    "\n",
    "(a) It is easy to see that $X(z)$ is causal as $|z|\\geq 0.5$. Thus we have:\n",
    "\n",
    "$$X_{(n-3)}(z)=z^{-3}X(z)$$,$$X_1(z)=1/X_{(n-3)}+X_{(n-3)}$$"
   ]
  },
  {
   "cell_type": "code",
   "execution_count": null,
   "metadata": {
    "collapsed": true
   },
   "outputs": [],
   "source": [
    "syms z\n",
    "\n",
    "x1=1/(1+0.5*z^-1)\n",
    "\n",
    "x3=z^-3*x1\n",
    "\n",
    "1/x3+x3"
   ]
  },
  {
   "cell_type": "markdown",
   "metadata": {},
   "source": [
    "\n",
    "ans =\n",
    " \n",
    "1/(z^3*(1/(2*z) + 1)) + z^3*(1/(2*z) + 1)"
   ]
  },
  {
   "cell_type": "markdown",
   "metadata": {},
   "source": [
    "With the corresponding ROC of:\n",
    "\n",
    "$$0.5\\leq |z|\\leq 2$$"
   ]
  },
  {
   "cell_type": "markdown",
   "metadata": {},
   "source": [
    "(b) Similarily, we have:\n",
    "\n",
    "$$X_{(n-2)}(z)=z^{-2}X(z)$$,$$X_{(n+2)}(z)=z^{2}X(z)$$,$$X_2(z)=X_{(n+2)}+X_{(n-2)}$$"
   ]
  },
  {
   "cell_type": "code",
   "execution_count": null,
   "metadata": {
    "collapsed": true
   },
   "outputs": [],
   "source": [
    "syms z\n",
    "\n",
    "x1=1/(1+0.5*z^-1)\n",
    "\n",
    "x1*z^-2+x1*z^2"
   ]
  },
  {
   "cell_type": "markdown",
   "metadata": {},
   "source": [
    "ans =\n",
    " \n",
    "1/(z^2*(1/(2*z) + 1)) + z^2/(1/(2*z) + 1)"
   ]
  },
  {
   "cell_type": "markdown",
   "metadata": {},
   "source": [
    "With the corresponding ROC of:\n",
    "\n",
    "$$0.5\\leq |z|$$"
   ]
  }
 ],
 "metadata": {
  "kernelspec": {
   "display_name": "Octave",
   "language": "octave",
   "name": "octave_kernel"
  },
  "language_info": {
   "file_extension": ".m",
   "help_links": [
    {
     "text": "MetaKernel Magics",
     "url": "https://github.com/calysto/metakernel/blob/master/metakernel/magics/README.md"
    }
   ],
   "mimetype": "text/x-octave",
   "name": "octave_kernel"
  }
 },
 "nbformat": 4,
 "nbformat_minor": 0
}
