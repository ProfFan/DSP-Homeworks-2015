{
 "cells": [
  {
   "cell_type": "markdown",
   "metadata": {},
   "source": [
    "\\author{Fan Jiang, 11310129}\n",
    "\n",
    "# Introduction"
   ]
  },
  {
   "cell_type": "markdown",
   "metadata": {},
   "source": [
    "This document is the solution on IIR filter design for the DSP Autumn 2015 session."
   ]
  },
  {
   "cell_type": "code",
   "execution_count": 1,
   "metadata": {
    "collapsed": false
   },
   "outputs": [
    {
     "name": "stdout",
     "output_type": "stream",
     "text": [
      "Populating the interactive namespace from numpy and matplotlib\n"
     ]
    }
   ],
   "source": [
    "%load_ext oct2py.ipython\n",
    "%pylab inline"
   ]
  },
  {
   "cell_type": "markdown",
   "metadata": {},
   "source": [
    "# MATLAB Practice\n",
    "\n",
    "**(1)**"
   ]
  },
  {
   "cell_type": "code",
   "execution_count": 3,
   "metadata": {
    "collapsed": false
   },
   "outputs": [
    {
     "data": {
      "text/plain": [
       "\u001b[H\u001b[2JWp =  0.30000\n",
       "Ws =  0.50000\n",
       "Rp =  0.30000\n",
       "Rs =  45\n",
       "N =  10"
      ]
     },
     "metadata": {},
     "output_type": "display_data"
    },
    {
     "data": {
      "image/svg+xml": [
       "<svg height=\"420px\" viewBox=\"0 0 560 420\" width=\"560px\" xmlns=\"http://www.w3.org/2000/svg\" xmlns:xlink=\"http://www.w3.org/1999/xlink\">\n",
       "\n",
       "<title>Gnuplot</title>\n",
       "<desc>Produced by GNUPLOT 5.0 patchlevel 1 </desc>\n",
       "\n",
       "<g id=\"gnuplot_canvas\">\n",
       "\n",
       "<rect fill=\"none\" height=\"420\" width=\"560\" x=\"0\" y=\"0\"/>\n",
       "<defs>\n",
       "\n",
       "\t<circle id=\"gpDot\" r=\"0.5\" stroke-width=\"0.5\"/>\n",
       "\t<path d=\"M-1,0 h2 M0,-1 v2\" id=\"gpPt0\" stroke=\"currentColor\" stroke-width=\"0.333\"/>\n",
       "\t<path d=\"M-1,-1 L1,1 M1,-1 L-1,1\" id=\"gpPt1\" stroke=\"currentColor\" stroke-width=\"0.333\"/>\n",
       "\t<path d=\"M-1,0 L1,0 M0,-1 L0,1 M-1,-1 L1,1 M-1,1 L1,-1\" id=\"gpPt2\" stroke=\"currentColor\" stroke-width=\"0.333\"/>\n",
       "\t<rect height=\"2\" id=\"gpPt3\" stroke=\"currentColor\" stroke-width=\"0.333\" width=\"2\" x=\"-1\" y=\"-1\"/>\n",
       "\t<rect fill=\"currentColor\" height=\"2\" id=\"gpPt4\" stroke=\"currentColor\" stroke-width=\"0.333\" width=\"2\" x=\"-1\" y=\"-1\"/>\n",
       "\t<circle cx=\"0\" cy=\"0\" id=\"gpPt5\" r=\"1\" stroke=\"currentColor\" stroke-width=\"0.333\"/>\n",
       "\t<use fill=\"currentColor\" id=\"gpPt6\" stroke=\"none\" xlink:href=\"#gpPt5\"/>\n",
       "\t<path d=\"M0,-1.33 L-1.33,0.67 L1.33,0.67 z\" id=\"gpPt7\" stroke=\"currentColor\" stroke-width=\"0.333\"/>\n",
       "\t<use fill=\"currentColor\" id=\"gpPt8\" stroke=\"none\" xlink:href=\"#gpPt7\"/>\n",
       "\t<use id=\"gpPt9\" stroke=\"currentColor\" transform=\"rotate(180)\" xlink:href=\"#gpPt7\"/>\n",
       "\t<use fill=\"currentColor\" id=\"gpPt10\" stroke=\"none\" xlink:href=\"#gpPt9\"/>\n",
       "\t<use id=\"gpPt11\" stroke=\"currentColor\" transform=\"rotate(45)\" xlink:href=\"#gpPt3\"/>\n",
       "\t<use fill=\"currentColor\" id=\"gpPt12\" stroke=\"none\" xlink:href=\"#gpPt11\"/>\n",
       "\t<path d=\"M0,1.330 L1.265,0.411 L0.782,-1.067 L-0.782,-1.076 L-1.265,0.411 z\" id=\"gpPt13\" stroke=\"currentColor\" stroke-width=\"0.333\"/>\n",
       "\t<use fill=\"currentColor\" id=\"gpPt14\" stroke=\"none\" xlink:href=\"#gpPt13\"/>\n",
       "\t<filter filterUnits=\"objectBoundingBox\" height=\"1\" id=\"textbox\" width=\"1\" x=\"0\" y=\"0\">\n",
       "\t  <feFlood flood-color=\"white\" flood-opacity=\"1\" result=\"bgnd\"/>\n",
       "\t  <feComposite in=\"SourceGraphic\" in2=\"bgnd\" operator=\"atop\"/>\n",
       "\t</filter>\n",
       "\t<filter filterUnits=\"objectBoundingBox\" height=\"1\" id=\"greybox\" width=\"1\" x=\"0\" y=\"0\">\n",
       "\t  <feFlood flood-color=\"lightgrey\" flood-opacity=\"1\" result=\"grey\"/>\n",
       "\t  <feComposite in=\"SourceGraphic\" in2=\"grey\" operator=\"atop\"/>\n",
       "\t</filter>\n",
       "</defs>\n",
       "<g color=\"white\" fill=\"none\" stroke=\"currentColor\" stroke-linecap=\"butt\" stroke-linejoin=\"miter\" stroke-width=\"1.00\">\n",
       "</g>\n",
       "<g color=\"black\" fill=\"none\" stroke=\"currentColor\" stroke-linecap=\"butt\" stroke-linejoin=\"miter\" stroke-width=\"1.00\">\n",
       "\t<g shape-rendering=\"crispEdges\" stroke=\"none\">\n",
       "\t\t<polygon fill=\"rgb(255, 255, 255)\" points=\"48.4,381.6 543.0,381.6 543.0,39.2 48.4,39.2 \"/>\n",
       "\t</g>\n",
       "</g>\n",
       "<g color=\"black\" fill=\"none\" stroke=\"rgb(255, 255, 255)\" stroke-linecap=\"butt\" stroke-linejoin=\"miter\" stroke-width=\"0.50\">\n",
       "</g>\n",
       "<g color=\"black\" fill=\"none\" stroke=\"currentColor\" stroke-linecap=\"butt\" stroke-linejoin=\"miter\" stroke-width=\"0.50\">\n",
       "</g>\n",
       "<g color=\"gray\" fill=\"none\" stroke=\"currentColor\" stroke-linecap=\"butt\" stroke-linejoin=\"miter\" stroke-width=\"0.50\">\n",
       "\t<path class=\"gridline\" d=\"M48.4,381.6 L543.1,381.6  \" stroke=\"gray\" stroke-dasharray=\"2,4\"/></g>\n",
       "<g color=\"black\" fill=\"none\" stroke=\"currentColor\" stroke-linecap=\"butt\" stroke-linejoin=\"miter\" stroke-width=\"0.50\">\n",
       "\t<path d=\"M48.4,381.6 L56.8,381.6 M543.1,381.6 L534.7,381.6  \" stroke=\"black\"/>\t<g fill=\"rgb(0,0,0)\" font-family=\"{}\" font-size=\"10.00\" stroke=\"none\" text-anchor=\"end\" transform=\"translate(42.8,385.3)\">\n",
       "\t\t<text><tspan font-family=\"{}\">-400</tspan></text>\n",
       "\t</g>\n",
       "</g>\n",
       "<g color=\"black\" fill=\"none\" stroke=\"currentColor\" stroke-linecap=\"butt\" stroke-linejoin=\"miter\" stroke-width=\"0.50\">\n",
       "</g>\n",
       "<g color=\"gray\" fill=\"none\" stroke=\"currentColor\" stroke-linecap=\"butt\" stroke-linejoin=\"miter\" stroke-width=\"0.50\">\n",
       "\t<path class=\"gridline\" d=\"M48.4,313.1 L543.1,313.1  \" stroke=\"gray\" stroke-dasharray=\"2,4\"/></g>\n",
       "<g color=\"black\" fill=\"none\" stroke=\"currentColor\" stroke-linecap=\"butt\" stroke-linejoin=\"miter\" stroke-width=\"0.50\">\n",
       "\t<path d=\"M48.4,313.1 L56.8,313.1 M543.1,313.1 L534.7,313.1  \" stroke=\"black\"/>\t<g fill=\"rgb(0,0,0)\" font-family=\"{}\" font-size=\"10.00\" stroke=\"none\" text-anchor=\"end\" transform=\"translate(42.8,316.8)\">\n",
       "\t\t<text><tspan font-family=\"{}\">-300</tspan></text>\n",
       "\t</g>\n",
       "</g>\n",
       "<g color=\"black\" fill=\"none\" stroke=\"currentColor\" stroke-linecap=\"butt\" stroke-linejoin=\"miter\" stroke-width=\"0.50\">\n",
       "</g>\n",
       "<g color=\"gray\" fill=\"none\" stroke=\"currentColor\" stroke-linecap=\"butt\" stroke-linejoin=\"miter\" stroke-width=\"0.50\">\n",
       "\t<path class=\"gridline\" d=\"M48.4,244.6 L543.1,244.6  \" stroke=\"gray\" stroke-dasharray=\"2,4\"/></g>\n",
       "<g color=\"black\" fill=\"none\" stroke=\"currentColor\" stroke-linecap=\"butt\" stroke-linejoin=\"miter\" stroke-width=\"0.50\">\n",
       "\t<path d=\"M48.4,244.6 L56.8,244.6 M543.1,244.6 L534.7,244.6  \" stroke=\"black\"/>\t<g fill=\"rgb(0,0,0)\" font-family=\"{}\" font-size=\"10.00\" stroke=\"none\" text-anchor=\"end\" transform=\"translate(42.8,248.3)\">\n",
       "\t\t<text><tspan font-family=\"{}\">-200</tspan></text>\n",
       "\t</g>\n",
       "</g>\n",
       "<g color=\"black\" fill=\"none\" stroke=\"currentColor\" stroke-linecap=\"butt\" stroke-linejoin=\"miter\" stroke-width=\"0.50\">\n",
       "</g>\n",
       "<g color=\"gray\" fill=\"none\" stroke=\"currentColor\" stroke-linecap=\"butt\" stroke-linejoin=\"miter\" stroke-width=\"0.50\">\n",
       "\t<path class=\"gridline\" d=\"M48.4,176.1 L543.1,176.1  \" stroke=\"gray\" stroke-dasharray=\"2,4\"/></g>\n",
       "<g color=\"black\" fill=\"none\" stroke=\"currentColor\" stroke-linecap=\"butt\" stroke-linejoin=\"miter\" stroke-width=\"0.50\">\n",
       "\t<path d=\"M48.4,176.1 L56.8,176.1 M543.1,176.1 L534.7,176.1  \" stroke=\"black\"/>\t<g fill=\"rgb(0,0,0)\" font-family=\"{}\" font-size=\"10.00\" stroke=\"none\" text-anchor=\"end\" transform=\"translate(42.8,179.8)\">\n",
       "\t\t<text><tspan font-family=\"{}\">-100</tspan></text>\n",
       "\t</g>\n",
       "</g>\n",
       "<g color=\"black\" fill=\"none\" stroke=\"currentColor\" stroke-linecap=\"butt\" stroke-linejoin=\"miter\" stroke-width=\"0.50\">\n",
       "</g>\n",
       "<g color=\"gray\" fill=\"none\" stroke=\"currentColor\" stroke-linecap=\"butt\" stroke-linejoin=\"miter\" stroke-width=\"0.50\">\n",
       "\t<path class=\"gridline\" d=\"M48.4,107.6 L543.1,107.6  \" stroke=\"gray\" stroke-dasharray=\"2,4\"/></g>\n",
       "<g color=\"black\" fill=\"none\" stroke=\"currentColor\" stroke-linecap=\"butt\" stroke-linejoin=\"miter\" stroke-width=\"0.50\">\n",
       "\t<path d=\"M48.4,107.6 L56.8,107.6 M543.1,107.6 L534.7,107.6  \" stroke=\"black\"/>\t<g fill=\"rgb(0,0,0)\" font-family=\"{}\" font-size=\"10.00\" stroke=\"none\" text-anchor=\"end\" transform=\"translate(42.8,111.3)\">\n",
       "\t\t<text><tspan font-family=\"{}\">0</tspan></text>\n",
       "\t</g>\n",
       "</g>\n",
       "<g color=\"black\" fill=\"none\" stroke=\"currentColor\" stroke-linecap=\"butt\" stroke-linejoin=\"miter\" stroke-width=\"0.50\">\n",
       "</g>\n",
       "<g color=\"gray\" fill=\"none\" stroke=\"currentColor\" stroke-linecap=\"butt\" stroke-linejoin=\"miter\" stroke-width=\"0.50\">\n",
       "\t<path class=\"gridline\" d=\"M48.4,39.1 L543.1,39.1  \" stroke=\"gray\" stroke-dasharray=\"2,4\"/></g>\n",
       "<g color=\"black\" fill=\"none\" stroke=\"currentColor\" stroke-linecap=\"butt\" stroke-linejoin=\"miter\" stroke-width=\"0.50\">\n",
       "\t<path d=\"M48.4,39.1 L56.8,39.1 M543.1,39.1 L534.7,39.1  \" stroke=\"black\"/>\t<g fill=\"rgb(0,0,0)\" font-family=\"{}\" font-size=\"10.00\" stroke=\"none\" text-anchor=\"end\" transform=\"translate(42.8,42.8)\">\n",
       "\t\t<text><tspan font-family=\"{}\">100</tspan></text>\n",
       "\t</g>\n",
       "</g>\n",
       "<g color=\"black\" fill=\"none\" stroke=\"currentColor\" stroke-linecap=\"butt\" stroke-linejoin=\"miter\" stroke-width=\"0.50\">\n",
       "</g>\n",
       "<g color=\"gray\" fill=\"none\" stroke=\"currentColor\" stroke-linecap=\"butt\" stroke-linejoin=\"miter\" stroke-width=\"0.50\">\n",
       "\t<path class=\"gridline\" d=\"M48.4,381.6 L48.4,39.1  \" stroke=\"gray\" stroke-dasharray=\"2,4\"/></g>\n",
       "<g color=\"black\" fill=\"none\" stroke=\"currentColor\" stroke-linecap=\"butt\" stroke-linejoin=\"miter\" stroke-width=\"0.50\">\n",
       "\t<path d=\"M48.4,381.6 L48.4,373.2 M48.4,39.1 L48.4,47.5  \" stroke=\"black\"/>\t<g fill=\"rgb(0,0,0)\" font-family=\"{}\" font-size=\"10.00\" stroke=\"none\" text-anchor=\"middle\" transform=\"translate(48.4,397.3)\">\n",
       "\t\t<text><tspan font-family=\"{}\">0</tspan></text>\n",
       "\t</g>\n",
       "</g>\n",
       "<g color=\"black\" fill=\"none\" stroke=\"currentColor\" stroke-linecap=\"butt\" stroke-linejoin=\"miter\" stroke-width=\"0.50\">\n",
       "</g>\n",
       "<g color=\"gray\" fill=\"none\" stroke=\"currentColor\" stroke-linecap=\"butt\" stroke-linejoin=\"miter\" stroke-width=\"0.50\">\n",
       "\t<path class=\"gridline\" d=\"M147.3,381.6 L147.3,39.1  \" stroke=\"gray\" stroke-dasharray=\"2,4\"/></g>\n",
       "<g color=\"black\" fill=\"none\" stroke=\"currentColor\" stroke-linecap=\"butt\" stroke-linejoin=\"miter\" stroke-width=\"0.50\">\n",
       "\t<path d=\"M147.3,381.6 L147.3,373.2 M147.3,39.1 L147.3,47.5  \" stroke=\"black\"/>\t<g fill=\"rgb(0,0,0)\" font-family=\"{}\" font-size=\"10.00\" stroke=\"none\" text-anchor=\"middle\" transform=\"translate(147.3,397.3)\">\n",
       "\t\t<text><tspan font-family=\"{}\">0.2</tspan></text>\n",
       "\t</g>\n",
       "</g>\n",
       "<g color=\"black\" fill=\"none\" stroke=\"currentColor\" stroke-linecap=\"butt\" stroke-linejoin=\"miter\" stroke-width=\"0.50\">\n",
       "</g>\n",
       "<g color=\"gray\" fill=\"none\" stroke=\"currentColor\" stroke-linecap=\"butt\" stroke-linejoin=\"miter\" stroke-width=\"0.50\">\n",
       "\t<path class=\"gridline\" d=\"M246.3,381.6 L246.3,39.1  \" stroke=\"gray\" stroke-dasharray=\"2,4\"/></g>\n",
       "<g color=\"black\" fill=\"none\" stroke=\"currentColor\" stroke-linecap=\"butt\" stroke-linejoin=\"miter\" stroke-width=\"0.50\">\n",
       "\t<path d=\"M246.3,381.6 L246.3,373.2 M246.3,39.1 L246.3,47.5  \" stroke=\"black\"/>\t<g fill=\"rgb(0,0,0)\" font-family=\"{}\" font-size=\"10.00\" stroke=\"none\" text-anchor=\"middle\" transform=\"translate(246.3,397.3)\">\n",
       "\t\t<text><tspan font-family=\"{}\">0.4</tspan></text>\n",
       "\t</g>\n",
       "</g>\n",
       "<g color=\"black\" fill=\"none\" stroke=\"currentColor\" stroke-linecap=\"butt\" stroke-linejoin=\"miter\" stroke-width=\"0.50\">\n",
       "</g>\n",
       "<g color=\"gray\" fill=\"none\" stroke=\"currentColor\" stroke-linecap=\"butt\" stroke-linejoin=\"miter\" stroke-width=\"0.50\">\n",
       "\t<path class=\"gridline\" d=\"M345.2,381.6 L345.2,39.1  \" stroke=\"gray\" stroke-dasharray=\"2,4\"/></g>\n",
       "<g color=\"black\" fill=\"none\" stroke=\"currentColor\" stroke-linecap=\"butt\" stroke-linejoin=\"miter\" stroke-width=\"0.50\">\n",
       "\t<path d=\"M345.2,381.6 L345.2,373.2 M345.2,39.1 L345.2,47.5  \" stroke=\"black\"/>\t<g fill=\"rgb(0,0,0)\" font-family=\"{}\" font-size=\"10.00\" stroke=\"none\" text-anchor=\"middle\" transform=\"translate(345.2,397.3)\">\n",
       "\t\t<text><tspan font-family=\"{}\">0.6</tspan></text>\n",
       "\t</g>\n",
       "</g>\n",
       "<g color=\"black\" fill=\"none\" stroke=\"currentColor\" stroke-linecap=\"butt\" stroke-linejoin=\"miter\" stroke-width=\"0.50\">\n",
       "</g>\n",
       "<g color=\"gray\" fill=\"none\" stroke=\"currentColor\" stroke-linecap=\"butt\" stroke-linejoin=\"miter\" stroke-width=\"0.50\">\n",
       "\t<path class=\"gridline\" d=\"M444.2,381.6 L444.2,39.1  \" stroke=\"gray\" stroke-dasharray=\"2,4\"/></g>\n",
       "<g color=\"black\" fill=\"none\" stroke=\"currentColor\" stroke-linecap=\"butt\" stroke-linejoin=\"miter\" stroke-width=\"0.50\">\n",
       "\t<path d=\"M444.2,381.6 L444.2,373.2 M444.2,39.1 L444.2,47.5  \" stroke=\"black\"/>\t<g fill=\"rgb(0,0,0)\" font-family=\"{}\" font-size=\"10.00\" stroke=\"none\" text-anchor=\"middle\" transform=\"translate(444.2,397.3)\">\n",
       "\t\t<text><tspan font-family=\"{}\">0.8</tspan></text>\n",
       "\t</g>\n",
       "</g>\n",
       "<g color=\"black\" fill=\"none\" stroke=\"currentColor\" stroke-linecap=\"butt\" stroke-linejoin=\"miter\" stroke-width=\"0.50\">\n",
       "</g>\n",
       "<g color=\"gray\" fill=\"none\" stroke=\"currentColor\" stroke-linecap=\"butt\" stroke-linejoin=\"miter\" stroke-width=\"0.50\">\n",
       "\t<path class=\"gridline\" d=\"M543.1,381.6 L543.1,39.1  \" stroke=\"gray\" stroke-dasharray=\"2,4\"/></g>\n",
       "<g color=\"black\" fill=\"none\" stroke=\"currentColor\" stroke-linecap=\"butt\" stroke-linejoin=\"miter\" stroke-width=\"0.50\">\n",
       "\t<path d=\"M543.1,381.6 L543.1,373.2 M543.1,39.1 L543.1,47.5  \" stroke=\"black\"/>\t<g fill=\"rgb(0,0,0)\" font-family=\"{}\" font-size=\"10.00\" stroke=\"none\" text-anchor=\"middle\" transform=\"translate(543.1,397.3)\">\n",
       "\t\t<text><tspan font-family=\"{}\">1</tspan></text>\n",
       "\t</g>\n",
       "</g>\n",
       "<g color=\"black\" fill=\"none\" stroke=\"currentColor\" stroke-linecap=\"butt\" stroke-linejoin=\"miter\" stroke-width=\"0.50\">\n",
       "</g>\n",
       "<g color=\"black\" fill=\"none\" stroke=\"currentColor\" stroke-linecap=\"butt\" stroke-linejoin=\"miter\" stroke-width=\"0.50\">\n",
       "\t<path d=\"M48.4,39.1 L48.4,381.6 L543.1,381.6 L543.1,39.1 L48.4,39.1 Z  \" stroke=\"black\"/></g>\n",
       "<g color=\"black\" fill=\"none\" stroke=\"currentColor\" stroke-linecap=\"butt\" stroke-linejoin=\"miter\" stroke-width=\"0.50\">\n",
       "\t<g fill=\"rgb(0,0,0)\" font-family=\"{}\" font-size=\"10.00\" stroke=\"none\" text-anchor=\"middle\" transform=\"translate(12.5,210.4) rotate(-90)\">\n",
       "\t\t<text><tspan font-family=\"{}\">Gain, dB</tspan></text>\n",
       "\t</g>\n",
       "</g>\n",
       "<g color=\"black\" fill=\"none\" stroke=\"currentColor\" stroke-linecap=\"butt\" stroke-linejoin=\"miter\" stroke-width=\"0.50\">\n",
       "\t<g fill=\"rgb(0,0,0)\" font-family=\"{}\" font-size=\"10.00\" stroke=\"none\" text-anchor=\"middle\" transform=\"translate(295.7,415.3)\">\n",
       "\t\t<text><tspan font-family=\"Symbol\">w</tspan><tspan font-family=\"{}\">/</tspan><tspan font-family=\"Symbol\">p</tspan></text>\n",
       "\t</g>\n",
       "</g>\n",
       "<g color=\"black\" fill=\"none\" stroke=\"currentColor\" stroke-linecap=\"butt\" stroke-linejoin=\"miter\" stroke-width=\"0.50\">\n",
       "\t<g fill=\"rgb(0,0,0)\" font-family=\"{}\" font-size=\"10.00\" stroke=\"none\" text-anchor=\"middle\" transform=\"translate(295.7,21.8)\">\n",
       "\t\t<text><tspan font-family=\"{}\">IIR Butterworth Lowpass Filter</tspan></text>\n",
       "\t</g>\n",
       "</g>\n",
       "<g color=\"black\" fill=\"none\" stroke=\"currentColor\" stroke-linecap=\"butt\" stroke-linejoin=\"miter\" stroke-width=\"0.50\">\n",
       "</g>\n",
       "\t<g id=\"gnuplot_plot_1a\"><title>gnuplot_plot_1a</title>\n",
       "<g color=\"black\" fill=\"none\" stroke=\"currentColor\" stroke-linecap=\"butt\" stroke-linejoin=\"miter\" stroke-width=\"0.50\">\n",
       "\t<path d=\"M48.4,107.6 L50.3,107.6 L52.3,107.6 L54.2,107.6 L56.1,107.6 L58.1,107.6 L60.0,107.6 L61.9,107.6   L63.9,107.6 L65.8,107.6 L67.7,107.6 L69.7,107.6 L71.6,107.6 L73.5,107.6 L75.5,107.6 L77.4,107.6   L79.3,107.6 L81.3,107.6 L83.2,107.6 L85.1,107.6 L87.0,107.6 L89.0,107.6 L90.9,107.6 L92.8,107.6   L94.8,107.6 L96.7,107.6 L98.6,107.6 L100.6,107.6 L102.5,107.6 L104.4,107.6 L106.4,107.6 L108.3,107.6   L110.2,107.6 L112.2,107.6 L114.1,107.6 L116.0,107.6 L118.0,107.6 L119.9,107.6 L121.8,107.6 L123.8,107.6   L125.7,107.6 L127.6,107.6 L129.6,107.6 L131.5,107.6 L133.4,107.6 L135.4,107.6 L137.3,107.6 L139.2,107.6   L141.2,107.6 L143.1,107.6 L145.0,107.6 L147.0,107.6 L148.9,107.6 L150.8,107.6 L152.8,107.6 L154.7,107.6   L156.6,107.6 L158.5,107.6 L160.5,107.6 L162.4,107.6 L164.3,107.6 L166.3,107.6 L168.2,107.6 L170.1,107.6   L172.1,107.6 L174.0,107.6 L175.9,107.6 L177.9,107.6 L179.8,107.6 L181.7,107.6 L183.7,107.6 L185.6,107.6   L187.5,107.6 L189.5,107.7 L191.4,107.7 L193.3,107.7 L195.3,107.8 L197.2,107.8 L199.1,107.9 L201.1,108.0   L203.0,108.1 L204.9,108.3 L206.9,108.5 L208.8,108.7 L210.7,109.0 L212.7,109.3 L214.6,109.7 L216.5,110.2   L218.5,110.7 L220.4,111.3 L222.3,111.9 L224.3,112.5 L226.2,113.2 L228.1,113.9 L230.0,114.6 L232.0,115.3   L233.9,116.1 L235.8,116.8 L237.8,117.6 L239.7,118.3 L241.6,119.1 L243.6,119.8 L245.5,120.6 L247.4,121.4   L249.4,122.1 L251.3,122.9 L253.2,123.6 L255.2,124.4 L257.1,125.1 L259.0,125.9 L261.0,126.6 L262.9,127.4   L264.8,128.1 L266.8,128.9 L268.7,129.6 L270.6,130.3 L272.6,131.1 L274.5,131.8 L276.4,132.6 L278.4,133.3   L280.3,134.0 L282.2,134.8 L284.2,135.5 L286.1,136.2 L288.0,136.9 L290.0,137.7 L291.9,138.4 L293.8,139.1   L295.8,139.9 L297.7,140.6 L299.6,141.3 L301.5,142.1 L303.5,142.8 L305.4,143.5 L307.3,144.3 L309.3,145.0   L311.2,145.7 L313.1,146.5 L315.1,147.2 L317.0,147.9 L318.9,148.7 L320.9,149.4 L322.8,150.1 L324.7,150.9   L326.7,151.6 L328.6,152.4 L330.5,153.1 L332.5,153.9 L334.4,154.6 L336.3,155.4 L338.3,156.1 L340.2,156.9   L342.1,157.7 L344.1,158.4 L346.0,159.2 L347.9,160.0 L349.9,160.7 L351.8,161.5 L353.7,162.3 L355.7,163.1   L357.6,163.9 L359.5,164.7 L361.5,165.4 L363.4,166.3 L365.3,167.1 L367.2,167.9 L369.2,168.7 L371.1,169.5   L373.0,170.3 L375.0,171.2 L376.9,172.0 L378.8,172.8 L380.8,173.7 L382.7,174.5 L384.6,175.4 L386.6,176.3   L388.5,177.1 L390.4,178.0 L392.4,178.9 L394.3,179.8 L396.2,180.7 L398.2,181.6 L400.1,182.5 L402.0,183.5   L404.0,184.4 L405.9,185.4 L407.8,186.3 L409.8,187.3 L411.7,188.3 L413.6,189.3 L415.6,190.3 L417.5,191.3   L419.4,192.3 L421.4,193.4 L423.3,194.4 L425.2,195.5 L427.2,196.5 L429.1,197.6 L431.0,198.8 L433.0,199.9   L434.9,201.0 L436.8,202.2 L438.7,203.4 L440.7,204.6 L442.6,205.8 L444.5,207.0 L446.5,208.3 L448.4,209.5   L450.3,210.8 L452.3,212.2 L454.2,213.5 L456.1,214.9 L458.1,216.3 L460.0,217.7 L461.9,219.2 L463.9,220.7   L465.8,222.2 L467.7,223.8 L469.7,225.4 L471.6,227.1 L473.5,228.7 L475.5,230.5 L477.4,232.2 L479.3,234.1   L481.3,236.0 L483.2,237.9 L485.1,239.9 L487.1,242.0 L489.0,244.1 L490.9,246.3 L492.9,248.6 L494.8,250.9   L496.7,253.4 L498.7,256.0 L500.6,258.7 L502.5,261.5 L504.5,264.4 L506.4,267.5 L508.3,270.7 L510.2,274.1   L512.2,277.8 L514.1,281.6 L516.0,285.8 L518.0,290.2 L519.9,295.0 L521.8,300.2 L523.8,305.9 L525.7,312.1   L527.6,319.2 L529.6,327.1 L531.5,336.3 L533.4,347.0 L535.4,358.4 L537.3,362.4 L539.2,362.6 L541.2,372.5    \" stroke=\"rgb(  0,   0, 255)\"/></g>\n",
       "\t</g>\n",
       "<g color=\"white\" fill=\"none\" stroke=\"rgb(  0,   0, 255)\" stroke-linecap=\"butt\" stroke-linejoin=\"miter\" stroke-width=\"2.00\">\n",
       "</g>\n",
       "<g color=\"black\" fill=\"none\" stroke=\"currentColor\" stroke-linecap=\"butt\" stroke-linejoin=\"miter\" stroke-width=\"2.00\">\n",
       "</g>\n",
       "<g color=\"black\" fill=\"none\" stroke=\"black\" stroke-linecap=\"butt\" stroke-linejoin=\"miter\" stroke-width=\"0.50\">\n",
       "</g>\n",
       "<g color=\"black\" fill=\"none\" stroke=\"currentColor\" stroke-linecap=\"butt\" stroke-linejoin=\"miter\" stroke-width=\"0.50\">\n",
       "</g>\n",
       "</g>\n",
       "</svg>"
      ]
     },
     "metadata": {},
     "output_type": "display_data"
    }
   ],
   "source": [
    "%%octave\n",
    "clc;\n",
    "clear all;\n",
    "close all;\n",
    "pkg load signal\n",
    "Wp = 15000/(100000/2)\n",
    "Ws = 25000/(100000/2)\n",
    "Rp = 0.3\n",
    "Rs = 45\n",
    "[N,Wn] = buttord(Wp, Ws, Rp, Rs);\n",
    "N\n",
    "[b,a] = butter(N,Wn);\n",
    "[h,omega] = freqz(b,a,256);\n",
    "gain = 20*log10(abs(h));\n",
    "plot (omega/pi,gain);grid; xlabel('\\omega/\\pi'); ylabel('Gain, dB'); title('IIR Butterworth Lowpass Filter');"
   ]
  },
  {
   "cell_type": "markdown",
   "metadata": {},
   "source": [
    "**(2)**"
   ]
  },
  {
   "cell_type": "code",
   "execution_count": 8,
   "metadata": {
    "collapsed": false
   },
   "outputs": [
    {
     "data": {
      "text/plain": [
       "\u001b[H\u001b[2JWh_p =  0.50953\n",
       "Wh_s =  1.00000\n",
       "Fs =  100000"
      ]
     },
     "metadata": {},
     "output_type": "display_data"
    }
   ],
   "source": [
    "%%octave -o Wh_p,Wh_s,Fs\n",
    "clc;\n",
    "clear all;\n",
    "close all;\n",
    "Wh_p = tan(2*pi*15000/100000/2)\n",
    "Wh_s = tan(2*pi*25000/100000/2)\n",
    "Fs = 100000"
   ]
  },
  {
   "cell_type": "code",
   "execution_count": 9,
   "metadata": {
    "collapsed": false
   },
   "outputs": [],
   "source": [
    "from scipy.signal import *\n",
    "N,Q=buttord(2*Fs*Wh_s,2*Fs*Wh_p,0.3,45,analog=True)"
   ]
  },
  {
   "cell_type": "code",
   "execution_count": 10,
   "metadata": {
    "collapsed": false
   },
   "outputs": [
    {
     "data": {
      "text/plain": []
     },
     "metadata": {},
     "output_type": "display_data"
    },
    {
     "data": {
      "image/svg+xml": [
       "<svg height=\"420px\" viewBox=\"0 0 560 420\" width=\"560px\" xmlns=\"http://www.w3.org/2000/svg\" xmlns:xlink=\"http://www.w3.org/1999/xlink\">\n",
       "\n",
       "<title>Gnuplot</title>\n",
       "<desc>Produced by GNUPLOT 5.0 patchlevel 1 </desc>\n",
       "\n",
       "<g id=\"gnuplot_canvas\">\n",
       "\n",
       "<rect fill=\"none\" height=\"420\" width=\"560\" x=\"0\" y=\"0\"/>\n",
       "<defs>\n",
       "\n",
       "\t<circle id=\"gpDot\" r=\"0.5\" stroke-width=\"0.5\"/>\n",
       "\t<path d=\"M-1,0 h2 M0,-1 v2\" id=\"gpPt0\" stroke=\"currentColor\" stroke-width=\"0.333\"/>\n",
       "\t<path d=\"M-1,-1 L1,1 M1,-1 L-1,1\" id=\"gpPt1\" stroke=\"currentColor\" stroke-width=\"0.333\"/>\n",
       "\t<path d=\"M-1,0 L1,0 M0,-1 L0,1 M-1,-1 L1,1 M-1,1 L1,-1\" id=\"gpPt2\" stroke=\"currentColor\" stroke-width=\"0.333\"/>\n",
       "\t<rect height=\"2\" id=\"gpPt3\" stroke=\"currentColor\" stroke-width=\"0.333\" width=\"2\" x=\"-1\" y=\"-1\"/>\n",
       "\t<rect fill=\"currentColor\" height=\"2\" id=\"gpPt4\" stroke=\"currentColor\" stroke-width=\"0.333\" width=\"2\" x=\"-1\" y=\"-1\"/>\n",
       "\t<circle cx=\"0\" cy=\"0\" id=\"gpPt5\" r=\"1\" stroke=\"currentColor\" stroke-width=\"0.333\"/>\n",
       "\t<use fill=\"currentColor\" id=\"gpPt6\" stroke=\"none\" xlink:href=\"#gpPt5\"/>\n",
       "\t<path d=\"M0,-1.33 L-1.33,0.67 L1.33,0.67 z\" id=\"gpPt7\" stroke=\"currentColor\" stroke-width=\"0.333\"/>\n",
       "\t<use fill=\"currentColor\" id=\"gpPt8\" stroke=\"none\" xlink:href=\"#gpPt7\"/>\n",
       "\t<use id=\"gpPt9\" stroke=\"currentColor\" transform=\"rotate(180)\" xlink:href=\"#gpPt7\"/>\n",
       "\t<use fill=\"currentColor\" id=\"gpPt10\" stroke=\"none\" xlink:href=\"#gpPt9\"/>\n",
       "\t<use id=\"gpPt11\" stroke=\"currentColor\" transform=\"rotate(45)\" xlink:href=\"#gpPt3\"/>\n",
       "\t<use fill=\"currentColor\" id=\"gpPt12\" stroke=\"none\" xlink:href=\"#gpPt11\"/>\n",
       "\t<path d=\"M0,1.330 L1.265,0.411 L0.782,-1.067 L-0.782,-1.076 L-1.265,0.411 z\" id=\"gpPt13\" stroke=\"currentColor\" stroke-width=\"0.333\"/>\n",
       "\t<use fill=\"currentColor\" id=\"gpPt14\" stroke=\"none\" xlink:href=\"#gpPt13\"/>\n",
       "\t<filter filterUnits=\"objectBoundingBox\" height=\"1\" id=\"textbox\" width=\"1\" x=\"0\" y=\"0\">\n",
       "\t  <feFlood flood-color=\"white\" flood-opacity=\"1\" result=\"bgnd\"/>\n",
       "\t  <feComposite in=\"SourceGraphic\" in2=\"bgnd\" operator=\"atop\"/>\n",
       "\t</filter>\n",
       "\t<filter filterUnits=\"objectBoundingBox\" height=\"1\" id=\"greybox\" width=\"1\" x=\"0\" y=\"0\">\n",
       "\t  <feFlood flood-color=\"lightgrey\" flood-opacity=\"1\" result=\"grey\"/>\n",
       "\t  <feComposite in=\"SourceGraphic\" in2=\"grey\" operator=\"atop\"/>\n",
       "\t</filter>\n",
       "</defs>\n",
       "<g color=\"white\" fill=\"none\" stroke=\"currentColor\" stroke-linecap=\"butt\" stroke-linejoin=\"miter\" stroke-width=\"1.00\">\n",
       "</g>\n",
       "<g color=\"black\" fill=\"none\" stroke=\"currentColor\" stroke-linecap=\"butt\" stroke-linejoin=\"miter\" stroke-width=\"1.00\">\n",
       "\t<g shape-rendering=\"crispEdges\" stroke=\"none\">\n",
       "\t\t<polygon fill=\"rgb(255, 255, 255)\" points=\"48.4,381.6 543.0,381.6 543.0,39.2 48.4,39.2 \"/>\n",
       "\t</g>\n",
       "</g>\n",
       "<g color=\"black\" fill=\"none\" stroke=\"rgb(255, 255, 255)\" stroke-linecap=\"butt\" stroke-linejoin=\"miter\" stroke-width=\"0.50\">\n",
       "</g>\n",
       "<g color=\"black\" fill=\"none\" stroke=\"currentColor\" stroke-linecap=\"butt\" stroke-linejoin=\"miter\" stroke-width=\"0.50\">\n",
       "</g>\n",
       "<g color=\"gray\" fill=\"none\" stroke=\"currentColor\" stroke-linecap=\"butt\" stroke-linejoin=\"miter\" stroke-width=\"0.50\">\n",
       "\t<path class=\"gridline\" d=\"M48.4,381.6 L543.1,381.6  \" stroke=\"gray\" stroke-dasharray=\"2,4\"/></g>\n",
       "<g color=\"black\" fill=\"none\" stroke=\"currentColor\" stroke-linecap=\"butt\" stroke-linejoin=\"miter\" stroke-width=\"0.50\">\n",
       "\t<path d=\"M48.4,381.6 L56.8,381.6 M543.1,381.6 L534.7,381.6  \" stroke=\"black\"/>\t<g fill=\"rgb(0,0,0)\" font-family=\"{}\" font-size=\"10.00\" stroke=\"none\" text-anchor=\"end\" transform=\"translate(42.8,385.3)\">\n",
       "\t\t<text><tspan font-family=\"{}\">-400</tspan></text>\n",
       "\t</g>\n",
       "</g>\n",
       "<g color=\"black\" fill=\"none\" stroke=\"currentColor\" stroke-linecap=\"butt\" stroke-linejoin=\"miter\" stroke-width=\"0.50\">\n",
       "</g>\n",
       "<g color=\"gray\" fill=\"none\" stroke=\"currentColor\" stroke-linecap=\"butt\" stroke-linejoin=\"miter\" stroke-width=\"0.50\">\n",
       "\t<path class=\"gridline\" d=\"M48.4,313.1 L543.1,313.1  \" stroke=\"gray\" stroke-dasharray=\"2,4\"/></g>\n",
       "<g color=\"black\" fill=\"none\" stroke=\"currentColor\" stroke-linecap=\"butt\" stroke-linejoin=\"miter\" stroke-width=\"0.50\">\n",
       "\t<path d=\"M48.4,313.1 L56.8,313.1 M543.1,313.1 L534.7,313.1  \" stroke=\"black\"/>\t<g fill=\"rgb(0,0,0)\" font-family=\"{}\" font-size=\"10.00\" stroke=\"none\" text-anchor=\"end\" transform=\"translate(42.8,316.8)\">\n",
       "\t\t<text><tspan font-family=\"{}\">-300</tspan></text>\n",
       "\t</g>\n",
       "</g>\n",
       "<g color=\"black\" fill=\"none\" stroke=\"currentColor\" stroke-linecap=\"butt\" stroke-linejoin=\"miter\" stroke-width=\"0.50\">\n",
       "</g>\n",
       "<g color=\"gray\" fill=\"none\" stroke=\"currentColor\" stroke-linecap=\"butt\" stroke-linejoin=\"miter\" stroke-width=\"0.50\">\n",
       "\t<path class=\"gridline\" d=\"M48.4,244.6 L543.1,244.6  \" stroke=\"gray\" stroke-dasharray=\"2,4\"/></g>\n",
       "<g color=\"black\" fill=\"none\" stroke=\"currentColor\" stroke-linecap=\"butt\" stroke-linejoin=\"miter\" stroke-width=\"0.50\">\n",
       "\t<path d=\"M48.4,244.6 L56.8,244.6 M543.1,244.6 L534.7,244.6  \" stroke=\"black\"/>\t<g fill=\"rgb(0,0,0)\" font-family=\"{}\" font-size=\"10.00\" stroke=\"none\" text-anchor=\"end\" transform=\"translate(42.8,248.3)\">\n",
       "\t\t<text><tspan font-family=\"{}\">-200</tspan></text>\n",
       "\t</g>\n",
       "</g>\n",
       "<g color=\"black\" fill=\"none\" stroke=\"currentColor\" stroke-linecap=\"butt\" stroke-linejoin=\"miter\" stroke-width=\"0.50\">\n",
       "</g>\n",
       "<g color=\"gray\" fill=\"none\" stroke=\"currentColor\" stroke-linecap=\"butt\" stroke-linejoin=\"miter\" stroke-width=\"0.50\">\n",
       "\t<path class=\"gridline\" d=\"M48.4,176.1 L543.1,176.1  \" stroke=\"gray\" stroke-dasharray=\"2,4\"/></g>\n",
       "<g color=\"black\" fill=\"none\" stroke=\"currentColor\" stroke-linecap=\"butt\" stroke-linejoin=\"miter\" stroke-width=\"0.50\">\n",
       "\t<path d=\"M48.4,176.1 L56.8,176.1 M543.1,176.1 L534.7,176.1  \" stroke=\"black\"/>\t<g fill=\"rgb(0,0,0)\" font-family=\"{}\" font-size=\"10.00\" stroke=\"none\" text-anchor=\"end\" transform=\"translate(42.8,179.8)\">\n",
       "\t\t<text><tspan font-family=\"{}\">-100</tspan></text>\n",
       "\t</g>\n",
       "</g>\n",
       "<g color=\"black\" fill=\"none\" stroke=\"currentColor\" stroke-linecap=\"butt\" stroke-linejoin=\"miter\" stroke-width=\"0.50\">\n",
       "</g>\n",
       "<g color=\"gray\" fill=\"none\" stroke=\"currentColor\" stroke-linecap=\"butt\" stroke-linejoin=\"miter\" stroke-width=\"0.50\">\n",
       "\t<path class=\"gridline\" d=\"M48.4,107.6 L543.1,107.6  \" stroke=\"gray\" stroke-dasharray=\"2,4\"/></g>\n",
       "<g color=\"black\" fill=\"none\" stroke=\"currentColor\" stroke-linecap=\"butt\" stroke-linejoin=\"miter\" stroke-width=\"0.50\">\n",
       "\t<path d=\"M48.4,107.6 L56.8,107.6 M543.1,107.6 L534.7,107.6  \" stroke=\"black\"/>\t<g fill=\"rgb(0,0,0)\" font-family=\"{}\" font-size=\"10.00\" stroke=\"none\" text-anchor=\"end\" transform=\"translate(42.8,111.3)\">\n",
       "\t\t<text><tspan font-family=\"{}\">0</tspan></text>\n",
       "\t</g>\n",
       "</g>\n",
       "<g color=\"black\" fill=\"none\" stroke=\"currentColor\" stroke-linecap=\"butt\" stroke-linejoin=\"miter\" stroke-width=\"0.50\">\n",
       "</g>\n",
       "<g color=\"gray\" fill=\"none\" stroke=\"currentColor\" stroke-linecap=\"butt\" stroke-linejoin=\"miter\" stroke-width=\"0.50\">\n",
       "\t<path class=\"gridline\" d=\"M48.4,39.1 L543.1,39.1  \" stroke=\"gray\" stroke-dasharray=\"2,4\"/></g>\n",
       "<g color=\"black\" fill=\"none\" stroke=\"currentColor\" stroke-linecap=\"butt\" stroke-linejoin=\"miter\" stroke-width=\"0.50\">\n",
       "\t<path d=\"M48.4,39.1 L56.8,39.1 M543.1,39.1 L534.7,39.1  \" stroke=\"black\"/>\t<g fill=\"rgb(0,0,0)\" font-family=\"{}\" font-size=\"10.00\" stroke=\"none\" text-anchor=\"end\" transform=\"translate(42.8,42.8)\">\n",
       "\t\t<text><tspan font-family=\"{}\">100</tspan></text>\n",
       "\t</g>\n",
       "</g>\n",
       "<g color=\"black\" fill=\"none\" stroke=\"currentColor\" stroke-linecap=\"butt\" stroke-linejoin=\"miter\" stroke-width=\"0.50\">\n",
       "</g>\n",
       "<g color=\"gray\" fill=\"none\" stroke=\"currentColor\" stroke-linecap=\"butt\" stroke-linejoin=\"miter\" stroke-width=\"0.50\">\n",
       "\t<path class=\"gridline\" d=\"M48.4,381.6 L48.4,39.1  \" stroke=\"gray\" stroke-dasharray=\"2,4\"/></g>\n",
       "<g color=\"black\" fill=\"none\" stroke=\"currentColor\" stroke-linecap=\"butt\" stroke-linejoin=\"miter\" stroke-width=\"0.50\">\n",
       "\t<path d=\"M48.4,381.6 L48.4,373.2 M48.4,39.1 L48.4,47.5  \" stroke=\"black\"/>\t<g fill=\"rgb(0,0,0)\" font-family=\"{}\" font-size=\"10.00\" stroke=\"none\" text-anchor=\"middle\" transform=\"translate(48.4,397.3)\">\n",
       "\t\t<text><tspan font-family=\"{}\">0</tspan></text>\n",
       "\t</g>\n",
       "</g>\n",
       "<g color=\"black\" fill=\"none\" stroke=\"currentColor\" stroke-linecap=\"butt\" stroke-linejoin=\"miter\" stroke-width=\"0.50\">\n",
       "</g>\n",
       "<g color=\"gray\" fill=\"none\" stroke=\"currentColor\" stroke-linecap=\"butt\" stroke-linejoin=\"miter\" stroke-width=\"0.50\">\n",
       "\t<path class=\"gridline\" d=\"M147.3,381.6 L147.3,39.1  \" stroke=\"gray\" stroke-dasharray=\"2,4\"/></g>\n",
       "<g color=\"black\" fill=\"none\" stroke=\"currentColor\" stroke-linecap=\"butt\" stroke-linejoin=\"miter\" stroke-width=\"0.50\">\n",
       "\t<path d=\"M147.3,381.6 L147.3,373.2 M147.3,39.1 L147.3,47.5  \" stroke=\"black\"/>\t<g fill=\"rgb(0,0,0)\" font-family=\"{}\" font-size=\"10.00\" stroke=\"none\" text-anchor=\"middle\" transform=\"translate(147.3,397.3)\">\n",
       "\t\t<text><tspan font-family=\"{}\">0.2</tspan></text>\n",
       "\t</g>\n",
       "</g>\n",
       "<g color=\"black\" fill=\"none\" stroke=\"currentColor\" stroke-linecap=\"butt\" stroke-linejoin=\"miter\" stroke-width=\"0.50\">\n",
       "</g>\n",
       "<g color=\"gray\" fill=\"none\" stroke=\"currentColor\" stroke-linecap=\"butt\" stroke-linejoin=\"miter\" stroke-width=\"0.50\">\n",
       "\t<path class=\"gridline\" d=\"M246.3,381.6 L246.3,39.1  \" stroke=\"gray\" stroke-dasharray=\"2,4\"/></g>\n",
       "<g color=\"black\" fill=\"none\" stroke=\"currentColor\" stroke-linecap=\"butt\" stroke-linejoin=\"miter\" stroke-width=\"0.50\">\n",
       "\t<path d=\"M246.3,381.6 L246.3,373.2 M246.3,39.1 L246.3,47.5  \" stroke=\"black\"/>\t<g fill=\"rgb(0,0,0)\" font-family=\"{}\" font-size=\"10.00\" stroke=\"none\" text-anchor=\"middle\" transform=\"translate(246.3,397.3)\">\n",
       "\t\t<text><tspan font-family=\"{}\">0.4</tspan></text>\n",
       "\t</g>\n",
       "</g>\n",
       "<g color=\"black\" fill=\"none\" stroke=\"currentColor\" stroke-linecap=\"butt\" stroke-linejoin=\"miter\" stroke-width=\"0.50\">\n",
       "</g>\n",
       "<g color=\"gray\" fill=\"none\" stroke=\"currentColor\" stroke-linecap=\"butt\" stroke-linejoin=\"miter\" stroke-width=\"0.50\">\n",
       "\t<path class=\"gridline\" d=\"M345.2,381.6 L345.2,39.1  \" stroke=\"gray\" stroke-dasharray=\"2,4\"/></g>\n",
       "<g color=\"black\" fill=\"none\" stroke=\"currentColor\" stroke-linecap=\"butt\" stroke-linejoin=\"miter\" stroke-width=\"0.50\">\n",
       "\t<path d=\"M345.2,381.6 L345.2,373.2 M345.2,39.1 L345.2,47.5  \" stroke=\"black\"/>\t<g fill=\"rgb(0,0,0)\" font-family=\"{}\" font-size=\"10.00\" stroke=\"none\" text-anchor=\"middle\" transform=\"translate(345.2,397.3)\">\n",
       "\t\t<text><tspan font-family=\"{}\">0.6</tspan></text>\n",
       "\t</g>\n",
       "</g>\n",
       "<g color=\"black\" fill=\"none\" stroke=\"currentColor\" stroke-linecap=\"butt\" stroke-linejoin=\"miter\" stroke-width=\"0.50\">\n",
       "</g>\n",
       "<g color=\"gray\" fill=\"none\" stroke=\"currentColor\" stroke-linecap=\"butt\" stroke-linejoin=\"miter\" stroke-width=\"0.50\">\n",
       "\t<path class=\"gridline\" d=\"M444.2,381.6 L444.2,39.1  \" stroke=\"gray\" stroke-dasharray=\"2,4\"/></g>\n",
       "<g color=\"black\" fill=\"none\" stroke=\"currentColor\" stroke-linecap=\"butt\" stroke-linejoin=\"miter\" stroke-width=\"0.50\">\n",
       "\t<path d=\"M444.2,381.6 L444.2,373.2 M444.2,39.1 L444.2,47.5  \" stroke=\"black\"/>\t<g fill=\"rgb(0,0,0)\" font-family=\"{}\" font-size=\"10.00\" stroke=\"none\" text-anchor=\"middle\" transform=\"translate(444.2,397.3)\">\n",
       "\t\t<text><tspan font-family=\"{}\">0.8</tspan></text>\n",
       "\t</g>\n",
       "</g>\n",
       "<g color=\"black\" fill=\"none\" stroke=\"currentColor\" stroke-linecap=\"butt\" stroke-linejoin=\"miter\" stroke-width=\"0.50\">\n",
       "</g>\n",
       "<g color=\"gray\" fill=\"none\" stroke=\"currentColor\" stroke-linecap=\"butt\" stroke-linejoin=\"miter\" stroke-width=\"0.50\">\n",
       "\t<path class=\"gridline\" d=\"M543.1,381.6 L543.1,39.1  \" stroke=\"gray\" stroke-dasharray=\"2,4\"/></g>\n",
       "<g color=\"black\" fill=\"none\" stroke=\"currentColor\" stroke-linecap=\"butt\" stroke-linejoin=\"miter\" stroke-width=\"0.50\">\n",
       "\t<path d=\"M543.1,381.6 L543.1,373.2 M543.1,39.1 L543.1,47.5  \" stroke=\"black\"/>\t<g fill=\"rgb(0,0,0)\" font-family=\"{}\" font-size=\"10.00\" stroke=\"none\" text-anchor=\"middle\" transform=\"translate(543.1,397.3)\">\n",
       "\t\t<text><tspan font-family=\"{}\">1</tspan></text>\n",
       "\t</g>\n",
       "</g>\n",
       "<g color=\"black\" fill=\"none\" stroke=\"currentColor\" stroke-linecap=\"butt\" stroke-linejoin=\"miter\" stroke-width=\"0.50\">\n",
       "</g>\n",
       "<g color=\"black\" fill=\"none\" stroke=\"currentColor\" stroke-linecap=\"butt\" stroke-linejoin=\"miter\" stroke-width=\"0.50\">\n",
       "\t<path d=\"M48.4,39.1 L48.4,381.6 L543.1,381.6 L543.1,39.1 L48.4,39.1 Z  \" stroke=\"black\"/></g>\n",
       "<g color=\"black\" fill=\"none\" stroke=\"currentColor\" stroke-linecap=\"butt\" stroke-linejoin=\"miter\" stroke-width=\"0.50\">\n",
       "\t<g fill=\"rgb(0,0,0)\" font-family=\"{}\" font-size=\"10.00\" stroke=\"none\" text-anchor=\"middle\" transform=\"translate(12.5,210.4) rotate(-90)\">\n",
       "\t\t<text><tspan font-family=\"{}\">Gain, dB</tspan></text>\n",
       "\t</g>\n",
       "</g>\n",
       "<g color=\"black\" fill=\"none\" stroke=\"currentColor\" stroke-linecap=\"butt\" stroke-linejoin=\"miter\" stroke-width=\"0.50\">\n",
       "\t<g fill=\"rgb(0,0,0)\" font-family=\"{}\" font-size=\"10.00\" stroke=\"none\" text-anchor=\"middle\" transform=\"translate(295.7,415.3)\">\n",
       "\t\t<text><tspan font-family=\"Symbol\">w</tspan><tspan font-family=\"{}\">/</tspan><tspan font-family=\"Symbol\">p</tspan></text>\n",
       "\t</g>\n",
       "</g>\n",
       "<g color=\"black\" fill=\"none\" stroke=\"currentColor\" stroke-linecap=\"butt\" stroke-linejoin=\"miter\" stroke-width=\"0.50\">\n",
       "\t<g fill=\"rgb(0,0,0)\" font-family=\"{}\" font-size=\"10.00\" stroke=\"none\" text-anchor=\"middle\" transform=\"translate(295.7,21.8)\">\n",
       "\t\t<text><tspan font-family=\"{}\">IIR Butterworth Lowpass Filter</tspan></text>\n",
       "\t</g>\n",
       "</g>\n",
       "<g color=\"black\" fill=\"none\" stroke=\"currentColor\" stroke-linecap=\"butt\" stroke-linejoin=\"miter\" stroke-width=\"0.50\">\n",
       "</g>\n",
       "\t<g id=\"gnuplot_plot_1a\"><title>gnuplot_plot_1a</title>\n",
       "<g color=\"black\" fill=\"none\" stroke=\"currentColor\" stroke-linecap=\"butt\" stroke-linejoin=\"miter\" stroke-width=\"0.50\">\n",
       "\t<path d=\"M48.4,107.6 L50.3,107.6 L52.3,107.6 L54.2,107.6 L56.1,107.6 L58.1,107.6 L60.0,107.6 L61.9,107.6   L63.9,107.6 L65.8,107.6 L67.7,107.6 L69.7,107.6 L71.6,107.6 L73.5,107.6 L75.5,107.6 L77.4,107.6   L79.3,107.6 L81.3,107.6 L83.2,107.6 L85.1,107.6 L87.0,107.6 L89.0,107.6 L90.9,107.6 L92.8,107.6   L94.8,107.6 L96.7,107.6 L98.6,107.6 L100.6,107.6 L102.5,107.6 L104.4,107.6 L106.4,107.6 L108.3,107.6   L110.2,107.6 L112.2,107.6 L114.1,107.6 L116.0,107.6 L118.0,107.6 L119.9,107.6 L121.8,107.6 L123.8,107.6   L125.7,107.6 L127.6,107.6 L129.6,107.6 L131.5,107.6 L133.4,107.6 L135.4,107.6 L137.3,107.6 L139.2,107.6   L141.2,107.6 L143.1,107.6 L145.0,107.6 L147.0,107.6 L148.9,107.6 L150.8,107.6 L152.8,107.6 L154.7,107.6   L156.6,107.6 L158.5,107.6 L160.5,107.6 L162.4,107.6 L164.3,107.6 L166.3,107.6 L168.2,107.6 L170.1,107.6   L172.1,107.7 L174.0,107.7 L175.9,107.7 L177.9,107.8 L179.8,107.9 L181.7,108.0 L183.7,108.1 L185.6,108.2   L187.5,108.4 L189.5,108.7 L191.4,109.0 L193.3,109.4 L195.3,109.9 L197.2,110.4 L199.1,111.0 L201.1,111.6   L203.0,112.3 L204.9,113.0 L206.9,113.7 L208.8,114.5 L210.7,115.3 L212.7,116.1 L214.6,116.9 L216.5,117.7   L218.5,118.5 L220.4,119.3 L222.3,120.1 L224.3,120.9 L226.2,121.7 L228.1,122.5 L230.0,123.3 L232.0,124.1   L233.9,124.9 L235.8,125.6 L237.8,126.4 L239.7,127.2 L241.6,128.0 L243.6,128.8 L245.5,129.5 L247.4,130.3   L249.4,131.1 L251.3,131.8 L253.2,132.6 L255.2,133.3 L257.1,134.1 L259.0,134.8 L261.0,135.6 L262.9,136.3   L264.8,137.1 L266.8,137.8 L268.7,138.6 L270.6,139.3 L272.6,140.0 L274.5,140.8 L276.4,141.5 L278.4,142.3   L280.3,143.0 L282.2,143.7 L284.2,144.5 L286.1,145.2 L288.0,145.9 L290.0,146.7 L291.9,147.4 L293.8,148.1   L295.8,148.8 L297.7,149.6 L299.6,150.3 L301.5,151.0 L303.5,151.8 L305.4,152.5 L307.3,153.2 L309.3,154.0   L311.2,154.7 L313.1,155.4 L315.1,156.2 L317.0,156.9 L318.9,157.6 L320.9,158.4 L322.8,159.1 L324.7,159.9   L326.7,160.6 L328.6,161.3 L330.5,162.1 L332.5,162.8 L334.4,163.6 L336.3,164.3 L338.3,165.1 L340.2,165.9   L342.1,166.6 L344.1,167.4 L346.0,168.2 L347.9,168.9 L349.9,169.7 L351.8,170.5 L353.7,171.3 L355.7,172.0   L357.6,172.8 L359.5,173.6 L361.5,174.4 L363.4,175.2 L365.3,176.0 L367.2,176.8 L369.2,177.7 L371.1,178.5   L373.0,179.3 L375.0,180.1 L376.9,181.0 L378.8,181.8 L380.8,182.7 L382.7,183.5 L384.6,184.4 L386.6,185.2   L388.5,186.1 L390.4,187.0 L392.4,187.9 L394.3,188.8 L396.2,189.7 L398.2,190.6 L400.1,191.5 L402.0,192.4   L404.0,193.4 L405.9,194.3 L407.8,195.3 L409.8,196.3 L411.7,197.2 L413.6,198.2 L415.6,199.2 L417.5,200.3   L419.4,201.3 L421.4,202.3 L423.3,203.4 L425.2,204.4 L427.2,205.5 L429.1,206.6 L431.0,207.7 L433.0,208.8   L434.9,210.0 L436.8,211.2 L438.7,212.3 L440.7,213.5 L442.6,214.7 L444.5,216.0 L446.5,217.2 L448.4,218.5   L450.3,219.8 L452.3,221.1 L454.2,222.5 L456.1,223.9 L458.1,225.3 L460.0,226.7 L461.9,228.2 L463.9,229.7   L465.8,231.2 L467.7,232.8 L469.7,234.4 L471.6,236.0 L473.5,237.7 L475.5,239.4 L477.4,241.2 L479.3,243.0   L481.3,244.9 L483.2,246.9 L485.1,248.9 L487.1,250.9 L489.0,253.1 L490.9,255.3 L492.9,257.5 L494.8,259.9   L496.7,262.4 L498.7,264.9 L500.6,267.6 L502.5,270.4 L504.5,273.4 L506.4,276.4 L508.3,279.7 L510.2,283.1   L512.2,286.7 L514.1,290.6 L516.0,294.7 L518.0,299.2 L519.9,303.9 L521.8,309.1 L523.8,314.8 L525.7,321.1   L527.6,328.1 L529.6,336.1 L531.5,345.2 L533.4,355.5 L535.4,365.2 L537.3,369.3  \" stroke=\"rgb(  0,   0, 255)\"/></g>\n",
       "\t</g>\n",
       "<g color=\"white\" fill=\"none\" stroke=\"rgb(  0,   0, 255)\" stroke-linecap=\"butt\" stroke-linejoin=\"miter\" stroke-width=\"2.00\">\n",
       "</g>\n",
       "<g color=\"black\" fill=\"none\" stroke=\"currentColor\" stroke-linecap=\"butt\" stroke-linejoin=\"miter\" stroke-width=\"2.00\">\n",
       "</g>\n",
       "<g color=\"black\" fill=\"none\" stroke=\"black\" stroke-linecap=\"butt\" stroke-linejoin=\"miter\" stroke-width=\"0.50\">\n",
       "</g>\n",
       "<g color=\"black\" fill=\"none\" stroke=\"currentColor\" stroke-linecap=\"butt\" stroke-linejoin=\"miter\" stroke-width=\"0.50\">\n",
       "</g>\n",
       "</g>\n",
       "</svg>"
      ]
     },
     "metadata": {},
     "output_type": "display_data"
    }
   ],
   "source": [
    "%%octave -i N\n",
    "Fs=0.5;\n",
    "[z,p,k]=buttap(N);          % Butterworth filter prototype\n",
    "[num,den]=zp2tf(z,p,k);     % Convert to transfer function form\n",
    "[b,a]=bilinear(num,den,Wh_s);   % Analog to Digital conversion\n",
    "[h,omega] = freqz(b,a,256);\n",
    "gain = 20*log10(abs(h));\n",
    "plot (omega/pi,gain);grid; xlabel('\\omega/\\pi'); ylabel('Gain, dB'); title('IIR Butterworth Lowpass Filter');"
   ]
  },
  {
   "cell_type": "markdown",
   "metadata": {},
   "source": [
    "**(3)**"
   ]
  },
  {
   "cell_type": "code",
   "execution_count": 11,
   "metadata": {
    "collapsed": false
   },
   "outputs": [
    {
     "data": {
      "text/plain": [
       "\u001b[H\u001b[2JWh_s =  0.41421\n",
       "Wh_p =  1.00000\n",
       "Fs =  2000000\n",
       "num =  1\n",
       "den =\n",
       "\n",
       "   1.0e+01 *\n",
       "\n",
       "  0.10000  0.51258  1.31371  2.18462  2.56884  2.18462  1.31371  0.51258  0.10000"
      ]
     },
     "metadata": {},
     "output_type": "display_data"
    },
    {
     "data": {
      "image/svg+xml": [
       "<svg height=\"420px\" viewBox=\"0 0 560 420\" width=\"560px\" xmlns=\"http://www.w3.org/2000/svg\" xmlns:xlink=\"http://www.w3.org/1999/xlink\">\n",
       "\n",
       "<title>Gnuplot</title>\n",
       "<desc>Produced by GNUPLOT 5.0 patchlevel 1 </desc>\n",
       "\n",
       "<g id=\"gnuplot_canvas\">\n",
       "\n",
       "<rect fill=\"none\" height=\"420\" width=\"560\" x=\"0\" y=\"0\"/>\n",
       "<defs>\n",
       "\n",
       "\t<circle id=\"gpDot\" r=\"0.5\" stroke-width=\"0.5\"/>\n",
       "\t<path d=\"M-1,0 h2 M0,-1 v2\" id=\"gpPt0\" stroke=\"currentColor\" stroke-width=\"0.333\"/>\n",
       "\t<path d=\"M-1,-1 L1,1 M1,-1 L-1,1\" id=\"gpPt1\" stroke=\"currentColor\" stroke-width=\"0.333\"/>\n",
       "\t<path d=\"M-1,0 L1,0 M0,-1 L0,1 M-1,-1 L1,1 M-1,1 L1,-1\" id=\"gpPt2\" stroke=\"currentColor\" stroke-width=\"0.333\"/>\n",
       "\t<rect height=\"2\" id=\"gpPt3\" stroke=\"currentColor\" stroke-width=\"0.333\" width=\"2\" x=\"-1\" y=\"-1\"/>\n",
       "\t<rect fill=\"currentColor\" height=\"2\" id=\"gpPt4\" stroke=\"currentColor\" stroke-width=\"0.333\" width=\"2\" x=\"-1\" y=\"-1\"/>\n",
       "\t<circle cx=\"0\" cy=\"0\" id=\"gpPt5\" r=\"1\" stroke=\"currentColor\" stroke-width=\"0.333\"/>\n",
       "\t<use fill=\"currentColor\" id=\"gpPt6\" stroke=\"none\" xlink:href=\"#gpPt5\"/>\n",
       "\t<path d=\"M0,-1.33 L-1.33,0.67 L1.33,0.67 z\" id=\"gpPt7\" stroke=\"currentColor\" stroke-width=\"0.333\"/>\n",
       "\t<use fill=\"currentColor\" id=\"gpPt8\" stroke=\"none\" xlink:href=\"#gpPt7\"/>\n",
       "\t<use id=\"gpPt9\" stroke=\"currentColor\" transform=\"rotate(180)\" xlink:href=\"#gpPt7\"/>\n",
       "\t<use fill=\"currentColor\" id=\"gpPt10\" stroke=\"none\" xlink:href=\"#gpPt9\"/>\n",
       "\t<use id=\"gpPt11\" stroke=\"currentColor\" transform=\"rotate(45)\" xlink:href=\"#gpPt3\"/>\n",
       "\t<use fill=\"currentColor\" id=\"gpPt12\" stroke=\"none\" xlink:href=\"#gpPt11\"/>\n",
       "\t<path d=\"M0,1.330 L1.265,0.411 L0.782,-1.067 L-0.782,-1.076 L-1.265,0.411 z\" id=\"gpPt13\" stroke=\"currentColor\" stroke-width=\"0.333\"/>\n",
       "\t<use fill=\"currentColor\" id=\"gpPt14\" stroke=\"none\" xlink:href=\"#gpPt13\"/>\n",
       "\t<filter filterUnits=\"objectBoundingBox\" height=\"1\" id=\"textbox\" width=\"1\" x=\"0\" y=\"0\">\n",
       "\t  <feFlood flood-color=\"white\" flood-opacity=\"1\" result=\"bgnd\"/>\n",
       "\t  <feComposite in=\"SourceGraphic\" in2=\"bgnd\" operator=\"atop\"/>\n",
       "\t</filter>\n",
       "\t<filter filterUnits=\"objectBoundingBox\" height=\"1\" id=\"greybox\" width=\"1\" x=\"0\" y=\"0\">\n",
       "\t  <feFlood flood-color=\"lightgrey\" flood-opacity=\"1\" result=\"grey\"/>\n",
       "\t  <feComposite in=\"SourceGraphic\" in2=\"grey\" operator=\"atop\"/>\n",
       "\t</filter>\n",
       "</defs>\n",
       "<g color=\"white\" fill=\"none\" stroke=\"currentColor\" stroke-linecap=\"butt\" stroke-linejoin=\"miter\" stroke-width=\"1.00\">\n",
       "</g>\n",
       "<g color=\"black\" fill=\"none\" stroke=\"currentColor\" stroke-linecap=\"butt\" stroke-linejoin=\"miter\" stroke-width=\"1.00\">\n",
       "\t<g shape-rendering=\"crispEdges\" stroke=\"none\">\n",
       "\t\t<polygon fill=\"rgb(255, 255, 255)\" points=\"42.8,381.6 543.0,381.6 543.0,39.2 42.8,39.2 \"/>\n",
       "\t</g>\n",
       "</g>\n",
       "<g color=\"black\" fill=\"none\" stroke=\"rgb(255, 255, 255)\" stroke-linecap=\"butt\" stroke-linejoin=\"miter\" stroke-width=\"0.50\">\n",
       "</g>\n",
       "<g color=\"black\" fill=\"none\" stroke=\"currentColor\" stroke-linecap=\"butt\" stroke-linejoin=\"miter\" stroke-width=\"0.50\">\n",
       "</g>\n",
       "<g color=\"gray\" fill=\"none\" stroke=\"currentColor\" stroke-linecap=\"butt\" stroke-linejoin=\"miter\" stroke-width=\"0.50\">\n",
       "\t<path class=\"gridline\" d=\"M42.8,381.6 L543.1,381.6  \" stroke=\"gray\" stroke-dasharray=\"2,4\"/></g>\n",
       "<g color=\"black\" fill=\"none\" stroke=\"currentColor\" stroke-linecap=\"butt\" stroke-linejoin=\"miter\" stroke-width=\"0.50\">\n",
       "\t<path d=\"M42.8,381.6 L51.2,381.6 M543.1,381.6 L534.7,381.6  \" stroke=\"black\"/>\t<g fill=\"rgb(0,0,0)\" font-family=\"{}\" font-size=\"10.00\" stroke=\"none\" text-anchor=\"end\" transform=\"translate(37.2,385.3)\">\n",
       "\t\t<text><tspan font-family=\"{}\">-50</tspan></text>\n",
       "\t</g>\n",
       "</g>\n",
       "<g color=\"black\" fill=\"none\" stroke=\"currentColor\" stroke-linecap=\"butt\" stroke-linejoin=\"miter\" stroke-width=\"0.50\">\n",
       "</g>\n",
       "<g color=\"gray\" fill=\"none\" stroke=\"currentColor\" stroke-linecap=\"butt\" stroke-linejoin=\"miter\" stroke-width=\"0.50\">\n",
       "\t<path class=\"gridline\" d=\"M42.8,332.7 L543.1,332.7  \" stroke=\"gray\" stroke-dasharray=\"2,4\"/></g>\n",
       "<g color=\"black\" fill=\"none\" stroke=\"currentColor\" stroke-linecap=\"butt\" stroke-linejoin=\"miter\" stroke-width=\"0.50\">\n",
       "\t<path d=\"M42.8,332.7 L51.2,332.7 M543.1,332.7 L534.7,332.7  \" stroke=\"black\"/>\t<g fill=\"rgb(0,0,0)\" font-family=\"{}\" font-size=\"10.00\" stroke=\"none\" text-anchor=\"end\" transform=\"translate(37.2,336.4)\">\n",
       "\t\t<text><tspan font-family=\"{}\">0</tspan></text>\n",
       "\t</g>\n",
       "</g>\n",
       "<g color=\"black\" fill=\"none\" stroke=\"currentColor\" stroke-linecap=\"butt\" stroke-linejoin=\"miter\" stroke-width=\"0.50\">\n",
       "</g>\n",
       "<g color=\"gray\" fill=\"none\" stroke=\"currentColor\" stroke-linecap=\"butt\" stroke-linejoin=\"miter\" stroke-width=\"0.50\">\n",
       "\t<path class=\"gridline\" d=\"M42.8,283.7 L543.1,283.7  \" stroke=\"gray\" stroke-dasharray=\"2,4\"/></g>\n",
       "<g color=\"black\" fill=\"none\" stroke=\"currentColor\" stroke-linecap=\"butt\" stroke-linejoin=\"miter\" stroke-width=\"0.50\">\n",
       "\t<path d=\"M42.8,283.7 L51.2,283.7 M543.1,283.7 L534.7,283.7  \" stroke=\"black\"/>\t<g fill=\"rgb(0,0,0)\" font-family=\"{}\" font-size=\"10.00\" stroke=\"none\" text-anchor=\"end\" transform=\"translate(37.2,287.4)\">\n",
       "\t\t<text><tspan font-family=\"{}\">50</tspan></text>\n",
       "\t</g>\n",
       "</g>\n",
       "<g color=\"black\" fill=\"none\" stroke=\"currentColor\" stroke-linecap=\"butt\" stroke-linejoin=\"miter\" stroke-width=\"0.50\">\n",
       "</g>\n",
       "<g color=\"gray\" fill=\"none\" stroke=\"currentColor\" stroke-linecap=\"butt\" stroke-linejoin=\"miter\" stroke-width=\"0.50\">\n",
       "\t<path class=\"gridline\" d=\"M42.8,234.8 L543.1,234.8  \" stroke=\"gray\" stroke-dasharray=\"2,4\"/></g>\n",
       "<g color=\"black\" fill=\"none\" stroke=\"currentColor\" stroke-linecap=\"butt\" stroke-linejoin=\"miter\" stroke-width=\"0.50\">\n",
       "\t<path d=\"M42.8,234.8 L51.2,234.8 M543.1,234.8 L534.7,234.8  \" stroke=\"black\"/>\t<g fill=\"rgb(0,0,0)\" font-family=\"{}\" font-size=\"10.00\" stroke=\"none\" text-anchor=\"end\" transform=\"translate(37.2,238.5)\">\n",
       "\t\t<text><tspan font-family=\"{}\">100</tspan></text>\n",
       "\t</g>\n",
       "</g>\n",
       "<g color=\"black\" fill=\"none\" stroke=\"currentColor\" stroke-linecap=\"butt\" stroke-linejoin=\"miter\" stroke-width=\"0.50\">\n",
       "</g>\n",
       "<g color=\"gray\" fill=\"none\" stroke=\"currentColor\" stroke-linecap=\"butt\" stroke-linejoin=\"miter\" stroke-width=\"0.50\">\n",
       "\t<path class=\"gridline\" d=\"M42.8,185.9 L543.1,185.9  \" stroke=\"gray\" stroke-dasharray=\"2,4\"/></g>\n",
       "<g color=\"black\" fill=\"none\" stroke=\"currentColor\" stroke-linecap=\"butt\" stroke-linejoin=\"miter\" stroke-width=\"0.50\">\n",
       "\t<path d=\"M42.8,185.9 L51.2,185.9 M543.1,185.9 L534.7,185.9  \" stroke=\"black\"/>\t<g fill=\"rgb(0,0,0)\" font-family=\"{}\" font-size=\"10.00\" stroke=\"none\" text-anchor=\"end\" transform=\"translate(37.2,189.6)\">\n",
       "\t\t<text><tspan font-family=\"{}\">150</tspan></text>\n",
       "\t</g>\n",
       "</g>\n",
       "<g color=\"black\" fill=\"none\" stroke=\"currentColor\" stroke-linecap=\"butt\" stroke-linejoin=\"miter\" stroke-width=\"0.50\">\n",
       "</g>\n",
       "<g color=\"gray\" fill=\"none\" stroke=\"currentColor\" stroke-linecap=\"butt\" stroke-linejoin=\"miter\" stroke-width=\"0.50\">\n",
       "\t<path class=\"gridline\" d=\"M42.8,137.0 L543.1,137.0  \" stroke=\"gray\" stroke-dasharray=\"2,4\"/></g>\n",
       "<g color=\"black\" fill=\"none\" stroke=\"currentColor\" stroke-linecap=\"butt\" stroke-linejoin=\"miter\" stroke-width=\"0.50\">\n",
       "\t<path d=\"M42.8,137.0 L51.2,137.0 M543.1,137.0 L534.7,137.0  \" stroke=\"black\"/>\t<g fill=\"rgb(0,0,0)\" font-family=\"{}\" font-size=\"10.00\" stroke=\"none\" text-anchor=\"end\" transform=\"translate(37.2,140.7)\">\n",
       "\t\t<text><tspan font-family=\"{}\">200</tspan></text>\n",
       "\t</g>\n",
       "</g>\n",
       "<g color=\"black\" fill=\"none\" stroke=\"currentColor\" stroke-linecap=\"butt\" stroke-linejoin=\"miter\" stroke-width=\"0.50\">\n",
       "</g>\n",
       "<g color=\"gray\" fill=\"none\" stroke=\"currentColor\" stroke-linecap=\"butt\" stroke-linejoin=\"miter\" stroke-width=\"0.50\">\n",
       "\t<path class=\"gridline\" d=\"M42.8,88.0 L543.1,88.0  \" stroke=\"gray\" stroke-dasharray=\"2,4\"/></g>\n",
       "<g color=\"black\" fill=\"none\" stroke=\"currentColor\" stroke-linecap=\"butt\" stroke-linejoin=\"miter\" stroke-width=\"0.50\">\n",
       "\t<path d=\"M42.8,88.0 L51.2,88.0 M543.1,88.0 L534.7,88.0  \" stroke=\"black\"/>\t<g fill=\"rgb(0,0,0)\" font-family=\"{}\" font-size=\"10.00\" stroke=\"none\" text-anchor=\"end\" transform=\"translate(37.2,91.7)\">\n",
       "\t\t<text><tspan font-family=\"{}\">250</tspan></text>\n",
       "\t</g>\n",
       "</g>\n",
       "<g color=\"black\" fill=\"none\" stroke=\"currentColor\" stroke-linecap=\"butt\" stroke-linejoin=\"miter\" stroke-width=\"0.50\">\n",
       "</g>\n",
       "<g color=\"gray\" fill=\"none\" stroke=\"currentColor\" stroke-linecap=\"butt\" stroke-linejoin=\"miter\" stroke-width=\"0.50\">\n",
       "\t<path class=\"gridline\" d=\"M42.8,39.1 L543.1,39.1  \" stroke=\"gray\" stroke-dasharray=\"2,4\"/></g>\n",
       "<g color=\"black\" fill=\"none\" stroke=\"currentColor\" stroke-linecap=\"butt\" stroke-linejoin=\"miter\" stroke-width=\"0.50\">\n",
       "\t<path d=\"M42.8,39.1 L51.2,39.1 M543.1,39.1 L534.7,39.1  \" stroke=\"black\"/>\t<g fill=\"rgb(0,0,0)\" font-family=\"{}\" font-size=\"10.00\" stroke=\"none\" text-anchor=\"end\" transform=\"translate(37.2,42.8)\">\n",
       "\t\t<text><tspan font-family=\"{}\">300</tspan></text>\n",
       "\t</g>\n",
       "</g>\n",
       "<g color=\"black\" fill=\"none\" stroke=\"currentColor\" stroke-linecap=\"butt\" stroke-linejoin=\"miter\" stroke-width=\"0.50\">\n",
       "</g>\n",
       "<g color=\"gray\" fill=\"none\" stroke=\"currentColor\" stroke-linecap=\"butt\" stroke-linejoin=\"miter\" stroke-width=\"0.50\">\n",
       "\t<path class=\"gridline\" d=\"M42.8,381.6 L42.8,39.1  \" stroke=\"gray\" stroke-dasharray=\"2,4\"/></g>\n",
       "<g color=\"black\" fill=\"none\" stroke=\"currentColor\" stroke-linecap=\"butt\" stroke-linejoin=\"miter\" stroke-width=\"0.50\">\n",
       "\t<path d=\"M42.8,381.6 L42.8,373.2 M42.8,39.1 L42.8,47.5  \" stroke=\"black\"/>\t<g fill=\"rgb(0,0,0)\" font-family=\"{}\" font-size=\"10.00\" stroke=\"none\" text-anchor=\"middle\" transform=\"translate(42.8,397.3)\">\n",
       "\t\t<text><tspan font-family=\"{}\">0</tspan></text>\n",
       "\t</g>\n",
       "</g>\n",
       "<g color=\"black\" fill=\"none\" stroke=\"currentColor\" stroke-linecap=\"butt\" stroke-linejoin=\"miter\" stroke-width=\"0.50\">\n",
       "</g>\n",
       "<g color=\"gray\" fill=\"none\" stroke=\"currentColor\" stroke-linecap=\"butt\" stroke-linejoin=\"miter\" stroke-width=\"0.50\">\n",
       "\t<path class=\"gridline\" d=\"M142.9,381.6 L142.9,39.1  \" stroke=\"gray\" stroke-dasharray=\"2,4\"/></g>\n",
       "<g color=\"black\" fill=\"none\" stroke=\"currentColor\" stroke-linecap=\"butt\" stroke-linejoin=\"miter\" stroke-width=\"0.50\">\n",
       "\t<path d=\"M142.9,381.6 L142.9,373.2 M142.9,39.1 L142.9,47.5  \" stroke=\"black\"/>\t<g fill=\"rgb(0,0,0)\" font-family=\"{}\" font-size=\"10.00\" stroke=\"none\" text-anchor=\"middle\" transform=\"translate(142.9,397.3)\">\n",
       "\t\t<text><tspan font-family=\"{}\">0.2</tspan></text>\n",
       "\t</g>\n",
       "</g>\n",
       "<g color=\"black\" fill=\"none\" stroke=\"currentColor\" stroke-linecap=\"butt\" stroke-linejoin=\"miter\" stroke-width=\"0.50\">\n",
       "</g>\n",
       "<g color=\"gray\" fill=\"none\" stroke=\"currentColor\" stroke-linecap=\"butt\" stroke-linejoin=\"miter\" stroke-width=\"0.50\">\n",
       "\t<path class=\"gridline\" d=\"M242.9,381.6 L242.9,39.1  \" stroke=\"gray\" stroke-dasharray=\"2,4\"/></g>\n",
       "<g color=\"black\" fill=\"none\" stroke=\"currentColor\" stroke-linecap=\"butt\" stroke-linejoin=\"miter\" stroke-width=\"0.50\">\n",
       "\t<path d=\"M242.9,381.6 L242.9,373.2 M242.9,39.1 L242.9,47.5  \" stroke=\"black\"/>\t<g fill=\"rgb(0,0,0)\" font-family=\"{}\" font-size=\"10.00\" stroke=\"none\" text-anchor=\"middle\" transform=\"translate(242.9,397.3)\">\n",
       "\t\t<text><tspan font-family=\"{}\">0.4</tspan></text>\n",
       "\t</g>\n",
       "</g>\n",
       "<g color=\"black\" fill=\"none\" stroke=\"currentColor\" stroke-linecap=\"butt\" stroke-linejoin=\"miter\" stroke-width=\"0.50\">\n",
       "</g>\n",
       "<g color=\"gray\" fill=\"none\" stroke=\"currentColor\" stroke-linecap=\"butt\" stroke-linejoin=\"miter\" stroke-width=\"0.50\">\n",
       "\t<path class=\"gridline\" d=\"M343.0,381.6 L343.0,39.1  \" stroke=\"gray\" stroke-dasharray=\"2,4\"/></g>\n",
       "<g color=\"black\" fill=\"none\" stroke=\"currentColor\" stroke-linecap=\"butt\" stroke-linejoin=\"miter\" stroke-width=\"0.50\">\n",
       "\t<path d=\"M343.0,381.6 L343.0,373.2 M343.0,39.1 L343.0,47.5  \" stroke=\"black\"/>\t<g fill=\"rgb(0,0,0)\" font-family=\"{}\" font-size=\"10.00\" stroke=\"none\" text-anchor=\"middle\" transform=\"translate(343.0,397.3)\">\n",
       "\t\t<text><tspan font-family=\"{}\">0.6</tspan></text>\n",
       "\t</g>\n",
       "</g>\n",
       "<g color=\"black\" fill=\"none\" stroke=\"currentColor\" stroke-linecap=\"butt\" stroke-linejoin=\"miter\" stroke-width=\"0.50\">\n",
       "</g>\n",
       "<g color=\"gray\" fill=\"none\" stroke=\"currentColor\" stroke-linecap=\"butt\" stroke-linejoin=\"miter\" stroke-width=\"0.50\">\n",
       "\t<path class=\"gridline\" d=\"M443.0,381.6 L443.0,39.1  \" stroke=\"gray\" stroke-dasharray=\"2,4\"/></g>\n",
       "<g color=\"black\" fill=\"none\" stroke=\"currentColor\" stroke-linecap=\"butt\" stroke-linejoin=\"miter\" stroke-width=\"0.50\">\n",
       "\t<path d=\"M443.0,381.6 L443.0,373.2 M443.0,39.1 L443.0,47.5  \" stroke=\"black\"/>\t<g fill=\"rgb(0,0,0)\" font-family=\"{}\" font-size=\"10.00\" stroke=\"none\" text-anchor=\"middle\" transform=\"translate(443.0,397.3)\">\n",
       "\t\t<text><tspan font-family=\"{}\">0.8</tspan></text>\n",
       "\t</g>\n",
       "</g>\n",
       "<g color=\"black\" fill=\"none\" stroke=\"currentColor\" stroke-linecap=\"butt\" stroke-linejoin=\"miter\" stroke-width=\"0.50\">\n",
       "</g>\n",
       "<g color=\"gray\" fill=\"none\" stroke=\"currentColor\" stroke-linecap=\"butt\" stroke-linejoin=\"miter\" stroke-width=\"0.50\">\n",
       "\t<path class=\"gridline\" d=\"M543.1,381.6 L543.1,39.1  \" stroke=\"gray\" stroke-dasharray=\"2,4\"/></g>\n",
       "<g color=\"black\" fill=\"none\" stroke=\"currentColor\" stroke-linecap=\"butt\" stroke-linejoin=\"miter\" stroke-width=\"0.50\">\n",
       "\t<path d=\"M543.1,381.6 L543.1,373.2 M543.1,39.1 L543.1,47.5  \" stroke=\"black\"/>\t<g fill=\"rgb(0,0,0)\" font-family=\"{}\" font-size=\"10.00\" stroke=\"none\" text-anchor=\"middle\" transform=\"translate(543.1,397.3)\">\n",
       "\t\t<text><tspan font-family=\"{}\">1</tspan></text>\n",
       "\t</g>\n",
       "</g>\n",
       "<g color=\"black\" fill=\"none\" stroke=\"currentColor\" stroke-linecap=\"butt\" stroke-linejoin=\"miter\" stroke-width=\"0.50\">\n",
       "</g>\n",
       "<g color=\"black\" fill=\"none\" stroke=\"currentColor\" stroke-linecap=\"butt\" stroke-linejoin=\"miter\" stroke-width=\"0.50\">\n",
       "\t<path d=\"M42.8,39.1 L42.8,381.6 L543.1,381.6 L543.1,39.1 L42.8,39.1 Z  \" stroke=\"black\"/></g>\n",
       "<g color=\"black\" fill=\"none\" stroke=\"currentColor\" stroke-linecap=\"butt\" stroke-linejoin=\"miter\" stroke-width=\"0.50\">\n",
       "\t<g fill=\"rgb(0,0,0)\" font-family=\"{}\" font-size=\"10.00\" stroke=\"none\" text-anchor=\"middle\" transform=\"translate(12.5,210.4) rotate(-90)\">\n",
       "\t\t<text><tspan font-family=\"{}\">Gain, dB</tspan></text>\n",
       "\t</g>\n",
       "</g>\n",
       "<g color=\"black\" fill=\"none\" stroke=\"currentColor\" stroke-linecap=\"butt\" stroke-linejoin=\"miter\" stroke-width=\"0.50\">\n",
       "\t<g fill=\"rgb(0,0,0)\" font-family=\"{}\" font-size=\"10.00\" stroke=\"none\" text-anchor=\"middle\" transform=\"translate(292.9,415.3)\">\n",
       "\t\t<text><tspan font-family=\"Symbol\">w</tspan><tspan font-family=\"{}\">/</tspan><tspan font-family=\"Symbol\">p</tspan></text>\n",
       "\t</g>\n",
       "</g>\n",
       "<g color=\"black\" fill=\"none\" stroke=\"currentColor\" stroke-linecap=\"butt\" stroke-linejoin=\"miter\" stroke-width=\"0.50\">\n",
       "\t<g fill=\"rgb(0,0,0)\" font-family=\"{}\" font-size=\"10.00\" stroke=\"none\" text-anchor=\"middle\" transform=\"translate(292.9,21.8)\">\n",
       "\t\t<text><tspan font-family=\"{}\">IIR Butterworth Analog</tspan></text>\n",
       "\t</g>\n",
       "</g>\n",
       "<g color=\"black\" fill=\"none\" stroke=\"currentColor\" stroke-linecap=\"butt\" stroke-linejoin=\"miter\" stroke-width=\"0.50\">\n",
       "</g>\n",
       "\t<g id=\"gnuplot_plot_1a\"><title>gnuplot_plot_1a</title>\n",
       "<g color=\"black\" fill=\"none\" stroke=\"currentColor\" stroke-linecap=\"butt\" stroke-linejoin=\"miter\" stroke-width=\"0.50\">\n",
       "\t<path d=\"M42.8,372.5 L43.8,372.5 L44.8,372.5 L45.7,372.5 L46.7,372.5 L47.7,372.5 L48.7,372.4 L49.6,372.4   L50.6,372.4 L51.6,372.4 L52.6,372.4 L53.5,372.4 L54.5,372.4 L55.5,372.4 L56.5,372.4 L57.5,372.4   L58.4,372.4 L59.4,372.3 L60.4,372.3 L61.4,372.3 L62.3,372.3 L63.3,372.3 L64.3,372.3 L65.3,372.2   L66.3,372.2 L67.2,372.2 L68.2,372.2 L69.2,372.2 L70.2,372.1 L71.1,372.1 L72.1,372.1 L73.1,372.1   L74.1,372.0 L75.0,372.0 L76.0,372.0 L77.0,372.0 L78.0,371.9 L79.0,371.9 L79.9,371.9 L80.9,371.8   L81.9,371.8 L82.9,371.8 L83.8,371.7 L84.8,371.7 L85.8,371.7 L86.8,371.6 L87.7,371.6 L88.7,371.6   L89.7,371.5 L90.7,371.5 L91.7,371.4 L92.6,371.4 L93.6,371.4 L94.6,371.3 L95.6,371.3 L96.5,371.2   L97.5,371.2 L98.5,371.1 L99.5,371.1 L100.5,371.0 L101.4,371.0 L102.4,370.9 L103.4,370.9 L104.4,370.8   L105.3,370.8 L106.3,370.7 L107.3,370.7 L108.3,370.6 L109.2,370.6 L110.2,370.5 L111.2,370.4 L112.2,370.4   L113.2,370.3 L114.1,370.3 L115.1,370.2 L116.1,370.1 L117.1,370.1 L118.0,370.0 L119.0,370.0 L120.0,369.9   L121.0,369.8 L121.9,369.7 L122.9,369.7 L123.9,369.6 L124.9,369.5 L125.9,369.5 L126.8,369.4 L127.8,369.3   L128.8,369.2 L129.8,369.2 L130.7,369.1 L131.7,369.0 L132.7,368.9 L133.7,368.9 L134.7,368.8 L135.6,368.7   L136.6,368.6 L137.6,368.5 L138.6,368.5 L139.5,368.4 L140.5,368.3 L141.5,368.2 L142.5,368.1 L143.4,368.0   L144.4,367.9 L145.4,367.8 L146.4,367.7 L147.4,367.7 L148.3,367.6 L149.3,367.5 L150.3,367.4 L151.3,367.3   L152.2,367.2 L153.2,367.1 L154.2,367.0 L155.2,366.9 L156.1,366.8 L157.1,366.7 L158.1,366.6 L159.1,366.5   L160.1,366.3 L161.0,366.2 L162.0,366.1 L163.0,366.0 L164.0,365.9 L164.9,365.8 L165.9,365.7 L166.9,365.6   L167.9,365.5 L168.9,365.3 L169.8,365.2 L170.8,365.1 L171.8,365.0 L172.8,364.9 L173.7,364.7 L174.7,364.6   L175.7,364.5 L176.7,364.4 L177.6,364.2 L178.6,364.1 L179.6,364.0 L180.6,363.9 L181.6,363.7 L182.5,363.6   L183.5,363.5 L184.5,363.3 L185.5,363.2 L186.4,363.0 L187.4,362.9 L188.4,362.8 L189.4,362.6 L190.3,362.5   L191.3,362.3 L192.3,362.2 L193.3,362.0 L194.3,361.9 L195.2,361.7 L196.2,361.6 L197.2,361.4 L198.2,361.3   L199.1,361.1 L200.1,361.0 L201.1,360.8 L202.1,360.7 L203.1,360.5 L204.0,360.3 L205.0,360.2 L206.0,360.0   L207.0,359.8 L207.9,359.7 L208.9,359.5 L209.9,359.3 L210.9,359.1 L211.8,359.0 L212.8,358.8 L213.8,358.6   L214.8,358.4 L215.8,358.3 L216.7,358.1 L217.7,357.9 L218.7,357.7 L219.7,357.5 L220.6,357.3 L221.6,357.1   L222.6,356.9 L223.6,356.7 L224.5,356.5 L225.5,356.3 L226.5,356.1 L227.5,355.9 L228.5,355.7 L229.4,355.5   L230.4,355.3 L231.4,355.1 L232.4,354.9 L233.3,354.7 L234.3,354.5 L235.3,354.2 L236.3,354.0 L237.3,353.8   L238.2,353.6 L239.2,353.3 L240.2,353.1 L241.2,352.9 L242.1,352.6 L243.1,352.4 L244.1,352.2 L245.1,351.9   L246.0,351.7 L247.0,351.4 L248.0,351.2 L249.0,350.9 L250.0,350.7 L250.9,350.4 L251.9,350.2 L252.9,349.9   L253.9,349.6 L254.8,349.4 L255.8,349.1 L256.8,348.8 L257.8,348.5 L258.7,348.3 L259.7,348.0 L260.7,347.7   L261.7,347.4 L262.7,347.1 L263.6,346.8 L264.6,346.5 L265.6,346.2 L266.6,345.9 L267.5,345.6 L268.5,345.3   L269.5,344.9 L270.5,344.6 L271.5,344.3 L272.4,344.0 L273.4,343.6 L274.4,343.3 L275.4,342.9 L276.3,342.6   L277.3,342.2 L278.3,341.9 L279.3,341.5 L280.2,341.1 L281.2,340.7 L282.2,340.3 L283.2,340.0 L284.2,339.6   L285.1,339.1 L286.1,338.7 L287.1,338.3 L288.1,337.9 L289.0,337.4 L290.0,337.0 L291.0,336.6 L292.0,336.1   L293.0,335.6 L293.9,335.1 L294.9,334.6 L295.9,334.1 L296.9,333.6 L297.8,333.1 L298.8,332.5 L299.8,332.0   L300.8,331.4 L301.7,330.8 L302.7,330.2 L303.7,329.6 L304.7,328.9 L305.7,328.3 L306.6,327.6 L307.6,326.8   L308.6,326.1 L309.6,325.3 L310.5,324.4 L311.5,323.6 L312.5,322.6 L313.5,321.6 L314.4,320.6 L315.4,319.4   L316.4,318.1 L317.4,316.7 L318.4,315.1 L319.3,313.3 L320.3,311.1 L321.3,308.4 L322.3,304.7 L323.2,298.5   L324.2,49.9 L325.2,297.9 L326.2,303.5 L327.2,306.7 L328.1,308.8 L329.1,310.4 L330.1,311.6 L331.1,312.6   L332.0,313.4 L333.0,314.1 L334.0,314.7 L335.0,315.2 L335.9,315.6 L336.9,315.9 L337.9,316.2 L338.9,316.4   L339.9,316.6 L340.8,316.8 L341.8,316.9 L342.8,317.0 L343.8,317.0 L344.7,317.0 L345.7,317.1 L346.7,317.0   L347.7,317.0 L348.6,316.9 L349.6,316.8 L350.6,316.7 L351.6,316.6 L352.6,316.5 L353.5,316.3 L354.5,316.1   L355.5,315.9 L356.5,315.7 L357.4,315.5 L358.4,315.2 L359.4,314.9 L360.4,314.6 L361.4,314.3 L362.3,314.0   L363.3,313.6 L364.3,313.2 L365.3,312.8 L366.2,312.4 L367.2,312.0 L368.2,311.5 L369.2,311.0 L370.1,310.4   L371.1,309.9 L372.1,309.2 L373.1,308.6 L374.1,307.9 L375.0,307.1 L376.0,306.3 L377.0,305.4 L378.0,304.4   L378.9,303.2 L379.9,302.0 L380.9,300.6 L381.9,298.9 L382.8,296.9 L383.8,294.3 L384.8,290.7 L385.8,284.6   L386.8,55.0 L387.7,284.3 L388.7,290.1 L389.7,293.3 L390.7,295.6 L391.6,297.3 L392.6,298.7 L393.6,299.8   L394.6,300.7 L395.6,301.5 L396.5,302.2 L397.5,302.8 L398.5,303.3 L399.5,303.8 L400.4,304.2 L401.4,304.5   L402.4,304.8 L403.4,305.1 L404.3,305.3 L405.3,305.5 L406.3,305.7 L407.3,305.8 L408.3,305.9 L409.2,306.0   L410.2,306.1 L411.2,306.1 L412.2,306.1 L413.1,306.1 L414.1,306.1 L415.1,306.0 L416.1,306.0 L417.0,305.9   L418.0,305.8 L419.0,305.7 L420.0,305.5 L421.0,305.3 L421.9,305.2 L422.9,305.0 L423.9,304.7 L424.9,304.5   L425.8,304.2 L426.8,303.9 L427.8,303.6 L428.8,303.3 L429.8,302.9 L430.7,302.5 L431.7,302.1 L432.7,301.6   L433.7,301.1 L434.6,300.6 L435.6,300.0 L436.6,299.4 L437.6,298.7 L438.5,297.9 L439.5,297.1 L440.5,296.2   L441.5,295.1 L442.5,294.0 L443.4,292.6 L444.4,291.0 L445.4,289.1 L446.4,286.6 L447.3,283.0 L448.3,277.1   L449.3,57.0 L450.3,276.9 L451.2,282.7 L452.2,286.1 L453.2,288.4 L454.2,290.2 L455.2,291.6 L456.1,292.8   L457.1,293.8 L458.1,294.7 L459.1,295.4 L460.0,296.1 L461.0,296.7 L462.0,297.2 L463.0,297.7 L464.0,298.1   L464.9,298.5 L465.9,298.8 L466.9,299.1 L467.9,299.4 L468.8,299.6 L469.8,299.8 L470.8,300.0 L471.8,300.1   L472.7,300.2 L473.7,300.3 L474.7,300.4 L475.7,300.5 L476.7,300.5 L477.6,300.5 L478.6,300.5 L479.6,300.5   L480.6,300.5 L481.5,300.4 L482.5,300.3 L483.5,300.2 L484.5,300.1 L485.4,299.9 L486.4,299.8 L487.4,299.6   L488.4,299.4 L489.4,299.2 L490.3,298.9 L491.3,298.6 L492.3,298.3 L493.3,298.0 L494.2,297.6 L495.2,297.2   L496.2,296.8 L497.2,296.3 L498.2,295.8 L499.1,295.2 L500.1,294.6 L501.1,293.9 L502.1,293.1 L503.0,292.2   L504.0,291.3 L505.0,290.1 L506.0,288.8 L506.9,287.3 L507.9,285.4 L508.9,283.0 L509.9,279.5 L510.9,273.6   M512.8,273.5 L513.8,279.4 L514.8,282.8 L515.7,285.2 L516.7,287.0 L517.7,288.5 L518.7,289.8 L519.6,290.8   L520.6,291.8 L521.6,292.6 L522.6,293.3 L523.6,293.9 L524.5,294.5 L525.5,295.0 L526.5,295.5 L527.5,295.9   L528.4,296.3 L529.4,296.7 L530.4,297.0 L531.4,297.3 L532.4,297.5 L533.3,297.7 L534.3,297.9 L535.3,298.1   L536.3,298.3 L537.2,298.4 L538.2,298.5 L539.2,298.6 L540.2,298.7 L541.1,298.7 L542.1,298.8  \" stroke=\"rgb(  0,   0, 255)\"/></g>\n",
       "\t</g>\n",
       "<g color=\"white\" fill=\"none\" stroke=\"rgb(  0,   0, 255)\" stroke-linecap=\"butt\" stroke-linejoin=\"miter\" stroke-width=\"2.00\">\n",
       "</g>\n",
       "<g color=\"black\" fill=\"none\" stroke=\"currentColor\" stroke-linecap=\"butt\" stroke-linejoin=\"miter\" stroke-width=\"2.00\">\n",
       "</g>\n",
       "<g color=\"black\" fill=\"none\" stroke=\"black\" stroke-linecap=\"butt\" stroke-linejoin=\"miter\" stroke-width=\"0.50\">\n",
       "</g>\n",
       "<g color=\"black\" fill=\"none\" stroke=\"currentColor\" stroke-linecap=\"butt\" stroke-linejoin=\"miter\" stroke-width=\"0.50\">\n",
       "</g>\n",
       "</g>\n",
       "</svg>"
      ]
     },
     "metadata": {},
     "output_type": "display_data"
    }
   ],
   "source": [
    "%%octave -o N,num,den,Wh_p\n",
    "clc;\n",
    "clear all;\n",
    "close all;\n",
    "Wh_s = tan(2*pi*250000/2000000/2)\n",
    "Wh_p = tan(2*pi*500000/2000000/2)\n",
    "Fs = 2000000\n",
    "[N,Wn] = buttord(25/100,50/100, 0.5, 50);\n",
    "Fs=0.5;\n",
    "[z,p,k]=buttap(N);          % Butterworth filter prototype\n",
    "[num,den]=zp2tf(z,p,k)     % Convert to transfer function form\n",
    "[h,omega] = freqz(num,den);\n",
    "gain = 20*log10(abs(h));\n",
    "plot (omega/pi,gain);grid; xlabel('\\omega/\\pi'); ylabel('Gain, dB'); title('IIR Butterworth Analog');"
   ]
  },
  {
   "cell_type": "code",
   "execution_count": 12,
   "metadata": {
    "collapsed": false
   },
   "outputs": [],
   "source": [
    "num,den = lp2hp(num,den[0],Wh_p)"
   ]
  },
  {
   "cell_type": "code",
   "execution_count": 13,
   "metadata": {
    "collapsed": false
   },
   "outputs": [
    {
     "data": {
      "text/plain": [
       "num =\n",
       "\n",
       "        1        0        0        0        0        0        0        0        0\n",
       "\n",
       "den =\n",
       "\n",
       "   1.0e+01 *\n",
       "\n",
       "  0.10000  0.51258  1.31371  2.18462  2.56884  2.18462  1.31371  0.51258  0.10000\n",
       "\n",
       "b =\n",
       "\n",
       "  0.08254  -0.66032  2.31111  -4.62222  5.77778  -4.62222  2.31111  -0.66032  0.08254\n",
       "\n",
       "a =\n",
       "\n",
       "  1.00000  -3.26181  5.38654  -5.48864  3.71521  -1.68658  0.49779  -0.08678  0.00681"
      ]
     },
     "metadata": {},
     "output_type": "display_data"
    },
    {
     "data": {
      "image/svg+xml": [
       "<svg height=\"420px\" viewBox=\"0 0 560 420\" width=\"560px\" xmlns=\"http://www.w3.org/2000/svg\" xmlns:xlink=\"http://www.w3.org/1999/xlink\">\n",
       "\n",
       "<title>Gnuplot</title>\n",
       "<desc>Produced by GNUPLOT 5.0 patchlevel 1 </desc>\n",
       "\n",
       "<g id=\"gnuplot_canvas\">\n",
       "\n",
       "<rect fill=\"none\" height=\"420\" width=\"560\" x=\"0\" y=\"0\"/>\n",
       "<defs>\n",
       "\n",
       "\t<circle id=\"gpDot\" r=\"0.5\" stroke-width=\"0.5\"/>\n",
       "\t<path d=\"M-1,0 h2 M0,-1 v2\" id=\"gpPt0\" stroke=\"currentColor\" stroke-width=\"0.333\"/>\n",
       "\t<path d=\"M-1,-1 L1,1 M1,-1 L-1,1\" id=\"gpPt1\" stroke=\"currentColor\" stroke-width=\"0.333\"/>\n",
       "\t<path d=\"M-1,0 L1,0 M0,-1 L0,1 M-1,-1 L1,1 M-1,1 L1,-1\" id=\"gpPt2\" stroke=\"currentColor\" stroke-width=\"0.333\"/>\n",
       "\t<rect height=\"2\" id=\"gpPt3\" stroke=\"currentColor\" stroke-width=\"0.333\" width=\"2\" x=\"-1\" y=\"-1\"/>\n",
       "\t<rect fill=\"currentColor\" height=\"2\" id=\"gpPt4\" stroke=\"currentColor\" stroke-width=\"0.333\" width=\"2\" x=\"-1\" y=\"-1\"/>\n",
       "\t<circle cx=\"0\" cy=\"0\" id=\"gpPt5\" r=\"1\" stroke=\"currentColor\" stroke-width=\"0.333\"/>\n",
       "\t<use fill=\"currentColor\" id=\"gpPt6\" stroke=\"none\" xlink:href=\"#gpPt5\"/>\n",
       "\t<path d=\"M0,-1.33 L-1.33,0.67 L1.33,0.67 z\" id=\"gpPt7\" stroke=\"currentColor\" stroke-width=\"0.333\"/>\n",
       "\t<use fill=\"currentColor\" id=\"gpPt8\" stroke=\"none\" xlink:href=\"#gpPt7\"/>\n",
       "\t<use id=\"gpPt9\" stroke=\"currentColor\" transform=\"rotate(180)\" xlink:href=\"#gpPt7\"/>\n",
       "\t<use fill=\"currentColor\" id=\"gpPt10\" stroke=\"none\" xlink:href=\"#gpPt9\"/>\n",
       "\t<use id=\"gpPt11\" stroke=\"currentColor\" transform=\"rotate(45)\" xlink:href=\"#gpPt3\"/>\n",
       "\t<use fill=\"currentColor\" id=\"gpPt12\" stroke=\"none\" xlink:href=\"#gpPt11\"/>\n",
       "\t<path d=\"M0,1.330 L1.265,0.411 L0.782,-1.067 L-0.782,-1.076 L-1.265,0.411 z\" id=\"gpPt13\" stroke=\"currentColor\" stroke-width=\"0.333\"/>\n",
       "\t<use fill=\"currentColor\" id=\"gpPt14\" stroke=\"none\" xlink:href=\"#gpPt13\"/>\n",
       "\t<filter filterUnits=\"objectBoundingBox\" height=\"1\" id=\"textbox\" width=\"1\" x=\"0\" y=\"0\">\n",
       "\t  <feFlood flood-color=\"white\" flood-opacity=\"1\" result=\"bgnd\"/>\n",
       "\t  <feComposite in=\"SourceGraphic\" in2=\"bgnd\" operator=\"atop\"/>\n",
       "\t</filter>\n",
       "\t<filter filterUnits=\"objectBoundingBox\" height=\"1\" id=\"greybox\" width=\"1\" x=\"0\" y=\"0\">\n",
       "\t  <feFlood flood-color=\"lightgrey\" flood-opacity=\"1\" result=\"grey\"/>\n",
       "\t  <feComposite in=\"SourceGraphic\" in2=\"grey\" operator=\"atop\"/>\n",
       "\t</filter>\n",
       "</defs>\n",
       "<g color=\"white\" fill=\"none\" stroke=\"currentColor\" stroke-linecap=\"butt\" stroke-linejoin=\"miter\" stroke-width=\"1.00\">\n",
       "</g>\n",
       "<g color=\"black\" fill=\"none\" stroke=\"currentColor\" stroke-linecap=\"butt\" stroke-linejoin=\"miter\" stroke-width=\"1.00\">\n",
       "\t<g shape-rendering=\"crispEdges\" stroke=\"none\">\n",
       "\t\t<polygon fill=\"rgb(255, 255, 255)\" points=\"48.4,381.6 543.0,381.6 543.0,39.2 48.4,39.2 \"/>\n",
       "\t</g>\n",
       "</g>\n",
       "<g color=\"black\" fill=\"none\" stroke=\"rgb(255, 255, 255)\" stroke-linecap=\"butt\" stroke-linejoin=\"miter\" stroke-width=\"0.50\">\n",
       "</g>\n",
       "<g color=\"black\" fill=\"none\" stroke=\"currentColor\" stroke-linecap=\"butt\" stroke-linejoin=\"miter\" stroke-width=\"0.50\">\n",
       "</g>\n",
       "<g color=\"gray\" fill=\"none\" stroke=\"currentColor\" stroke-linecap=\"butt\" stroke-linejoin=\"miter\" stroke-width=\"0.50\">\n",
       "\t<path class=\"gridline\" d=\"M48.4,381.6 L543.1,381.6  \" stroke=\"gray\" stroke-dasharray=\"2,4\"/></g>\n",
       "<g color=\"black\" fill=\"none\" stroke=\"currentColor\" stroke-linecap=\"butt\" stroke-linejoin=\"miter\" stroke-width=\"0.50\">\n",
       "\t<path d=\"M48.4,381.6 L56.8,381.6 M543.1,381.6 L534.7,381.6  \" stroke=\"black\"/>\t<g fill=\"rgb(0,0,0)\" font-family=\"{}\" font-size=\"10.00\" stroke=\"none\" text-anchor=\"end\" transform=\"translate(42.8,385.3)\">\n",
       "\t\t<text><tspan font-family=\"{}\">-300</tspan></text>\n",
       "\t</g>\n",
       "</g>\n",
       "<g color=\"black\" fill=\"none\" stroke=\"currentColor\" stroke-linecap=\"butt\" stroke-linejoin=\"miter\" stroke-width=\"0.50\">\n",
       "</g>\n",
       "<g color=\"gray\" fill=\"none\" stroke=\"currentColor\" stroke-linecap=\"butt\" stroke-linejoin=\"miter\" stroke-width=\"0.50\">\n",
       "\t<path class=\"gridline\" d=\"M48.4,332.7 L543.1,332.7  \" stroke=\"gray\" stroke-dasharray=\"2,4\"/></g>\n",
       "<g color=\"black\" fill=\"none\" stroke=\"currentColor\" stroke-linecap=\"butt\" stroke-linejoin=\"miter\" stroke-width=\"0.50\">\n",
       "\t<path d=\"M48.4,332.7 L56.8,332.7 M543.1,332.7 L534.7,332.7  \" stroke=\"black\"/>\t<g fill=\"rgb(0,0,0)\" font-family=\"{}\" font-size=\"10.00\" stroke=\"none\" text-anchor=\"end\" transform=\"translate(42.8,336.4)\">\n",
       "\t\t<text><tspan font-family=\"{}\">-250</tspan></text>\n",
       "\t</g>\n",
       "</g>\n",
       "<g color=\"black\" fill=\"none\" stroke=\"currentColor\" stroke-linecap=\"butt\" stroke-linejoin=\"miter\" stroke-width=\"0.50\">\n",
       "</g>\n",
       "<g color=\"gray\" fill=\"none\" stroke=\"currentColor\" stroke-linecap=\"butt\" stroke-linejoin=\"miter\" stroke-width=\"0.50\">\n",
       "\t<path class=\"gridline\" d=\"M48.4,283.7 L543.1,283.7  \" stroke=\"gray\" stroke-dasharray=\"2,4\"/></g>\n",
       "<g color=\"black\" fill=\"none\" stroke=\"currentColor\" stroke-linecap=\"butt\" stroke-linejoin=\"miter\" stroke-width=\"0.50\">\n",
       "\t<path d=\"M48.4,283.7 L56.8,283.7 M543.1,283.7 L534.7,283.7  \" stroke=\"black\"/>\t<g fill=\"rgb(0,0,0)\" font-family=\"{}\" font-size=\"10.00\" stroke=\"none\" text-anchor=\"end\" transform=\"translate(42.8,287.4)\">\n",
       "\t\t<text><tspan font-family=\"{}\">-200</tspan></text>\n",
       "\t</g>\n",
       "</g>\n",
       "<g color=\"black\" fill=\"none\" stroke=\"currentColor\" stroke-linecap=\"butt\" stroke-linejoin=\"miter\" stroke-width=\"0.50\">\n",
       "</g>\n",
       "<g color=\"gray\" fill=\"none\" stroke=\"currentColor\" stroke-linecap=\"butt\" stroke-linejoin=\"miter\" stroke-width=\"0.50\">\n",
       "\t<path class=\"gridline\" d=\"M48.4,234.8 L543.1,234.8  \" stroke=\"gray\" stroke-dasharray=\"2,4\"/></g>\n",
       "<g color=\"black\" fill=\"none\" stroke=\"currentColor\" stroke-linecap=\"butt\" stroke-linejoin=\"miter\" stroke-width=\"0.50\">\n",
       "\t<path d=\"M48.4,234.8 L56.8,234.8 M543.1,234.8 L534.7,234.8  \" stroke=\"black\"/>\t<g fill=\"rgb(0,0,0)\" font-family=\"{}\" font-size=\"10.00\" stroke=\"none\" text-anchor=\"end\" transform=\"translate(42.8,238.5)\">\n",
       "\t\t<text><tspan font-family=\"{}\">-150</tspan></text>\n",
       "\t</g>\n",
       "</g>\n",
       "<g color=\"black\" fill=\"none\" stroke=\"currentColor\" stroke-linecap=\"butt\" stroke-linejoin=\"miter\" stroke-width=\"0.50\">\n",
       "</g>\n",
       "<g color=\"gray\" fill=\"none\" stroke=\"currentColor\" stroke-linecap=\"butt\" stroke-linejoin=\"miter\" stroke-width=\"0.50\">\n",
       "\t<path class=\"gridline\" d=\"M48.4,185.9 L543.1,185.9  \" stroke=\"gray\" stroke-dasharray=\"2,4\"/></g>\n",
       "<g color=\"black\" fill=\"none\" stroke=\"currentColor\" stroke-linecap=\"butt\" stroke-linejoin=\"miter\" stroke-width=\"0.50\">\n",
       "\t<path d=\"M48.4,185.9 L56.8,185.9 M543.1,185.9 L534.7,185.9  \" stroke=\"black\"/>\t<g fill=\"rgb(0,0,0)\" font-family=\"{}\" font-size=\"10.00\" stroke=\"none\" text-anchor=\"end\" transform=\"translate(42.8,189.6)\">\n",
       "\t\t<text><tspan font-family=\"{}\">-100</tspan></text>\n",
       "\t</g>\n",
       "</g>\n",
       "<g color=\"black\" fill=\"none\" stroke=\"currentColor\" stroke-linecap=\"butt\" stroke-linejoin=\"miter\" stroke-width=\"0.50\">\n",
       "</g>\n",
       "<g color=\"gray\" fill=\"none\" stroke=\"currentColor\" stroke-linecap=\"butt\" stroke-linejoin=\"miter\" stroke-width=\"0.50\">\n",
       "\t<path class=\"gridline\" d=\"M48.4,137.0 L543.1,137.0  \" stroke=\"gray\" stroke-dasharray=\"2,4\"/></g>\n",
       "<g color=\"black\" fill=\"none\" stroke=\"currentColor\" stroke-linecap=\"butt\" stroke-linejoin=\"miter\" stroke-width=\"0.50\">\n",
       "\t<path d=\"M48.4,137.0 L56.8,137.0 M543.1,137.0 L534.7,137.0  \" stroke=\"black\"/>\t<g fill=\"rgb(0,0,0)\" font-family=\"{}\" font-size=\"10.00\" stroke=\"none\" text-anchor=\"end\" transform=\"translate(42.8,140.7)\">\n",
       "\t\t<text><tspan font-family=\"{}\">-50</tspan></text>\n",
       "\t</g>\n",
       "</g>\n",
       "<g color=\"black\" fill=\"none\" stroke=\"currentColor\" stroke-linecap=\"butt\" stroke-linejoin=\"miter\" stroke-width=\"0.50\">\n",
       "</g>\n",
       "<g color=\"gray\" fill=\"none\" stroke=\"currentColor\" stroke-linecap=\"butt\" stroke-linejoin=\"miter\" stroke-width=\"0.50\">\n",
       "\t<path class=\"gridline\" d=\"M48.4,88.0 L543.1,88.0  \" stroke=\"gray\" stroke-dasharray=\"2,4\"/></g>\n",
       "<g color=\"black\" fill=\"none\" stroke=\"currentColor\" stroke-linecap=\"butt\" stroke-linejoin=\"miter\" stroke-width=\"0.50\">\n",
       "\t<path d=\"M48.4,88.0 L56.8,88.0 M543.1,88.0 L534.7,88.0  \" stroke=\"black\"/>\t<g fill=\"rgb(0,0,0)\" font-family=\"{}\" font-size=\"10.00\" stroke=\"none\" text-anchor=\"end\" transform=\"translate(42.8,91.7)\">\n",
       "\t\t<text><tspan font-family=\"{}\">0</tspan></text>\n",
       "\t</g>\n",
       "</g>\n",
       "<g color=\"black\" fill=\"none\" stroke=\"currentColor\" stroke-linecap=\"butt\" stroke-linejoin=\"miter\" stroke-width=\"0.50\">\n",
       "</g>\n",
       "<g color=\"gray\" fill=\"none\" stroke=\"currentColor\" stroke-linecap=\"butt\" stroke-linejoin=\"miter\" stroke-width=\"0.50\">\n",
       "\t<path class=\"gridline\" d=\"M48.4,39.1 L543.1,39.1  \" stroke=\"gray\" stroke-dasharray=\"2,4\"/></g>\n",
       "<g color=\"black\" fill=\"none\" stroke=\"currentColor\" stroke-linecap=\"butt\" stroke-linejoin=\"miter\" stroke-width=\"0.50\">\n",
       "\t<path d=\"M48.4,39.1 L56.8,39.1 M543.1,39.1 L534.7,39.1  \" stroke=\"black\"/>\t<g fill=\"rgb(0,0,0)\" font-family=\"{}\" font-size=\"10.00\" stroke=\"none\" text-anchor=\"end\" transform=\"translate(42.8,42.8)\">\n",
       "\t\t<text><tspan font-family=\"{}\">50</tspan></text>\n",
       "\t</g>\n",
       "</g>\n",
       "<g color=\"black\" fill=\"none\" stroke=\"currentColor\" stroke-linecap=\"butt\" stroke-linejoin=\"miter\" stroke-width=\"0.50\">\n",
       "</g>\n",
       "<g color=\"gray\" fill=\"none\" stroke=\"currentColor\" stroke-linecap=\"butt\" stroke-linejoin=\"miter\" stroke-width=\"0.50\">\n",
       "\t<path class=\"gridline\" d=\"M48.4,381.6 L48.4,39.1  \" stroke=\"gray\" stroke-dasharray=\"2,4\"/></g>\n",
       "<g color=\"black\" fill=\"none\" stroke=\"currentColor\" stroke-linecap=\"butt\" stroke-linejoin=\"miter\" stroke-width=\"0.50\">\n",
       "\t<path d=\"M48.4,381.6 L48.4,373.2 M48.4,39.1 L48.4,47.5  \" stroke=\"black\"/>\t<g fill=\"rgb(0,0,0)\" font-family=\"{}\" font-size=\"10.00\" stroke=\"none\" text-anchor=\"middle\" transform=\"translate(48.4,397.3)\">\n",
       "\t\t<text><tspan font-family=\"{}\">0</tspan></text>\n",
       "\t</g>\n",
       "</g>\n",
       "<g color=\"black\" fill=\"none\" stroke=\"currentColor\" stroke-linecap=\"butt\" stroke-linejoin=\"miter\" stroke-width=\"0.50\">\n",
       "</g>\n",
       "<g color=\"gray\" fill=\"none\" stroke=\"currentColor\" stroke-linecap=\"butt\" stroke-linejoin=\"miter\" stroke-width=\"0.50\">\n",
       "\t<path class=\"gridline\" d=\"M147.3,381.6 L147.3,39.1  \" stroke=\"gray\" stroke-dasharray=\"2,4\"/></g>\n",
       "<g color=\"black\" fill=\"none\" stroke=\"currentColor\" stroke-linecap=\"butt\" stroke-linejoin=\"miter\" stroke-width=\"0.50\">\n",
       "\t<path d=\"M147.3,381.6 L147.3,373.2 M147.3,39.1 L147.3,47.5  \" stroke=\"black\"/>\t<g fill=\"rgb(0,0,0)\" font-family=\"{}\" font-size=\"10.00\" stroke=\"none\" text-anchor=\"middle\" transform=\"translate(147.3,397.3)\">\n",
       "\t\t<text><tspan font-family=\"{}\">0.2</tspan></text>\n",
       "\t</g>\n",
       "</g>\n",
       "<g color=\"black\" fill=\"none\" stroke=\"currentColor\" stroke-linecap=\"butt\" stroke-linejoin=\"miter\" stroke-width=\"0.50\">\n",
       "</g>\n",
       "<g color=\"gray\" fill=\"none\" stroke=\"currentColor\" stroke-linecap=\"butt\" stroke-linejoin=\"miter\" stroke-width=\"0.50\">\n",
       "\t<path class=\"gridline\" d=\"M246.3,381.6 L246.3,39.1  \" stroke=\"gray\" stroke-dasharray=\"2,4\"/></g>\n",
       "<g color=\"black\" fill=\"none\" stroke=\"currentColor\" stroke-linecap=\"butt\" stroke-linejoin=\"miter\" stroke-width=\"0.50\">\n",
       "\t<path d=\"M246.3,381.6 L246.3,373.2 M246.3,39.1 L246.3,47.5  \" stroke=\"black\"/>\t<g fill=\"rgb(0,0,0)\" font-family=\"{}\" font-size=\"10.00\" stroke=\"none\" text-anchor=\"middle\" transform=\"translate(246.3,397.3)\">\n",
       "\t\t<text><tspan font-family=\"{}\">0.4</tspan></text>\n",
       "\t</g>\n",
       "</g>\n",
       "<g color=\"black\" fill=\"none\" stroke=\"currentColor\" stroke-linecap=\"butt\" stroke-linejoin=\"miter\" stroke-width=\"0.50\">\n",
       "</g>\n",
       "<g color=\"gray\" fill=\"none\" stroke=\"currentColor\" stroke-linecap=\"butt\" stroke-linejoin=\"miter\" stroke-width=\"0.50\">\n",
       "\t<path class=\"gridline\" d=\"M345.2,381.6 L345.2,39.1  \" stroke=\"gray\" stroke-dasharray=\"2,4\"/></g>\n",
       "<g color=\"black\" fill=\"none\" stroke=\"currentColor\" stroke-linecap=\"butt\" stroke-linejoin=\"miter\" stroke-width=\"0.50\">\n",
       "\t<path d=\"M345.2,381.6 L345.2,373.2 M345.2,39.1 L345.2,47.5  \" stroke=\"black\"/>\t<g fill=\"rgb(0,0,0)\" font-family=\"{}\" font-size=\"10.00\" stroke=\"none\" text-anchor=\"middle\" transform=\"translate(345.2,397.3)\">\n",
       "\t\t<text><tspan font-family=\"{}\">0.6</tspan></text>\n",
       "\t</g>\n",
       "</g>\n",
       "<g color=\"black\" fill=\"none\" stroke=\"currentColor\" stroke-linecap=\"butt\" stroke-linejoin=\"miter\" stroke-width=\"0.50\">\n",
       "</g>\n",
       "<g color=\"gray\" fill=\"none\" stroke=\"currentColor\" stroke-linecap=\"butt\" stroke-linejoin=\"miter\" stroke-width=\"0.50\">\n",
       "\t<path class=\"gridline\" d=\"M444.2,381.6 L444.2,39.1  \" stroke=\"gray\" stroke-dasharray=\"2,4\"/></g>\n",
       "<g color=\"black\" fill=\"none\" stroke=\"currentColor\" stroke-linecap=\"butt\" stroke-linejoin=\"miter\" stroke-width=\"0.50\">\n",
       "\t<path d=\"M444.2,381.6 L444.2,373.2 M444.2,39.1 L444.2,47.5  \" stroke=\"black\"/>\t<g fill=\"rgb(0,0,0)\" font-family=\"{}\" font-size=\"10.00\" stroke=\"none\" text-anchor=\"middle\" transform=\"translate(444.2,397.3)\">\n",
       "\t\t<text><tspan font-family=\"{}\">0.8</tspan></text>\n",
       "\t</g>\n",
       "</g>\n",
       "<g color=\"black\" fill=\"none\" stroke=\"currentColor\" stroke-linecap=\"butt\" stroke-linejoin=\"miter\" stroke-width=\"0.50\">\n",
       "</g>\n",
       "<g color=\"gray\" fill=\"none\" stroke=\"currentColor\" stroke-linecap=\"butt\" stroke-linejoin=\"miter\" stroke-width=\"0.50\">\n",
       "\t<path class=\"gridline\" d=\"M543.1,381.6 L543.1,39.1  \" stroke=\"gray\" stroke-dasharray=\"2,4\"/></g>\n",
       "<g color=\"black\" fill=\"none\" stroke=\"currentColor\" stroke-linecap=\"butt\" stroke-linejoin=\"miter\" stroke-width=\"0.50\">\n",
       "\t<path d=\"M543.1,381.6 L543.1,373.2 M543.1,39.1 L543.1,47.5  \" stroke=\"black\"/>\t<g fill=\"rgb(0,0,0)\" font-family=\"{}\" font-size=\"10.00\" stroke=\"none\" text-anchor=\"middle\" transform=\"translate(543.1,397.3)\">\n",
       "\t\t<text><tspan font-family=\"{}\">1</tspan></text>\n",
       "\t</g>\n",
       "</g>\n",
       "<g color=\"black\" fill=\"none\" stroke=\"currentColor\" stroke-linecap=\"butt\" stroke-linejoin=\"miter\" stroke-width=\"0.50\">\n",
       "</g>\n",
       "<g color=\"black\" fill=\"none\" stroke=\"currentColor\" stroke-linecap=\"butt\" stroke-linejoin=\"miter\" stroke-width=\"0.50\">\n",
       "\t<path d=\"M48.4,39.1 L48.4,381.6 L543.1,381.6 L543.1,39.1 L48.4,39.1 Z  \" stroke=\"black\"/></g>\n",
       "<g color=\"black\" fill=\"none\" stroke=\"currentColor\" stroke-linecap=\"butt\" stroke-linejoin=\"miter\" stroke-width=\"0.50\">\n",
       "\t<g fill=\"rgb(0,0,0)\" font-family=\"{}\" font-size=\"10.00\" stroke=\"none\" text-anchor=\"middle\" transform=\"translate(12.5,210.4) rotate(-90)\">\n",
       "\t\t<text><tspan font-family=\"{}\">Gain, dB</tspan></text>\n",
       "\t</g>\n",
       "</g>\n",
       "<g color=\"black\" fill=\"none\" stroke=\"currentColor\" stroke-linecap=\"butt\" stroke-linejoin=\"miter\" stroke-width=\"0.50\">\n",
       "\t<g fill=\"rgb(0,0,0)\" font-family=\"{}\" font-size=\"10.00\" stroke=\"none\" text-anchor=\"middle\" transform=\"translate(295.7,415.3)\">\n",
       "\t\t<text><tspan font-family=\"Symbol\">w</tspan><tspan font-family=\"{}\">/</tspan><tspan font-family=\"Symbol\">p</tspan></text>\n",
       "\t</g>\n",
       "</g>\n",
       "<g color=\"black\" fill=\"none\" stroke=\"currentColor\" stroke-linecap=\"butt\" stroke-linejoin=\"miter\" stroke-width=\"0.50\">\n",
       "\t<g fill=\"rgb(0,0,0)\" font-family=\"{}\" font-size=\"10.00\" stroke=\"none\" text-anchor=\"middle\" transform=\"translate(295.7,21.8)\">\n",
       "\t\t<text><tspan font-family=\"{}\">IIR Butterworth Digital</tspan></text>\n",
       "\t</g>\n",
       "</g>\n",
       "<g color=\"black\" fill=\"none\" stroke=\"currentColor\" stroke-linecap=\"butt\" stroke-linejoin=\"miter\" stroke-width=\"0.50\">\n",
       "</g>\n",
       "\t<g id=\"gnuplot_plot_1a\"><title>gnuplot_plot_1a</title>\n",
       "<g color=\"black\" fill=\"none\" stroke=\"currentColor\" stroke-linecap=\"butt\" stroke-linejoin=\"miter\" stroke-width=\"0.50\">\n",
       "\t<path d=\"M52.3,340.2 L54.2,312.5 L56.1,293.0 L58.1,277.8 L60.0,265.4 L61.9,254.9 L63.9,245.8 L65.8,237.8   L67.7,230.6 L69.7,224.1 L71.6,218.2 L73.5,212.7 L75.5,207.6 L77.4,202.9 L79.3,198.5 L81.3,194.4   L83.2,190.4 L85.1,186.7 L87.0,183.2 L89.0,179.9 L90.9,176.7 L92.8,173.6 L94.8,170.7 L96.7,167.8   L98.6,165.1 L100.6,162.5 L102.5,160.0 L104.4,157.6 L106.4,155.2 L108.3,152.9 L110.2,150.7 L112.2,148.6   L114.1,146.5 L116.0,144.4 L118.0,142.5 L119.9,140.5 L121.8,138.7 L123.8,136.8 L125.7,135.0 L127.6,133.3   L129.6,131.6 L131.5,129.9 L133.4,128.3 L135.4,126.6 L137.3,125.1 L139.2,123.5 L141.2,122.0 L143.1,120.5   L145.0,119.1 L147.0,117.6 L148.9,116.2 L150.8,114.8 L152.8,113.5 L154.7,112.1 L156.6,110.8 L158.5,109.5   L160.5,108.2 L162.4,107.0 L164.3,105.7 L166.3,104.5 L168.2,103.3 L170.1,102.2 L172.1,101.0 L174.0,99.9   L175.9,98.8 L177.9,97.8 L179.8,96.8 L181.7,95.8 L183.7,94.9 L185.6,94.1 L187.5,93.3 L189.5,92.5   L191.4,91.9 L193.3,91.3 L195.3,90.8 L197.2,90.3 L199.1,89.9 L201.1,89.6 L203.0,89.3 L204.9,89.1   L206.9,88.9 L208.8,88.7 L210.7,88.6 L212.7,88.5 L214.6,88.4 L216.5,88.3 L218.5,88.3 L220.4,88.2   L222.3,88.2 L224.3,88.1 L226.2,88.1 L228.1,88.1 L230.0,88.1 L232.0,88.1 L233.9,88.1 L235.8,88.1   L237.8,88.1 L239.7,88.1 L241.6,88.0 L243.6,88.0 L245.5,88.0 L247.4,88.0 L249.4,88.0 L251.3,88.0   L253.2,88.0 L255.2,88.0 L257.1,88.0 L259.0,88.0 L261.0,88.0 L262.9,88.0 L264.8,88.0 L266.8,88.0   L268.7,88.0 L270.6,88.0 L272.6,88.0 L274.5,88.0 L276.4,88.0 L278.4,88.0 L280.3,88.0 L282.2,88.0   L284.2,88.0 L286.1,88.0 L288.0,88.0 L290.0,88.0 L291.9,88.0 L293.8,88.0 L295.8,88.0 L297.7,88.0   L299.6,88.0 L301.5,88.0 L303.5,88.0 L305.4,88.0 L307.3,88.0 L309.3,88.0 L311.2,88.0 L313.1,88.0   L315.1,88.0 L317.0,88.0 L318.9,88.0 L320.9,88.0 L322.8,88.0 L324.7,88.0 L326.7,88.0 L328.6,88.0   L330.5,88.0 L332.5,88.0 L334.4,88.0 L336.3,88.0 L338.3,88.0 L340.2,88.0 L342.1,88.0 L344.1,88.0   L346.0,88.0 L347.9,88.0 L349.9,88.0 L351.8,88.0 L353.7,88.0 L355.7,88.0 L357.6,88.0 L359.5,88.0   L361.5,88.0 L363.4,88.0 L365.3,88.0 L367.2,88.0 L369.2,88.0 L371.1,88.0 L373.0,88.0 L375.0,88.0   L376.9,88.0 L378.8,88.0 L380.8,88.0 L382.7,88.0 L384.6,88.0 L386.6,88.0 L388.5,88.0 L390.4,88.0   L392.4,88.0 L394.3,88.0 L396.2,88.0 L398.2,88.0 L400.1,88.0 L402.0,88.0 L404.0,88.0 L405.9,88.0   L407.8,88.0 L409.8,88.0 L411.7,88.0 L413.6,88.0 L415.6,88.0 L417.5,88.0 L419.4,88.0 L421.4,88.0   L423.3,88.0 L425.2,88.0 L427.2,88.0 L429.1,88.0 L431.0,88.0 L433.0,88.0 L434.9,88.0 L436.8,88.0   L438.7,88.0 L440.7,88.0 L442.6,88.0 L444.5,88.0 L446.5,88.0 L448.4,88.0 L450.3,88.0 L452.3,88.0   L454.2,88.0 L456.1,88.0 L458.1,88.0 L460.0,88.0 L461.9,88.0 L463.9,88.0 L465.8,88.0 L467.7,88.0   L469.7,88.0 L471.6,88.0 L473.5,88.0 L475.5,88.0 L477.4,88.0 L479.3,88.0 L481.3,88.0 L483.2,88.0   L485.1,88.0 L487.1,88.0 L489.0,88.0 L490.9,88.0 L492.9,88.0 L494.8,88.0 L496.7,88.0 L498.7,88.0   L500.6,88.0 L502.5,88.0 L504.5,88.0 L506.4,88.0 L508.3,88.0 L510.2,88.0 L512.2,88.0 L514.1,88.0   L516.0,88.0 L518.0,88.0 L519.9,88.0 L521.8,88.0 L523.8,88.0 L525.7,88.0 L527.6,88.0 L529.6,88.0   L531.5,88.0 L533.4,88.0 L535.4,88.0 L537.3,88.0 L539.2,88.0 L541.2,88.0  \" stroke=\"rgb(  0,   0, 255)\"/></g>\n",
       "\t</g>\n",
       "<g color=\"white\" fill=\"none\" stroke=\"rgb(  0,   0, 255)\" stroke-linecap=\"butt\" stroke-linejoin=\"miter\" stroke-width=\"2.00\">\n",
       "</g>\n",
       "<g color=\"black\" fill=\"none\" stroke=\"currentColor\" stroke-linecap=\"butt\" stroke-linejoin=\"miter\" stroke-width=\"2.00\">\n",
       "</g>\n",
       "<g color=\"black\" fill=\"none\" stroke=\"black\" stroke-linecap=\"butt\" stroke-linejoin=\"miter\" stroke-width=\"0.50\">\n",
       "</g>\n",
       "<g color=\"black\" fill=\"none\" stroke=\"currentColor\" stroke-linecap=\"butt\" stroke-linejoin=\"miter\" stroke-width=\"0.50\">\n",
       "</g>\n",
       "</g>\n",
       "</svg>"
      ]
     },
     "metadata": {},
     "output_type": "display_data"
    }
   ],
   "source": [
    "%%octave -i num,den,Wh_p\n",
    "num\n",
    "den\n",
    "[b,a]=bilinear(num,den,1)   % Analog to Digital conversion\n",
    "[h,omega] = freqz(b,a,256);\n",
    "gain = 20*log10(abs(h));\n",
    "plot (omega/pi,gain);grid; xlabel('\\omega/\\pi'); ylabel('Gain, dB'); title('IIR Butterworth Digital');"
   ]
  },
  {
   "cell_type": "markdown",
   "metadata": {},
   "source": [
    "# Written Homework\n"
   ]
  },
  {
   "cell_type": "markdown",
   "metadata": {},
   "source": [
    "## Question 2\n",
    "\n",
    "Determine the peak passband ripple $\\alpha_p$ and minimum stopband attenuation $\\alpha_s$ in dB for peak ripple values $\\delta_p=0.04$, and $\\delta_s=0.08$."
   ]
  },
  {
   "cell_type": "code",
   "execution_count": 14,
   "metadata": {
    "collapsed": false
   },
   "outputs": [
    {
     "data": {
      "text/latex": [
       "$$\\alpha_p=-20log_{10}(1-\\delta_p)=0.354575339209$$"
      ],
      "text/plain": [
       "<IPython.core.display.Math object>"
      ]
     },
     "execution_count": 14,
     "metadata": {},
     "output_type": "execute_result"
    }
   ],
   "source": [
    "from IPython.display import Math\n",
    "Math('\\\\alpha_p=-20log_{10}(1-\\\\delta_p)=' + str(-20*log10(1-0.04)))"
   ]
  },
  {
   "cell_type": "code",
   "execution_count": 15,
   "metadata": {
    "collapsed": false
   },
   "outputs": [
    {
     "data": {
      "text/latex": [
       "$$\\alpha_s=-20log_{10}(\\delta_s)=21.9382002602$$"
      ],
      "text/plain": [
       "<IPython.core.display.Math object>"
      ]
     },
     "execution_count": 15,
     "metadata": {},
     "output_type": "execute_result"
    }
   ],
   "source": [
    "Math('\\\\alpha_s=-20log_{10}(\\\\delta_s)=' + str(-20*log10(0.08)))"
   ]
  },
  {
   "cell_type": "markdown",
   "metadata": {},
   "source": [
    "## Question 3\n",
    "\n",
    "Determine the digital transfer functions obtained by transforming the following causal analog transfer function using the impulse invariance method (assume $T=0.25s$).\n",
    "\\begin{equation}\n",
    "H_a(s)=\\frac{2(s+2)}{(s+3)(s^2+4s+5)}\n",
    "\\end{equation}"
   ]
  },
  {
   "cell_type": "code",
   "execution_count": 16,
   "metadata": {
    "collapsed": true
   },
   "outputs": [],
   "source": [
    "import sympy as sp\n",
    "sp.init_printing()"
   ]
  },
  {
   "cell_type": "code",
   "execution_count": 17,
   "metadata": {
    "collapsed": false
   },
   "outputs": [
    {
     "data": {
      "image/png": "[encoded data removed]",
      "text/latex": [
       "$$\\frac{2 s + 4}{\\left(s + 3\\right) \\left(s^{2} + 4 s + 5\\right)}$$"
      ],
      "text/plain": [
       "       2⋅s + 4        \n",
       "──────────────────────\n",
       "        ⎛ 2          ⎞\n",
       "(s + 3)⋅⎝s  + 4⋅s + 5⎠"
      ]
     },
     "execution_count": 17,
     "metadata": {},
     "output_type": "execute_result"
    }
   ],
   "source": [
    "from sympy.polys import partfrac\n",
    "s=sp.S('s')\n",
    "equ=2*(s+2)/((s+3)*(s**2+4*s+5))\n",
    "equ"
   ]
  },
  {
   "cell_type": "markdown",
   "metadata": {},
   "source": [
    "Solving for its partial fraction yields"
   ]
  },
  {
   "cell_type": "code",
   "execution_count": 18,
   "metadata": {
    "collapsed": false
   },
   "outputs": [
    {
     "data": {
      "image/png": "[encoded data removed]",
      "text/latex": [
       "$$\\frac{\\frac{7}{2} - \\left(-2 - i\\right)^{2} + \\frac{9 i}{2}}{s + 2 + i} + \\frac{\\frac{7}{2} - \\frac{9 i}{2} - \\left(-2 + i\\right)^{2}}{s + 2 - i} - \\frac{1}{s + 3}$$"
      ],
      "text/plain": [
       "7           2   9⋅ⅈ   7   9⋅ⅈ           2        \n",
       "─ - (-2 - ⅈ)  + ───   ─ - ─── - (-2 + ⅈ)         \n",
       "2                2    2    2                  1  \n",
       "─────────────────── + ─────────────────── - ─────\n",
       "     s + 2 + ⅈ             s + 2 - ⅈ        s + 3"
      ]
     },
     "execution_count": 18,
     "metadata": {},
     "output_type": "execute_result"
    }
   ],
   "source": [
    "pfd=partfrac.apart(equ,full=True).doit()\n",
    "pfd"
   ]
  },
  {
   "cell_type": "code",
   "execution_count": 19,
   "metadata": {
    "collapsed": false
   },
   "outputs": [
    {
     "data": {
      "image/png": "[encoded data removed]",
      "text/latex": [
       "$$\\left ( - \\frac{1}{s + 3}, \\quad \\frac{1 + i}{2 s + 4 + 2 i}, \\quad \\frac{\\frac{1}{2} - \\frac{i}{2}}{s + 2 - i}\\right )$$"
      ],
      "text/plain": [
       "⎛                        1   ⅈ  ⎞\n",
       "⎜                        ─ - ─  ⎟\n",
       "⎜ -1        1 + ⅈ        2   2  ⎟\n",
       "⎜─────, ─────────────, ─────────⎟\n",
       "⎝s + 3  2⋅(s + 2 + ⅈ)  s + 2 - ⅈ⎠"
      ]
     },
     "execution_count": 19,
     "metadata": {},
     "output_type": "execute_result"
    }
   ],
   "source": [
    "(sp.simplify(pfd.args[0]),sp.simplify(pfd.args[1]),sp.simplify(pfd.args[2]))"
   ]
  },
  {
   "cell_type": "markdown",
   "metadata": {
    "collapsed": false
   },
   "source": [
    "\\begin{equation}\n",
    "G(z)=-\\frac 1 {1-e^{-3/4}z^{-1}}+\\frac {1/2+i/2}{1-e^{-2-i}z^{-1}}+\\frac {1/2-i/2} {1-e^{-2+i}z^{-1}}\n",
    "\\end{equation}"
   ]
  },
  {
   "cell_type": "markdown",
   "metadata": {},
   "source": [
    "## Question 4\n",
    "\n",
    "The following causal IIR digital transfer function was designed using the bilinear transform with $T=2$. Determine its parent causal analog transfer function.\n",
    "\n",
    "\\begin{equation}\n",
    "G_a(z)=\\frac{4(z^2+z-2)}{10z^2+4z+6}\n",
    "\\end{equation}"
   ]
  },
  {
   "cell_type": "code",
   "execution_count": 20,
   "metadata": {
    "collapsed": false
   },
   "outputs": [
    {
     "data": {
      "image/png": "[encoded data removed]",
      "text/latex": [
       "$$\\frac{4 z^{2} + 4 z - 8}{10 z^{2} + 4 z + 6}$$"
      ],
      "text/plain": [
       "    2          \n",
       " 4⋅z  + 4⋅z - 8\n",
       "───────────────\n",
       "    2          \n",
       "10⋅z  + 4⋅z + 6"
      ]
     },
     "execution_count": 20,
     "metadata": {},
     "output_type": "execute_result"
    }
   ],
   "source": [
    "z=sp.S('z')\n",
    "G=4*(z**2+z-2)/(10*z**2+4*z+6)\n",
    "G"
   ]
  },
  {
   "cell_type": "code",
   "execution_count": 21,
   "metadata": {
    "collapsed": false
   },
   "outputs": [
    {
     "data": {
      "image/png": "[encoded data removed]",
      "text/latex": [
       "$$- \\frac{2 s \\left(s - 3\\right)}{3 s^{2} + 2 s + 5}$$"
      ],
      "text/plain": [
       "-2⋅s⋅(s - 3)  \n",
       "──────────────\n",
       "   2          \n",
       "3⋅s  + 2⋅s + 5"
      ]
     },
     "execution_count": 21,
     "metadata": {},
     "output_type": "execute_result"
    }
   ],
   "source": [
    "sp.simplify(G.subs(z,(1+s)/(1-s)))"
   ]
  }
 ],
 "metadata": {
  "kernelspec": {
   "display_name": "Python 2",
   "language": "python",
   "name": "python2"
  },
  "language_info": {
   "codemirror_mode": {
    "name": "ipython",
    "version": 2
   },
   "file_extension": ".py",
   "mimetype": "text/x-python",
   "name": "python",
   "nbconvert_exporter": "python",
   "pygments_lexer": "ipython2",
   "version": "2.7.10"
  }
 },
 "nbformat": 4,
 "nbformat_minor": 0
}
