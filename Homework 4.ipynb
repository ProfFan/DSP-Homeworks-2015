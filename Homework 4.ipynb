{
 "cells": [
  {
   "cell_type": "markdown",
   "metadata": {},
   "source": [
    "\\author{Fan Jiang}\n",
    "\n",
    "# Question 1\n"
   ]
  },
  {
   "cell_type": "code",
   "execution_count": 10,
   "metadata": {
    "collapsed": false
   },
   "outputs": [
    {
     "data": {
      "text/plain": [
       "t =  1.4765\r\n"
      ]
     },
     "execution_count": 10,
     "metadata": {},
     "output_type": "execute_result"
    }
   ],
   "source": [
    "seq=randn(1,2048)\n",
    "t0=tic\n",
    "for i=1:10\n",
    "fft(seq)\n",
    "end\n",
    "t=toc(t0)"
   ]
  },
  {
   "cell_type": "code",
   "execution_count": 11,
   "metadata": {
    "collapsed": false
   },
   "outputs": [
    {
     "data": {
      "text/plain": [
       "t =  1.4885\r\n"
      ]
     },
     "execution_count": 11,
     "metadata": {},
     "output_type": "execute_result"
    }
   ],
   "source": [
    "seq=randn(1,2047)\n",
    "t0=tic\n",
    "for i=1:10\n",
    "fft(seq)\n",
    "end\n",
    "t=toc(t0)"
   ]
  },
  {
   "cell_type": "code",
   "execution_count": 12,
   "metadata": {
    "collapsed": false
   },
   "outputs": [
    {
     "data": {
      "text/plain": [
       "t =  1.4569\r\n"
      ]
     },
     "execution_count": 12,
     "metadata": {},
     "output_type": "execute_result"
    }
   ],
   "source": [
    "seq=randn(1,2020)\n",
    "t0=tic\n",
    "for i=1:10\n",
    "fft(seq)\n",
    "end\n",
    "t=toc(t0)"
   ]
  },
  {
   "cell_type": "markdown",
   "metadata": {},
   "source": [
    "# Question 2"
   ]
  },
  {
   "cell_type": "code",
   "execution_count": null,
   "metadata": {
    "collapsed": false
   },
   "outputs": [],
   "source": [
    "\n",
    "conv_time=zeros(1,260);\n",
    "fft_time=zeros(1,260);\n",
    "\n",
    "for L=1:260\n",
    "    tc=0;\n",
    "    tf=0;\n",
    "    NI=2*L-1;\n",
    "    nu=ceil(log10(NI)/log10(2));\n",
    "    N=2^nu;\n",
    "    \n",
    "    for I=1:222\n",
    "        h=rand(1,L);\n",
    "        x=1+2*rand(1,L);\n",
    "        t0=tic;\n",
    "        m=length(x); \n",
    "        n=length(h); \n",
    "        X=[x,zeros(1,n)]; \n",
    "        H=[h,zeros(1,m)]; \n",
    "        for i=1:n+m-1 \n",
    "        y1(i)=0; \n",
    "        for j=1:m \n",
    "        if(i-j+1>0) \n",
    "        y1(i)=y1(i)+X(j)*H(i-j+1); \n",
    "        else \n",
    "        end \n",
    "        end \n",
    "        end\n",
    "        t1=toc(t0);\n",
    "        tc=tc+t1;\n",
    "        t0=tic;\n",
    "        y2=ifft(fft(h,N).*fft(x,N));\n",
    "        t2=toc(t0);\n",
    "        tf=tf+t2;\n",
    "    end\n",
    "\n",
    "    conv_time(L)=tc/222;\n",
    "    fft_time(L)=tf/222;\n",
    "end\n",
    "n=1:260;\n",
    "plot(n(1:260),10000*conv_time(1:260), 'r',n(1:260),10000*fft_time(1:260), 'b')"
   ]
  },
  {
   "cell_type": "markdown",
   "metadata": {},
   "source": [
    "![](~/Notebooks/Digital Signal Processing/result.jpg)"
   ]
  }
 ],
 "metadata": {
  "kernelspec": {
   "display_name": "Octave",
   "language": "octave",
   "name": "octave_kernel"
  },
  "language_info": {
   "file_extension": ".m",
   "help_links": [
    {
     "text": "MetaKernel Magics",
     "url": "https://github.com/calysto/metakernel/blob/master/metakernel/magics/README.md"
    }
   ],
   "mimetype": "text/x-octave",
   "name": "octave_kernel"
  }
 },
 "nbformat": 4,
 "nbformat_minor": 0
}
