{
 "cells": [
  {
   "cell_type": "markdown",
   "metadata": {},
   "source": [
    "\\author{ProfFan}\n”,
    "\n",
    "# Question 1\n",
    "\n",
    "How can you determine a system that has a linear phase? (Please give at least three methods)\n"
   ]
  },
  {
   "cell_type": "markdown",
   "metadata": {},
   "source": [
    "## Determine by Definition\n",
    "\n",
    "### Definition\n",
    "\n",
    "From the definition, we know that $$H(e^{j\\omega})=|H(e^{j\\omega})|e^{j\\phi(\\omega)}$$\n",
    "and linear phase is defined as $$\\phi(\\omega)=k\\omega+\\beta$$"
   ]
  },
  {
   "cell_type": "markdown",
   "metadata": {},
   "source": [
    "### Group Delay\n",
    "\n",
    "This provided us the first method to determine whether a system is of linear phase. In this method, we evaluate the fourier transform $H(e^{j\\omega})$ and extract $\\phi(\\omega)$."
   ]
  },
  {
   "cell_type": "markdown",
   "metadata": {},
   "source": [
    "By the definition of Group Delay, we can also evaluate the Group Delay $-\\frac{d\\omega(\\phi)}{d\\omega}$ and see if it is constant. If it is then the system is of linear phase."
   ]
  },
  {
   "cell_type": "markdown",
   "metadata": {},
   "source": [
    "## FIR Systems\n",
    "\n",
    "For a FIR system, the system is of linear phase when the impulse response is symmetric, i.e. $h(n)=\\pm h(N-1-n)$. and as all FIR filters can be expressed as a series of systems of linear phase, we know that every FIR filter is of linear phase as well."
   ]
  },
  {
   "cell_type": "markdown",
   "metadata": {},
   "source": [
    "## $z$-transform\n",
    "\n",
    "A system with linear phase have the property that the zeros of $H(z)$ are also zeros of $H(z^{-1})$."
   ]
  },
  {
   "cell_type": "markdown",
   "metadata": {},
   "source": [
    "# Question 2\n",
    "\n",
    "High order all-pass system:\n",
    "\n",
    "$$H_{ap}(z)=\\pm \\prod^N_{k=1}\\bigg[\\frac{z^{-1}-\\lambda^*_k}{1-\\lambda_kz^{-1}}\\bigg], |\\lambda_k|<1$$\n",
    "\n",
    "As for this all-pass system, please try to prove that\n",
    "$$H_{ap}(e^{j\\omega})H^*_{ap}(e^{j\\omega})=|H_{ap}(e^{j\\omega})|^2=1$$\n",
    "\n"
   ]
  },
  {
   "cell_type": "markdown",
   "metadata": {},
   "source": [
    "From the definition \n",
    "$$H_{ap}(z)=\\pm \\prod^N_{k=1}\\bigg[\\frac{z^{-1}-\\lambda^*_k}{1-\\lambda_kz^{-1}}\\bigg], |\\lambda_k|<1$$\n",
    "we know that\n"
   ]
  },
  {
   "cell_type": "markdown",
   "metadata": {},
   "source": [
    "$$H_{ap}(e^{j\\omega})H_{ap}(e^{j\\omega})^*=\\prod^N_{k=1}\\bigg[\\frac{e^{-j\\omega}-\\lambda^*_k}{1-\\lambda_ke^{-j\\omega}}\\bigg] \\prod^N_{k=1}\\bigg[\\frac{e^{j\\omega}-\\lambda_k}{1-\\lambda_k^*e^{j\\omega}}\\bigg], |\\lambda_k|<1$$\n",
    "$$= \\prod^N_{k=1}\\bigg[\\frac{1+\\lambda_k^2}{1+\\lambda_k^2}\\bigg] = 1$$"
   ]
  }
 ],
 "metadata": {
  "kernelspec": {
   "display_name": "Python 2",
   "language": "python",
   "name": "python2"
  },
  "language_info": {
   "codemirror_mode": {
    "name": "ipython",
    "version": 2
   },
   "file_extension": ".py",
   "mimetype": "text/x-python",
   "name": "python",
   "nbconvert_exporter": "python",
   "pygments_lexer": "ipython2",
   "version": "2.7.10"
  }
 },
 "nbformat": 4,
 "nbformat_minor": 0
}
