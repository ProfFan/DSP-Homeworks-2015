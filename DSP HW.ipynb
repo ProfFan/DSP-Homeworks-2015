{
 "cells": [
  {
   "cell_type": "markdown",
   "metadata": {},
   "source": [
    "\\author{Fan Jiang, 11310129}\n",
    "\n",
    "# Introduction"
   ]
  },
  {
   "cell_type": "markdown",
   "metadata": {},
   "source": [
    "This document is the solution on the Implementation of FFT for the DSP Autumn 2015 session.\n",
    "\n",
    "# Section 1"
   ]
  },
  {
   "cell_type": "code",
   "execution_count": 1,
   "metadata": {
    "collapsed": false
   },
   "outputs": [],
   "source": [
    "%matplotlib inline\n",
    "\n",
    "import matplotlib.pyplot as plt\n",
    "\n",
    "from sympy import *\n",
    "init_printing()\n",
    "%config InlineBackend.figure_formats=['svg','pdf']"
   ]
  },
  {
   "cell_type": "markdown",
   "metadata": {},
   "source": [
    "First let's see the definition of DFT:\n",
    "$$X(k)=\\sum_{n=0}^{N-1}x[n]W^{kn}_N$$"
   ]
  },
  {
   "cell_type": "markdown",
   "metadata": {},
   "source": [
    "For each k, we will need $N$ complex multiplications which equals to $4N$ real multiplications and $4N-2$ real additions. As $0\\leq k \\leq N-1$, the total number of multiplications and additions is $4N^2$ and $(4N-2)N$ respectively."
   ]
  },
  {
   "cell_type": "markdown",
   "metadata": {},
   "source": [
    "# Section 2\n",
    "\n"
   ]
  },
  {
   "cell_type": "markdown",
   "metadata": {},
   "source": [
    "If $M$ DFT samples of the $N$-point DFT of a length-$N$ sequence are required with $M\\leq N$, what is the smallest value of $M$ for which the $N$-point radix-2 FFT algorithm is computationally more efficient than a direct computation of the $M$ DFT samples? What are the values of $M$ for the following values of $N$: $N=32$, $N=64$, and $N=128$."
   ]
  },
  {
   "cell_type": "markdown",
   "metadata": {},
   "source": [
    "As multiplication takes significantly more time than additions, we may ignore addition instructions. Thus the time complexity for a radix-2 FFT is $2Mlog_2N$, and for DFT is $4MN$."
   ]
  },
  {
   "cell_type": "code",
   "execution_count": 5,
   "metadata": {
    "collapsed": false
   },
   "outputs": [],
   "source": [
    "from sympy.abc import m,n"
   ]
  },
  {
   "cell_type": "code",
   "execution_count": 11,
   "metadata": {
    "collapsed": false
   },
   "outputs": [
    {
     "data": {
      "image/png": "[encoded data removed]",
      "text/latex": [
       "$$\\frac{0.5 \\log{\\left (n \\right )}}{\\log{\\left (2 \\right )}}$$"
      ],
      "text/plain": [
       "0.5⋅log(n)\n",
       "──────────\n",
       "  log(2)  "
      ]
     },
     "execution_count": 11,
     "metadata": {},
     "output_type": "execute_result"
    }
   ],
   "source": [
    "0.5*log(n,2)"
   ]
  },
  {
   "cell_type": "code",
   "execution_count": 12,
   "metadata": {
    "collapsed": false
   },
   "outputs": [
    {
     "data": {
      "image/png": "[encoded data removed]",
      "text/latex": [
       "$$2.5$$"
      ],
      "text/plain": [
       "2.50000000000000"
      ]
     },
     "execution_count": 12,
     "metadata": {},
     "output_type": "execute_result"
    }
   ],
   "source": [
    "0.5*log(32,2)"
   ]
  },
  {
   "cell_type": "code",
   "execution_count": 13,
   "metadata": {
    "collapsed": false
   },
   "outputs": [
    {
     "data": {
      "image/png": "[encoded data removed]",
      "text/latex": [
       "$$3.0$$"
      ],
      "text/plain": [
       "3.00000000000000"
      ]
     },
     "execution_count": 13,
     "metadata": {},
     "output_type": "execute_result"
    }
   ],
   "source": [
    "0.5*log(64,2)"
   ]
  },
  {
   "cell_type": "code",
   "execution_count": 14,
   "metadata": {
    "collapsed": false
   },
   "outputs": [
    {
     "data": {
      "image/png": "[encoded data removed]",
      "text/latex": [
       "$$3.5$$"
      ],
      "text/plain": [
       "3.50000000000000"
      ]
     },
     "execution_count": 14,
     "metadata": {},
     "output_type": "execute_result"
    }
   ],
   "source": [
    "0.5*log(128,2)"
   ]
  },
  {
   "cell_type": "markdown",
   "metadata": {},
   "source": [
    "# Section 3"
   ]
  },
  {
   "cell_type": "markdown",
   "metadata": {},
   "source": [
    "A 256-point DFT of a length-197 sequence $x[n]$\n",
    "is to be computed.\n",
    "- How many zero-valued samples should be appended\n",
    "to $x[n]$ prior to the computation of the DFT?\n",
    "- What are the total number of complex multiplications and additions needed for the direct evaluation of all DFT samples?\n",
    "- What are the total number of complex multiplications and additions needed if a Cooley-Tukey type FFT is used to compute the DFT samples?"
   ]
  },
  {
   "cell_type": "markdown",
   "metadata": {},
   "source": [
    "**Q1**"
   ]
  },
  {
   "cell_type": "code",
   "execution_count": 23,
   "metadata": {
    "collapsed": false
   },
   "outputs": [
    {
     "data": {
      "text/plain": [
       "'59'"
      ]
     },
     "execution_count": 23,
     "metadata": {},
     "output_type": "execute_result"
    }
   ],
   "source": [
    "str(256-197)"
   ]
  },
  {
   "cell_type": "markdown",
   "metadata": {},
   "source": [
    "**Q2**"
   ]
  },
  {
   "cell_type": "code",
   "execution_count": 21,
   "metadata": {
    "collapsed": false
   },
   "outputs": [
    {
     "data": {
      "text/plain": [
       "'Multi:65536,Add:65280'"
      ]
     },
     "execution_count": 21,
     "metadata": {},
     "output_type": "execute_result"
    }
   ],
   "source": [
    "\"Multi:%d,Add:%d\"%(256**2,256*(256-1))"
   ]
  },
  {
   "cell_type": "markdown",
   "metadata": {},
   "source": [
    "**Q3**"
   ]
  },
  {
   "cell_type": "code",
   "execution_count": 22,
   "metadata": {
    "collapsed": false
   },
   "outputs": [
    {
     "data": {
      "text/plain": [
       "'Multi:1024,Add:2048'"
      ]
     },
     "execution_count": 22,
     "metadata": {},
     "output_type": "execute_result"
    }
   ],
   "source": [
    "\"Multi:%d,Add:%d\"%(256/2*log(256,2),256*log(256,2))"
   ]
  },
  {
   "cell_type": "markdown",
   "metadata": {},
   "source": [
    "# Section 4\n",
    "\n",
    "Using the FFT algorithm, compute the 8-point DFT of the 8-point signal $x = [4, -3, 2, 0, -1, -2, 3, 1]$."
   ]
  },
  {
   "cell_type": "code",
   "execution_count": 29,
   "metadata": {
    "collapsed": true
   },
   "outputs": [],
   "source": [
    "def fft(vector, inverse):\n",
    "    # Returns the integer whose value is the reverse of the lowest 'bits' bits of the integer 'x'.\n",
    "    def reverse(x, bits):\n",
    "        y = 0\n",
    "        for i in range(bits):\n",
    "            y = (y << 1) | (x & 1)\n",
    "            x >>= 1\n",
    "        return y\n",
    "    \n",
    "    # Initialization\n",
    "    n = len(vector)\n",
    "    levels = 0\n",
    "    while True:\n",
    "        if 1 << levels == n:\n",
    "            break\n",
    "        elif 1 << levels > n:\n",
    "            raise ValueError(\"Length is not a power of 2\")\n",
    "        else:\n",
    "            levels += 1\n",
    "    # Now, levels = log2(n)\n",
    "    exptable = [exp((2j) * pi * i / n) for i in range(n // 2)]\n",
    "    vector = [vector[reverse(i, levels)] for i in range(n)]  # Copy with bit-reversed permutation\n",
    "    \n",
    "    # Radix-2 decimation-in-time FFT\n",
    "    size = 2\n",
    "    while size <= n:\n",
    "        halfsize = size // 2\n",
    "        tablestep = n // size\n",
    "        for i in range(0, n, size):\n",
    "            k = 0\n",
    "            for j in range(i, i + halfsize):\n",
    "                temp = vector[j + halfsize] * exptable[k]\n",
    "                vector[j + halfsize] = vector[j] - temp\n",
    "                vector[j] += temp\n",
    "                k += tablestep\n",
    "        size *= 2\n",
    "    return vector"
   ]
  },
  {
   "cell_type": "code",
   "execution_count": 44,
   "metadata": {
    "collapsed": false
   },
   "outputs": [
    {
     "data": {
      "image/png": "[encoded data removed]",
      "text/latex": [
       "$$\\left [ 4, \\quad 5 + i \\left(- \\sqrt{2} - 1\\right), \\quad -2 - 6 i, \\quad 5 + i \\left(- \\sqrt{2} + 1\\right), \\quad 12, \\quad 5 + i \\left(-1 + \\sqrt{2}\\right), \\quad -2 + 6 i, \\quad 5 + i \\left(1 + \\sqrt{2}\\right)\\right ]$$"
      ],
      "text/plain": [
       "⎡         ⎛    ___    ⎞                  ⎛    ___    ⎞            ⎛       ___⎞\n",
       "⎣4, 5 + ⅈ⋅⎝- ╲╱ 2  - 1⎠, -2 - 6⋅ⅈ, 5 + ⅈ⋅⎝- ╲╱ 2  + 1⎠, 12, 5 + ⅈ⋅⎝-1 + ╲╱ 2 ⎠\n",
       "\n",
       "                  ⎛      ___⎞⎤\n",
       ", -2 + 6⋅ⅈ, 5 + ⅈ⋅⎝1 + ╲╱ 2 ⎠⎦"
      ]
     },
     "execution_count": 44,
     "metadata": {},
     "output_type": "execute_result"
    }
   ],
   "source": [
    "result=fft([4, -3, 2, 0, -1, -2, 3, 1],False)\n",
    "map(lambda x:nsimplify(x),result)"
   ]
  }
 ],
 "metadata": {
  "kernelspec": {
   "display_name": "Python 2",
   "language": "python",
   "name": "python2"
  },
  "language_info": {
   "codemirror_mode": {
    "name": "ipython",
    "version": 2
   },
   "file_extension": ".py",
   "mimetype": "text/x-python",
   "name": "python",
   "nbconvert_exporter": "python",
   "pygments_lexer": "ipython2",
   "version": "2.7.11"
  }
 },
 "nbformat": 4,
 "nbformat_minor": 0
}
